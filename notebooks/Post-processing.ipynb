{
 "cells": [
  {
   "metadata": {},
   "cell_type": "markdown",
   "source": "# Post-processing extracted data",
   "id": "d1f15bb0cb01a624"
  },
  {
   "metadata": {},
   "cell_type": "markdown",
   "source": "## Load dataframe",
   "id": "cc7f411927fb6e07"
  },
  {
   "metadata": {
    "collapsed": true,
    "ExecuteTime": {
     "end_time": "2025-06-26T20:53:54.448534Z",
     "start_time": "2025-06-26T20:53:54.444530Z"
    }
   },
   "cell_type": "code",
   "source": [
    "import ast\n",
    "from openai import OpenAI\n",
    "import os\n",
    "from concurrent.futures import ThreadPoolExecutor, as_completed\n",
    "from tqdm.notebook import tqdm\n",
    "import isbnlib\n",
    "from PIL import Image\n",
    "import io\n",
    "import pandas as pd\n",
    "import base64"
   ],
   "id": "initial_id",
   "outputs": [],
   "execution_count": 142
  },
  {
   "metadata": {
    "ExecuteTime": {
     "end_time": "2025-06-26T20:25:14.865863Z",
     "start_time": "2025-06-26T20:25:14.858187Z"
    }
   },
   "cell_type": "code",
   "source": [
    "df = pd.read_json('../output/progress.json', orient='records')\n",
    "df['isbn'] = df['llm_isbn']\n",
    "df['doi'] = df['llm_doi']\n",
    "df.drop(['llm_isbn', 'llm_doi', 'doi'], axis=1, inplace=True)\n"
   ],
   "id": "7b56ae1ee05ad0d5",
   "outputs": [],
   "execution_count": 104
  },
  {
   "metadata": {},
   "cell_type": "markdown",
   "source": "## Parsing authors",
   "id": "e9c8bfb07445dea6"
  },
  {
   "metadata": {
    "ExecuteTime": {
     "end_time": "2025-06-26T20:25:14.877628Z",
     "start_time": "2025-06-26T20:25:14.874295Z"
    }
   },
   "cell_type": "code",
   "source": [
    "def parse_authors(authors):\n",
    "    \"\"\"Convert authors to a list of strings, handling various input formats.\"\"\"\n",
    "    # Handle scalar NA values\n",
    "    if isinstance(authors, (float, int, str, type(None))) and (pd.isna(authors) or authors is None):\n",
    "        return []\n",
    "\n",
    "    if isinstance(authors, list):\n",
    "        return authors\n",
    "\n",
    "    if isinstance(authors, str):\n",
    "        # Try to parse as a Python list literal\n",
    "        try:\n",
    "            parsed = ast.literal_eval(authors)\n",
    "            if isinstance(parsed, list):\n",
    "                return parsed\n",
    "        except (SyntaxError, ValueError):\n",
    "            pass\n",
    "\n",
    "        # If it's a string but not a list literal, split by common separators\n",
    "        if '|' in authors:\n",
    "            return [a.strip() for a in authors.split('|') if a.strip()]\n",
    "        elif ';' in authors:\n",
    "            return [a.strip() for a in authors.split(';') if a.strip()]\n",
    "        elif ',' in authors:\n",
    "            return [a.strip() for a in authors.split(',') if a.strip()]\n",
    "        else:\n",
    "            return [authors]\n",
    "\n",
    "    return [str(authors)]"
   ],
   "id": "8948551a54e9bfc0",
   "outputs": [],
   "execution_count": 105
  },
  {
   "metadata": {
    "ExecuteTime": {
     "end_time": "2025-06-26T20:25:14.888703Z",
     "start_time": "2025-06-26T20:25:14.885184Z"
    }
   },
   "cell_type": "code",
   "source": [
    "from os.path import basename\n",
    "\n",
    "df['authors'] = df['authors'].apply(parse_authors)\n",
    "df['basename'] = df['dirname'].apply(basename)"
   ],
   "id": "49e6564d09bd48b9",
   "outputs": [],
   "execution_count": 106
  },
  {
   "metadata": {},
   "cell_type": "markdown",
   "source": "## Create PDF Path",
   "id": "350783e650817f0b"
  },
  {
   "metadata": {
    "ExecuteTime": {
     "end_time": "2025-06-26T20:25:14.899291Z",
     "start_time": "2025-06-26T20:25:14.896118Z"
    }
   },
   "cell_type": "code",
   "source": "df['pdf_path'] = df.apply(lambda row: f\"{row.dirname}/stream_pdf/{row.basename.replace('CVI_', '')}.pdf\", axis=1)",
   "id": "26d9462d6ce451a4",
   "outputs": [],
   "execution_count": 107
  },
  {
   "metadata": {},
   "cell_type": "markdown",
   "source": "## Unifying publishers",
   "id": "52b60eebe9c2c478"
  },
  {
   "metadata": {
    "ExecuteTime": {
     "end_time": "2025-06-26T20:25:14.908948Z",
     "start_time": "2025-06-26T20:25:14.906634Z"
    }
   },
   "cell_type": "code",
   "source": [
    "# Map similar publisher names to unified format\n",
    "publisher_mapping = {\n",
    "    'SLOVENSKÁ TECHNICKÁ UNIVERZITA V BRATISLAVE': 'Slovenská technická univerzita v Bratislave',\n",
    "    'STU Bratislava': 'Slovenská technická univerzita v Bratislave',\n",
    "}\n",
    "df['publisher'] = df['publisher'].replace(publisher_mapping)"
   ],
   "id": "72d1bb8ac8dc5bab",
   "outputs": [],
   "execution_count": 108
  },
  {
   "metadata": {},
   "cell_type": "markdown",
   "source": "## Recreating summaries",
   "id": "6ea70055bfd76ce0"
  },
  {
   "metadata": {
    "ExecuteTime": {
     "end_time": "2025-06-26T20:25:14.919056Z",
     "start_time": "2025-06-26T20:25:14.916533Z"
    }
   },
   "cell_type": "code",
   "source": [
    "def parallel_apply_with_progress(func, iterable, workers=8, desc=\"Processing\"):\n",
    "    results = [None] * len(iterable)\n",
    "    with ThreadPoolExecutor(max_workers=workers) as executor:\n",
    "        # Start all tasks immediately\n",
    "        futures = {executor.submit(func, val): i for i, val in enumerate(iterable)}\n",
    "        for future in tqdm(as_completed(futures), total=len(futures), desc=desc):\n",
    "            idx = futures[future]\n",
    "            try:\n",
    "                results[idx] = future.result()\n",
    "            except Exception as e:\n",
    "                results[idx] = f\"ERROR: {str(e)}\"\n",
    "    return results"
   ],
   "id": "a158aae1999b5a44",
   "outputs": [],
   "execution_count": 109
  },
  {
   "metadata": {
    "ExecuteTime": {
     "end_time": "2025-06-26T20:25:14.933278Z",
     "start_time": "2025-06-26T20:25:14.926425Z"
    }
   },
   "cell_type": "code",
   "source": [
    "client = OpenAI(api_key=os.getenv(\"OPENAI_API_KEY\"))\n",
    "\n",
    "def generate_description(summary, language='English'):\n",
    "    system_prompt = (\n",
    "        \"You are a tool which is creating book descriptions according to the information in a prompt. \"\n",
    "        \"Those descriptions will be used as product descriptions in libraries. \"\n",
    "        \"Be informative, pragmatic yet kinda popular. \"\n",
    "        \"Summaries suppose to be short and concise. Maximum 2 short paragraphs. \"\n",
    "        f\"Generate the description in {language} language.\"\n",
    "    )\n",
    "\n",
    "    try:\n",
    "        response = client.chat.completions.create(\n",
    "            model=\"gpt-4-turbo\",\n",
    "            messages=[\n",
    "                {\"role\": \"system\", \"content\": system_prompt},\n",
    "                {\"role\": \"user\", \"content\": summary}\n",
    "            ],\n",
    "            timeout=30  # prevent infinite hanging, optional\n",
    "        )\n",
    "        return response.choices[0].message.content.strip()\n",
    "    except Exception as e:\n",
    "        return f\"ERROR: {str(e)}\""
   ],
   "id": "8650e36fbe5913d5",
   "outputs": [],
   "execution_count": 110
  },
  {
   "metadata": {
    "ExecuteTime": {
     "end_time": "2025-06-26T20:26:20.827066Z",
     "start_time": "2025-06-26T20:25:14.941070Z"
    }
   },
   "cell_type": "code",
   "source": [
    "df['summary_en'] = parallel_apply_with_progress(\n",
    "    lambda x: generate_description(x, language='English'),\n",
    "    df['summary'].tolist(),\n",
    "    workers=16,\n",
    "    desc=\"Generating summaries\"\n",
    ")"
   ],
   "id": "33f9ddf0204cfb3c",
   "outputs": [
    {
     "data": {
      "text/plain": [
       "Generating summaries:   0%|          | 0/134 [00:00<?, ?it/s]"
      ],
      "application/vnd.jupyter.widget-view+json": {
       "version_major": 2,
       "version_minor": 0,
       "model_id": "5f935011dd4e4a6e8ba425bee2d6ff32"
      }
     },
     "metadata": {},
     "output_type": "display_data"
    }
   ],
   "execution_count": 111
  },
  {
   "metadata": {
    "ExecuteTime": {
     "end_time": "2025-06-26T20:30:37.165279Z",
     "start_time": "2025-06-26T20:30:17.165613Z"
    }
   },
   "cell_type": "code",
   "source": [
    "df['summary_sk'] = parallel_apply_with_progress(\n",
    "    lambda x: generate_description(x, language='Slovak'),\n",
    "    df['summary'].tolist(),\n",
    "    workers=8,\n",
    "    desc=\"Generating summaries\"\n",
    ")"
   ],
   "id": "92a22a3446e02f9c",
   "outputs": [
    {
     "data": {
      "text/plain": [
       "Generating summaries:   0%|          | 0/134 [00:00<?, ?it/s]"
      ],
      "application/vnd.jupyter.widget-view+json": {
       "version_major": 2,
       "version_minor": 0,
       "model_id": "052c1824f532418e90897aacf0344991"
      }
     },
     "metadata": {},
     "output_type": "display_data"
    },
    {
     "ename": "KeyboardInterrupt",
     "evalue": "",
     "output_type": "error",
     "traceback": [
      "\u001B[31m---------------------------------------------------------------------------\u001B[39m",
      "\u001B[31mKeyboardInterrupt\u001B[39m                         Traceback (most recent call last)",
      "\u001B[36mCell\u001B[39m\u001B[36m \u001B[39m\u001B[32mIn[109]\u001B[39m\u001B[32m, line 6\u001B[39m, in \u001B[36mparallel_apply_with_progress\u001B[39m\u001B[34m(func, iterable, workers, desc)\u001B[39m\n\u001B[32m      5\u001B[39m futures = {executor.submit(func, val): i \u001B[38;5;28;01mfor\u001B[39;00m i, val \u001B[38;5;129;01min\u001B[39;00m \u001B[38;5;28menumerate\u001B[39m(iterable)}\n\u001B[32m----> \u001B[39m\u001B[32m6\u001B[39m \u001B[43m\u001B[49m\u001B[38;5;28;43;01mfor\u001B[39;49;00m\u001B[43m \u001B[49m\u001B[43mfuture\u001B[49m\u001B[43m \u001B[49m\u001B[38;5;129;43;01min\u001B[39;49;00m\u001B[43m \u001B[49m\u001B[43mtqdm\u001B[49m\u001B[43m(\u001B[49m\u001B[43mas_completed\u001B[49m\u001B[43m(\u001B[49m\u001B[43mfutures\u001B[49m\u001B[43m)\u001B[49m\u001B[43m,\u001B[49m\u001B[43m \u001B[49m\u001B[43mtotal\u001B[49m\u001B[43m=\u001B[49m\u001B[38;5;28;43mlen\u001B[39;49m\u001B[43m(\u001B[49m\u001B[43mfutures\u001B[49m\u001B[43m)\u001B[49m\u001B[43m,\u001B[49m\u001B[43m \u001B[49m\u001B[43mdesc\u001B[49m\u001B[43m=\u001B[49m\u001B[43mdesc\u001B[49m\u001B[43m)\u001B[49m\u001B[43m:\u001B[49m\n\u001B[32m      7\u001B[39m \u001B[43m    \u001B[49m\u001B[43midx\u001B[49m\u001B[43m \u001B[49m\u001B[43m=\u001B[49m\u001B[43m \u001B[49m\u001B[43mfutures\u001B[49m\u001B[43m[\u001B[49m\u001B[43mfuture\u001B[49m\u001B[43m]\u001B[49m\n",
      "\u001B[36mFile \u001B[39m\u001B[32m~/Projects/EvilFlowers/evilflowers-webdav-import/.venv/lib/python3.13/site-packages/tqdm/notebook.py:250\u001B[39m, in \u001B[36mtqdm_notebook.__iter__\u001B[39m\u001B[34m(self)\u001B[39m\n\u001B[32m    249\u001B[39m it = \u001B[38;5;28msuper\u001B[39m().\u001B[34m__iter__\u001B[39m()\n\u001B[32m--> \u001B[39m\u001B[32m250\u001B[39m \u001B[43m\u001B[49m\u001B[38;5;28;43;01mfor\u001B[39;49;00m\u001B[43m \u001B[49m\u001B[43mobj\u001B[49m\u001B[43m \u001B[49m\u001B[38;5;129;43;01min\u001B[39;49;00m\u001B[43m \u001B[49m\u001B[43mit\u001B[49m\u001B[43m:\u001B[49m\n\u001B[32m    251\u001B[39m \u001B[43m    \u001B[49m\u001B[38;5;66;43;03m# return super(tqdm...) will not catch exception\u001B[39;49;00m\n\u001B[32m    252\u001B[39m \u001B[43m    \u001B[49m\u001B[38;5;28;43;01myield\u001B[39;49;00m\u001B[43m \u001B[49m\u001B[43mobj\u001B[49m\n",
      "\u001B[36mFile \u001B[39m\u001B[32m~/Projects/EvilFlowers/evilflowers-webdav-import/.venv/lib/python3.13/site-packages/tqdm/std.py:1181\u001B[39m, in \u001B[36mtqdm.__iter__\u001B[39m\u001B[34m(self)\u001B[39m\n\u001B[32m   1180\u001B[39m \u001B[38;5;28;01mtry\u001B[39;00m:\n\u001B[32m-> \u001B[39m\u001B[32m1181\u001B[39m \u001B[43m    \u001B[49m\u001B[38;5;28;43;01mfor\u001B[39;49;00m\u001B[43m \u001B[49m\u001B[43mobj\u001B[49m\u001B[43m \u001B[49m\u001B[38;5;129;43;01min\u001B[39;49;00m\u001B[43m \u001B[49m\u001B[43miterable\u001B[49m\u001B[43m:\u001B[49m\n\u001B[32m   1182\u001B[39m \u001B[43m        \u001B[49m\u001B[38;5;28;43;01myield\u001B[39;49;00m\u001B[43m \u001B[49m\u001B[43mobj\u001B[49m\n",
      "\u001B[36mFile \u001B[39m\u001B[32m~/.pyenv/versions/3.13.0/lib/python3.13/concurrent/futures/_base.py:243\u001B[39m, in \u001B[36mas_completed\u001B[39m\u001B[34m(fs, timeout)\u001B[39m\n\u001B[32m    239\u001B[39m         \u001B[38;5;28;01mraise\u001B[39;00m \u001B[38;5;167;01mTimeoutError\u001B[39;00m(\n\u001B[32m    240\u001B[39m                 \u001B[33m'\u001B[39m\u001B[38;5;132;01m%d\u001B[39;00m\u001B[33m (of \u001B[39m\u001B[38;5;132;01m%d\u001B[39;00m\u001B[33m) futures unfinished\u001B[39m\u001B[33m'\u001B[39m % (\n\u001B[32m    241\u001B[39m                 \u001B[38;5;28mlen\u001B[39m(pending), total_futures))\n\u001B[32m--> \u001B[39m\u001B[32m243\u001B[39m \u001B[43mwaiter\u001B[49m\u001B[43m.\u001B[49m\u001B[43mevent\u001B[49m\u001B[43m.\u001B[49m\u001B[43mwait\u001B[49m\u001B[43m(\u001B[49m\u001B[43mwait_timeout\u001B[49m\u001B[43m)\u001B[49m\n\u001B[32m    245\u001B[39m \u001B[38;5;28;01mwith\u001B[39;00m waiter.lock:\n",
      "\u001B[36mFile \u001B[39m\u001B[32m~/.pyenv/versions/3.13.0/lib/python3.13/threading.py:659\u001B[39m, in \u001B[36mEvent.wait\u001B[39m\u001B[34m(self, timeout)\u001B[39m\n\u001B[32m    658\u001B[39m \u001B[38;5;28;01mif\u001B[39;00m \u001B[38;5;129;01mnot\u001B[39;00m signaled:\n\u001B[32m--> \u001B[39m\u001B[32m659\u001B[39m     signaled = \u001B[38;5;28;43mself\u001B[39;49m\u001B[43m.\u001B[49m\u001B[43m_cond\u001B[49m\u001B[43m.\u001B[49m\u001B[43mwait\u001B[49m\u001B[43m(\u001B[49m\u001B[43mtimeout\u001B[49m\u001B[43m)\u001B[49m\n\u001B[32m    660\u001B[39m \u001B[38;5;28;01mreturn\u001B[39;00m signaled\n",
      "\u001B[36mFile \u001B[39m\u001B[32m~/.pyenv/versions/3.13.0/lib/python3.13/threading.py:359\u001B[39m, in \u001B[36mCondition.wait\u001B[39m\u001B[34m(self, timeout)\u001B[39m\n\u001B[32m    358\u001B[39m \u001B[38;5;28;01mif\u001B[39;00m timeout \u001B[38;5;129;01mis\u001B[39;00m \u001B[38;5;28;01mNone\u001B[39;00m:\n\u001B[32m--> \u001B[39m\u001B[32m359\u001B[39m     \u001B[43mwaiter\u001B[49m\u001B[43m.\u001B[49m\u001B[43macquire\u001B[49m\u001B[43m(\u001B[49m\u001B[43m)\u001B[49m\n\u001B[32m    360\u001B[39m     gotit = \u001B[38;5;28;01mTrue\u001B[39;00m\n",
      "\u001B[31mKeyboardInterrupt\u001B[39m: ",
      "\nDuring handling of the above exception, another exception occurred:\n",
      "\u001B[31mKeyboardInterrupt\u001B[39m                         Traceback (most recent call last)",
      "\u001B[36mCell\u001B[39m\u001B[36m \u001B[39m\u001B[32mIn[114]\u001B[39m\u001B[32m, line 1\u001B[39m\n\u001B[32m----> \u001B[39m\u001B[32m1\u001B[39m df[\u001B[33m'\u001B[39m\u001B[33msummary_sk\u001B[39m\u001B[33m'\u001B[39m] = \u001B[43mparallel_apply_with_progress\u001B[49m\u001B[43m(\u001B[49m\n\u001B[32m      2\u001B[39m \u001B[43m    \u001B[49m\u001B[38;5;28;43;01mlambda\u001B[39;49;00m\u001B[43m \u001B[49m\u001B[43mx\u001B[49m\u001B[43m:\u001B[49m\u001B[43m \u001B[49m\u001B[43mgenerate_description\u001B[49m\u001B[43m(\u001B[49m\u001B[43mx\u001B[49m\u001B[43m,\u001B[49m\u001B[43m \u001B[49m\u001B[43mlanguage\u001B[49m\u001B[43m=\u001B[49m\u001B[33;43m'\u001B[39;49m\u001B[33;43mSlovak\u001B[39;49m\u001B[33;43m'\u001B[39;49m\u001B[43m)\u001B[49m\u001B[43m,\u001B[49m\n\u001B[32m      3\u001B[39m \u001B[43m    \u001B[49m\u001B[43mdf\u001B[49m\u001B[43m[\u001B[49m\u001B[33;43m'\u001B[39;49m\u001B[33;43msummary\u001B[39;49m\u001B[33;43m'\u001B[39;49m\u001B[43m]\u001B[49m\u001B[43m.\u001B[49m\u001B[43mtolist\u001B[49m\u001B[43m(\u001B[49m\u001B[43m)\u001B[49m\u001B[43m,\u001B[49m\n\u001B[32m      4\u001B[39m \u001B[43m    \u001B[49m\u001B[43mworkers\u001B[49m\u001B[43m=\u001B[49m\u001B[32;43m8\u001B[39;49m\u001B[43m,\u001B[49m\n\u001B[32m      5\u001B[39m \u001B[43m    \u001B[49m\u001B[43mdesc\u001B[49m\u001B[43m=\u001B[49m\u001B[33;43m\"\u001B[39;49m\u001B[33;43mGenerating summaries\u001B[39;49m\u001B[33;43m\"\u001B[39;49m\n\u001B[32m      6\u001B[39m \u001B[43m)\u001B[49m\n",
      "\u001B[36mCell\u001B[39m\u001B[36m \u001B[39m\u001B[32mIn[109]\u001B[39m\u001B[32m, line 3\u001B[39m, in \u001B[36mparallel_apply_with_progress\u001B[39m\u001B[34m(func, iterable, workers, desc)\u001B[39m\n\u001B[32m      1\u001B[39m \u001B[38;5;28;01mdef\u001B[39;00m\u001B[38;5;250m \u001B[39m\u001B[34mparallel_apply_with_progress\u001B[39m(func, iterable, workers=\u001B[32m8\u001B[39m, desc=\u001B[33m\"\u001B[39m\u001B[33mProcessing\u001B[39m\u001B[33m\"\u001B[39m):\n\u001B[32m      2\u001B[39m     results = [\u001B[38;5;28;01mNone\u001B[39;00m] * \u001B[38;5;28mlen\u001B[39m(iterable)\n\u001B[32m----> \u001B[39m\u001B[32m3\u001B[39m     \u001B[38;5;28;01mwith\u001B[39;00m ThreadPoolExecutor(max_workers=workers) \u001B[38;5;28;01mas\u001B[39;00m executor:\n\u001B[32m      4\u001B[39m         \u001B[38;5;66;03m# Start all tasks immediately\u001B[39;00m\n\u001B[32m      5\u001B[39m         futures = {executor.submit(func, val): i \u001B[38;5;28;01mfor\u001B[39;00m i, val \u001B[38;5;129;01min\u001B[39;00m \u001B[38;5;28menumerate\u001B[39m(iterable)}\n\u001B[32m      6\u001B[39m         \u001B[38;5;28;01mfor\u001B[39;00m future \u001B[38;5;129;01min\u001B[39;00m tqdm(as_completed(futures), total=\u001B[38;5;28mlen\u001B[39m(futures), desc=desc):\n",
      "\u001B[36mFile \u001B[39m\u001B[32m~/.pyenv/versions/3.13.0/lib/python3.13/concurrent/futures/_base.py:647\u001B[39m, in \u001B[36mExecutor.__exit__\u001B[39m\u001B[34m(self, exc_type, exc_val, exc_tb)\u001B[39m\n\u001B[32m    646\u001B[39m \u001B[38;5;28;01mdef\u001B[39;00m\u001B[38;5;250m \u001B[39m\u001B[34m__exit__\u001B[39m(\u001B[38;5;28mself\u001B[39m, exc_type, exc_val, exc_tb):\n\u001B[32m--> \u001B[39m\u001B[32m647\u001B[39m     \u001B[38;5;28;43mself\u001B[39;49m\u001B[43m.\u001B[49m\u001B[43mshutdown\u001B[49m\u001B[43m(\u001B[49m\u001B[43mwait\u001B[49m\u001B[43m=\u001B[49m\u001B[38;5;28;43;01mTrue\u001B[39;49;00m\u001B[43m)\u001B[49m\n\u001B[32m    648\u001B[39m     \u001B[38;5;28;01mreturn\u001B[39;00m \u001B[38;5;28;01mFalse\u001B[39;00m\n",
      "\u001B[36mFile \u001B[39m\u001B[32m~/.pyenv/versions/3.13.0/lib/python3.13/concurrent/futures/thread.py:238\u001B[39m, in \u001B[36mThreadPoolExecutor.shutdown\u001B[39m\u001B[34m(self, wait, cancel_futures)\u001B[39m\n\u001B[32m    236\u001B[39m \u001B[38;5;28;01mif\u001B[39;00m wait:\n\u001B[32m    237\u001B[39m     \u001B[38;5;28;01mfor\u001B[39;00m t \u001B[38;5;129;01min\u001B[39;00m \u001B[38;5;28mself\u001B[39m._threads:\n\u001B[32m--> \u001B[39m\u001B[32m238\u001B[39m         \u001B[43mt\u001B[49m\u001B[43m.\u001B[49m\u001B[43mjoin\u001B[49m\u001B[43m(\u001B[49m\u001B[43m)\u001B[49m\n",
      "\u001B[36mFile \u001B[39m\u001B[32m~/.pyenv/versions/3.13.0/lib/python3.13/threading.py:1092\u001B[39m, in \u001B[36mThread.join\u001B[39m\u001B[34m(self, timeout)\u001B[39m\n\u001B[32m   1089\u001B[39m \u001B[38;5;28;01mif\u001B[39;00m timeout \u001B[38;5;129;01mis\u001B[39;00m \u001B[38;5;129;01mnot\u001B[39;00m \u001B[38;5;28;01mNone\u001B[39;00m:\n\u001B[32m   1090\u001B[39m     timeout = \u001B[38;5;28mmax\u001B[39m(timeout, \u001B[32m0\u001B[39m)\n\u001B[32m-> \u001B[39m\u001B[32m1092\u001B[39m \u001B[38;5;28;43mself\u001B[39;49m\u001B[43m.\u001B[49m\u001B[43m_handle\u001B[49m\u001B[43m.\u001B[49m\u001B[43mjoin\u001B[49m\u001B[43m(\u001B[49m\u001B[43mtimeout\u001B[49m\u001B[43m)\u001B[49m\n",
      "\u001B[31mKeyboardInterrupt\u001B[39m: "
     ]
    }
   ],
   "execution_count": 114
  },
  {
   "metadata": {
    "ExecuteTime": {
     "end_time": "2025-06-26T20:31:13.261402Z",
     "start_time": "2025-06-26T20:31:13.089596Z"
    }
   },
   "cell_type": "code",
   "source": "df.to_excel('../output/summary.xlsx', index=False)",
   "id": "a2829f813661ce43",
   "outputs": [],
   "execution_count": 116
  },
  {
   "metadata": {},
   "cell_type": "markdown",
   "source": "## ISBN correction",
   "id": "d1ddc23f41849d37"
  },
  {
   "metadata": {
    "ExecuteTime": {
     "end_time": "2025-06-26T20:38:13.828255Z",
     "start_time": "2025-06-26T20:38:13.823976Z"
    }
   },
   "cell_type": "code",
   "source": [
    "isbn_example = '80-227-1853-X'\n",
    "isbnlib.meta(isbn_example)"
   ],
   "id": "5ef4d05efaa200f7",
   "outputs": [
    {
     "data": {
      "text/plain": [
       "{'ISBN-13': '9788022718530',\n",
       " 'Title': 'Motorové vozidlá - Projektovanie vozidiel. III',\n",
       " 'Authors': ['Pavol Hudec'],\n",
       " 'Publisher': '',\n",
       " 'Year': '2003',\n",
       " 'Language': 'sk'}"
      ]
     },
     "execution_count": 131,
     "metadata": {},
     "output_type": "execute_result"
    }
   ],
   "execution_count": 131
  },
  {
   "metadata": {
    "ExecuteTime": {
     "end_time": "2025-06-26T20:39:57.960933Z",
     "start_time": "2025-06-26T20:39:57.958692Z"
    }
   },
   "cell_type": "code",
   "source": [
    "def retrieve_isbn(isbn):\n",
    "    try:\n",
    "        content =  isbnlib.meta(isbn)\n",
    "        return content.get('Title'), content.get('Authors'), content.get('Publisher'), content.get('Year')\n",
    "    except isbnlib.NotValidISBNError:\n",
    "        return None"
   ],
   "id": "1ee0164df092782a",
   "outputs": [],
   "execution_count": 132
  },
  {
   "metadata": {
    "ExecuteTime": {
     "end_time": "2025-06-26T20:44:48.026023Z",
     "start_time": "2025-06-26T20:44:48.020223Z"
    }
   },
   "cell_type": "code",
   "source": [
    "def update_row_with_isbn(row):\n",
    "    # row: pd.Series\n",
    "    isbn = row.get('isbn')  # Make sure 'isbn' is a column in your DataFrame\n",
    "    if not isbn:\n",
    "        return row\n",
    "\n",
    "    remote = retrieve_isbn(isbn)\n",
    "    if not remote:\n",
    "        return row\n",
    "\n",
    "    remote_title, remote_authors, remote_publisher, remote_year = remote\n",
    "\n",
    "    # Update only if remote value is present (not None or empty)\n",
    "    if remote_title:\n",
    "        row['title'] = remote_title\n",
    "    if remote_authors:\n",
    "        row['authors'] = remote_authors\n",
    "    if remote_publisher:\n",
    "        row['publisher'] = remote_publisher\n",
    "    if remote_year:\n",
    "        row['year'] = remote_year\n",
    "    return row"
   ],
   "id": "d5b9bb21f4e2304d",
   "outputs": [],
   "execution_count": 134
  },
  {
   "metadata": {
    "ExecuteTime": {
     "end_time": "2025-06-26T20:47:41.532219Z",
     "start_time": "2025-06-26T20:44:49.842329Z"
    }
   },
   "cell_type": "code",
   "source": "df = df.apply(update_row_with_isbn, axis=1)",
   "id": "5628a3684db2d88c",
   "outputs": [],
   "execution_count": 135
  },
  {
   "metadata": {
    "ExecuteTime": {
     "end_time": "2025-06-26T20:48:27.075669Z",
     "start_time": "2025-06-26T20:48:26.913348Z"
    }
   },
   "cell_type": "code",
   "source": "df.to_parquet('../output/summary.parquet')",
   "id": "f2cb2a31fdc7efc4",
   "outputs": [],
   "execution_count": 137
  },
  {
   "metadata": {
    "ExecuteTime": {
     "end_time": "2025-06-26T20:51:02.145548Z",
     "start_time": "2025-06-26T20:51:02.137952Z"
    }
   },
   "cell_type": "code",
   "source": "df",
   "id": "c9023dc2280af87a",
   "outputs": [
    {
     "data": {
      "text/plain": [
       "                                        dirname  \\\n",
       "0       /Volumes/SJF/CVI_OPACID_SJF_802271853_X   \n",
       "1     /Volumes/SJF/CVI_OPACID_SJF_9788022736244   \n",
       "2     /Volumes/SJF/CVI_OPACID_SJF_9788055313788   \n",
       "3     /Volumes/SJF/CVI_OPACID_SJF_PRUZNOST_1988   \n",
       "4    /Volumes/SJF/CVI_OPACID_SJF_TERMODINAMICKE   \n",
       "..                                          ...   \n",
       "129   /Volumes/SJF/CVI_OPACID_SJF_9788089313013   \n",
       "130   /Volumes/SJF/CVI_OPACID_SJF_9788089313358   \n",
       "131       /Volumes/SJF/CVI_OPACID_SJF_ZB_uloh_1   \n",
       "132       /Volumes/SJF/CVI_OPACID_SJF_ZB_uloh_3   \n",
       "133       /Volumes/SJF/CVI_OPACID_SJF_ZB_uloh_4   \n",
       "\n",
       "                                                 title  \\\n",
       "0       Motorové vozidlá - Projektovanie vozidiel. III   \n",
       "1         Modelovanie a simulácie v dopravnej technike   \n",
       "2                                          Tenzometria   \n",
       "3                PRUŽNOSŤ A PEVNOSŤ - Riešené príklady   \n",
       "4                               Termodynamické tabulky   \n",
       "..                                                 ...   \n",
       "129                                Teória prostriedkov   \n",
       "130    KURZY NA ZÍSKANIE ZRUČNOSTÍ S CAD/CAM SYSTÉMAMI   \n",
       "131                            zbierka úloh matematiky   \n",
       "132                    Zbierka úloh z vyšej matematiky   \n",
       "133  Zbierka úloh z vyššíj matematiky (4. časť, 3. ...   \n",
       "\n",
       "                                               authors  \\\n",
       "0                                        [Pavol Hudec]   \n",
       "1                                     [Ľuboš Magdolen]   \n",
       "2    [Dr. h.c. mult. prof. Ing. František TREBUŇA, ...   \n",
       "3              [Prof. Ing. Ján Syč-Milý, CSc.kolektiv]   \n",
       "4                                       [K. Ražnjevič]   \n",
       "..                                                 ...   \n",
       "129   [Alexander Ikrinský Jaroslav Tichý, Peter Patek]   \n",
       "130                                    [Daniel Somora]   \n",
       "131                   [J. ELIÁŠ, HORVÄTH J., KAJAN J.]   \n",
       "132            [JOZEF ELIÁŠ, JÁN HORVÁTH, JURAJ KAJAN]   \n",
       "133  [j. ELIÁŠ J. HORVÄTH J. KAJAN R. ŠULKA, JOZEF ...   \n",
       "\n",
       "                                             publisher  year  \\\n",
       "0          Slovenská technická univerzita v Bratislave  2003   \n",
       "1          Slovenská technická univerzita v Bratislave  2011   \n",
       "2                     TECHNICKÁ UNIVERZITA V KOŠICIACH  2012   \n",
       "3    VYDAVATEĽSTVO TECHNICKEJ A EKONOMICKEJ LITERATÚRY  1988   \n",
       "4    VYDAVATEĽSTVO TECHNICKEJ A EKONOMICKEJ LITERAT...  None   \n",
       "..                                                 ...   ...   \n",
       "129        Slovenská technická univerzita v Bratislave  2007   \n",
       "130                                           FX s.r.o  2008   \n",
       "131                     NAKLADATEĽSTVO aIRa BRATISLAVA  None   \n",
       "132  VYDAVATEĽSTVO TECHNICKEJ A EKONOMICKEJ LITERATÚRY  None   \n",
       "133  VYDAVATELSTVO TECHNICKEJ A EKONOMICKEJ LITERATÚRY  1970   \n",
       "\n",
       "                  isbn                                            summary  \\\n",
       "0        80-227-1853-X  The text discusses a 2003 book titled \"MOTOROV...   \n",
       "1    978-80-227-3624-4  This text discusses the importance and methods...   \n",
       "2    978-80-553-1378-8  The text discusses various strain measurement ...   \n",
       "3           284J023936  The text discusses various engineering problem...   \n",
       "4                 None  The text contains two tables and a discussion ...   \n",
       "..                 ...                                                ...   \n",
       "129  978-80-89313-01-3  This text discusses various aspects of vehicle...   \n",
       "130  978-80-89313-35-8  The text presents a detailed guide on creating...   \n",
       "131               None  This text covers several mathematical concepts...   \n",
       "132               None  The text discusses advanced concepts in differ...   \n",
       "133               None  The provided text covers various topics in com...   \n",
       "\n",
       "                                           cover_image  \\\n",
       "0    /Volumes/SJF/CVI_OPACID_SJF_802271853_X/Cover/...   \n",
       "1    /Volumes/SJF/CVI_OPACID_SJF_9788022736244/Cove...   \n",
       "2    /Volumes/SJF/CVI_OPACID_SJF_9788055313788/Cove...   \n",
       "3    /Volumes/SJF/CVI_OPACID_SJF_PRUZNOST_1988/Cove...   \n",
       "4    /Volumes/SJF/CVI_OPACID_SJF_TERMODINAMICKE/Cov...   \n",
       "..                                                 ...   \n",
       "129  /Volumes/SJF/CVI_OPACID_SJF_9788089313013/Cove...   \n",
       "130  /Volumes/SJF/CVI_OPACID_SJF_9788089313358/Cove...   \n",
       "131  /Volumes/SJF/CVI_OPACID_SJF_ZB_uloh_1/Cover/ZB...   \n",
       "132  /Volumes/SJF/CVI_OPACID_SJF_ZB_uloh_3/Cover/ZB...   \n",
       "133  /Volumes/SJF/CVI_OPACID_SJF_ZB_uloh_4/Cover/ZB...   \n",
       "\n",
       "                                              pdf_path  \\\n",
       "0    /Volumes/SJF/CVI_OPACID_SJF_802271853_X/stream...   \n",
       "1    /Volumes/SJF/CVI_OPACID_SJF_9788022736244/stre...   \n",
       "2    /Volumes/SJF/CVI_OPACID_SJF_9788055313788/stre...   \n",
       "3    /Volumes/SJF/CVI_OPACID_SJF_PRUZNOST_1988/stre...   \n",
       "4    /Volumes/SJF/CVI_OPACID_SJF_TERMODINAMICKE/str...   \n",
       "..                                                 ...   \n",
       "129  /Volumes/SJF/CVI_OPACID_SJF_9788089313013/stre...   \n",
       "130  /Volumes/SJF/CVI_OPACID_SJF_9788089313358/stre...   \n",
       "131  /Volumes/SJF/CVI_OPACID_SJF_ZB_uloh_1/stream_p...   \n",
       "132  /Volumes/SJF/CVI_OPACID_SJF_ZB_uloh_3/stream_p...   \n",
       "133  /Volumes/SJF/CVI_OPACID_SJF_ZB_uloh_4/stream_p...   \n",
       "\n",
       "                          basename  \\\n",
       "0       CVI_OPACID_SJF_802271853_X   \n",
       "1     CVI_OPACID_SJF_9788022736244   \n",
       "2     CVI_OPACID_SJF_9788055313788   \n",
       "3     CVI_OPACID_SJF_PRUZNOST_1988   \n",
       "4    CVI_OPACID_SJF_TERMODINAMICKE   \n",
       "..                             ...   \n",
       "129   CVI_OPACID_SJF_9788089313013   \n",
       "130   CVI_OPACID_SJF_9788089313358   \n",
       "131       CVI_OPACID_SJF_ZB_uloh_1   \n",
       "132       CVI_OPACID_SJF_ZB_uloh_3   \n",
       "133       CVI_OPACID_SJF_ZB_uloh_4   \n",
       "\n",
       "                                            summary_en  \\\n",
       "0    \"MOTOROVÉ VOZIDLÁ III - Projektovanie vozidiel...   \n",
       "1    \"Modeling and Simulation in Transportation Tec...   \n",
       "2    \"Understanding Strain Measurement: Techniques ...   \n",
       "3    This comprehensive textbook dives deep into th...   \n",
       "4    This resourceful text delves into the practica...   \n",
       "..                                                 ...   \n",
       "129  \"Exploring Vehicle Dynamics\" is an essential g...   \n",
       "130  This comprehensive guide delves into the intri...   \n",
       "131  \"Mastering Mathematical Concepts: From Logic t...   \n",
       "132  This specialized text offers an in-depth explo...   \n",
       "133  \"Advanced Applications of Complex Analysis in ...   \n",
       "\n",
       "                                            summary_sk  \n",
       "0    Kniha \"MOTOROVÉ VOZIDLÁ III - Projektovanie vo...  \n",
       "1    Táto kniha mapuje dôležitosť a metódy modelova...  \n",
       "2    Táto kniha poskytuje komplexný prehľad o rôzny...  \n",
       "3    Táto kniha je komplexným sprievodcom po rôznyc...  \n",
       "4    Táto kniha sa zameriava na aplikáciu lineárnej...  \n",
       "..                                                 ...  \n",
       "129  Táto kniha ponúka komplexný pohľad na dynamiku...  \n",
       "130  Praktická príručka pre tých, ktorí sa chcú nau...  \n",
       "131  Táto kniha poskytuje komplexný pohľad na nieko...  \n",
       "132  Táto kniha je komplexným zdrojom pre pokročilé...  \n",
       "133  Táto kniha poskytuje komplexný prehľad tém z o...  \n",
       "\n",
       "[134 rows x 12 columns]"
      ],
      "text/html": [
       "<div>\n",
       "<style scoped>\n",
       "    .dataframe tbody tr th:only-of-type {\n",
       "        vertical-align: middle;\n",
       "    }\n",
       "\n",
       "    .dataframe tbody tr th {\n",
       "        vertical-align: top;\n",
       "    }\n",
       "\n",
       "    .dataframe thead th {\n",
       "        text-align: right;\n",
       "    }\n",
       "</style>\n",
       "<table border=\"1\" class=\"dataframe\">\n",
       "  <thead>\n",
       "    <tr style=\"text-align: right;\">\n",
       "      <th></th>\n",
       "      <th>dirname</th>\n",
       "      <th>title</th>\n",
       "      <th>authors</th>\n",
       "      <th>publisher</th>\n",
       "      <th>year</th>\n",
       "      <th>isbn</th>\n",
       "      <th>summary</th>\n",
       "      <th>cover_image</th>\n",
       "      <th>pdf_path</th>\n",
       "      <th>basename</th>\n",
       "      <th>summary_en</th>\n",
       "      <th>summary_sk</th>\n",
       "    </tr>\n",
       "  </thead>\n",
       "  <tbody>\n",
       "    <tr>\n",
       "      <th>0</th>\n",
       "      <td>/Volumes/SJF/CVI_OPACID_SJF_802271853_X</td>\n",
       "      <td>Motorové vozidlá - Projektovanie vozidiel. III</td>\n",
       "      <td>[Pavol Hudec]</td>\n",
       "      <td>Slovenská technická univerzita v Bratislave</td>\n",
       "      <td>2003</td>\n",
       "      <td>80-227-1853-X</td>\n",
       "      <td>The text discusses a 2003 book titled \"MOTOROV...</td>\n",
       "      <td>/Volumes/SJF/CVI_OPACID_SJF_802271853_X/Cover/...</td>\n",
       "      <td>/Volumes/SJF/CVI_OPACID_SJF_802271853_X/stream...</td>\n",
       "      <td>CVI_OPACID_SJF_802271853_X</td>\n",
       "      <td>\"MOTOROVÉ VOZIDLÁ III - Projektovanie vozidiel...</td>\n",
       "      <td>Kniha \"MOTOROVÉ VOZIDLÁ III - Projektovanie vo...</td>\n",
       "    </tr>\n",
       "    <tr>\n",
       "      <th>1</th>\n",
       "      <td>/Volumes/SJF/CVI_OPACID_SJF_9788022736244</td>\n",
       "      <td>Modelovanie a simulácie v dopravnej technike</td>\n",
       "      <td>[Ľuboš Magdolen]</td>\n",
       "      <td>Slovenská technická univerzita v Bratislave</td>\n",
       "      <td>2011</td>\n",
       "      <td>978-80-227-3624-4</td>\n",
       "      <td>This text discusses the importance and methods...</td>\n",
       "      <td>/Volumes/SJF/CVI_OPACID_SJF_9788022736244/Cove...</td>\n",
       "      <td>/Volumes/SJF/CVI_OPACID_SJF_9788022736244/stre...</td>\n",
       "      <td>CVI_OPACID_SJF_9788022736244</td>\n",
       "      <td>\"Modeling and Simulation in Transportation Tec...</td>\n",
       "      <td>Táto kniha mapuje dôležitosť a metódy modelova...</td>\n",
       "    </tr>\n",
       "    <tr>\n",
       "      <th>2</th>\n",
       "      <td>/Volumes/SJF/CVI_OPACID_SJF_9788055313788</td>\n",
       "      <td>Tenzometria</td>\n",
       "      <td>[Dr. h.c. mult. prof. Ing. František TREBUŇA, ...</td>\n",
       "      <td>TECHNICKÁ UNIVERZITA V KOŠICIACH</td>\n",
       "      <td>2012</td>\n",
       "      <td>978-80-553-1378-8</td>\n",
       "      <td>The text discusses various strain measurement ...</td>\n",
       "      <td>/Volumes/SJF/CVI_OPACID_SJF_9788055313788/Cove...</td>\n",
       "      <td>/Volumes/SJF/CVI_OPACID_SJF_9788055313788/stre...</td>\n",
       "      <td>CVI_OPACID_SJF_9788055313788</td>\n",
       "      <td>\"Understanding Strain Measurement: Techniques ...</td>\n",
       "      <td>Táto kniha poskytuje komplexný prehľad o rôzny...</td>\n",
       "    </tr>\n",
       "    <tr>\n",
       "      <th>3</th>\n",
       "      <td>/Volumes/SJF/CVI_OPACID_SJF_PRUZNOST_1988</td>\n",
       "      <td>PRUŽNOSŤ A PEVNOSŤ - Riešené príklady</td>\n",
       "      <td>[Prof. Ing. Ján Syč-Milý, CSc.kolektiv]</td>\n",
       "      <td>VYDAVATEĽSTVO TECHNICKEJ A EKONOMICKEJ LITERATÚRY</td>\n",
       "      <td>1988</td>\n",
       "      <td>284J023936</td>\n",
       "      <td>The text discusses various engineering problem...</td>\n",
       "      <td>/Volumes/SJF/CVI_OPACID_SJF_PRUZNOST_1988/Cove...</td>\n",
       "      <td>/Volumes/SJF/CVI_OPACID_SJF_PRUZNOST_1988/stre...</td>\n",
       "      <td>CVI_OPACID_SJF_PRUZNOST_1988</td>\n",
       "      <td>This comprehensive textbook dives deep into th...</td>\n",
       "      <td>Táto kniha je komplexným sprievodcom po rôznyc...</td>\n",
       "    </tr>\n",
       "    <tr>\n",
       "      <th>4</th>\n",
       "      <td>/Volumes/SJF/CVI_OPACID_SJF_TERMODINAMICKE</td>\n",
       "      <td>Termodynamické tabulky</td>\n",
       "      <td>[K. Ražnjevič]</td>\n",
       "      <td>VYDAVATEĽSTVO TECHNICKEJ A EKONOMICKEJ LITERAT...</td>\n",
       "      <td>None</td>\n",
       "      <td>None</td>\n",
       "      <td>The text contains two tables and a discussion ...</td>\n",
       "      <td>/Volumes/SJF/CVI_OPACID_SJF_TERMODINAMICKE/Cov...</td>\n",
       "      <td>/Volumes/SJF/CVI_OPACID_SJF_TERMODINAMICKE/str...</td>\n",
       "      <td>CVI_OPACID_SJF_TERMODINAMICKE</td>\n",
       "      <td>This resourceful text delves into the practica...</td>\n",
       "      <td>Táto kniha sa zameriava na aplikáciu lineárnej...</td>\n",
       "    </tr>\n",
       "    <tr>\n",
       "      <th>...</th>\n",
       "      <td>...</td>\n",
       "      <td>...</td>\n",
       "      <td>...</td>\n",
       "      <td>...</td>\n",
       "      <td>...</td>\n",
       "      <td>...</td>\n",
       "      <td>...</td>\n",
       "      <td>...</td>\n",
       "      <td>...</td>\n",
       "      <td>...</td>\n",
       "      <td>...</td>\n",
       "      <td>...</td>\n",
       "    </tr>\n",
       "    <tr>\n",
       "      <th>129</th>\n",
       "      <td>/Volumes/SJF/CVI_OPACID_SJF_9788089313013</td>\n",
       "      <td>Teória prostriedkov</td>\n",
       "      <td>[Alexander Ikrinský Jaroslav Tichý, Peter Patek]</td>\n",
       "      <td>Slovenská technická univerzita v Bratislave</td>\n",
       "      <td>2007</td>\n",
       "      <td>978-80-89313-01-3</td>\n",
       "      <td>This text discusses various aspects of vehicle...</td>\n",
       "      <td>/Volumes/SJF/CVI_OPACID_SJF_9788089313013/Cove...</td>\n",
       "      <td>/Volumes/SJF/CVI_OPACID_SJF_9788089313013/stre...</td>\n",
       "      <td>CVI_OPACID_SJF_9788089313013</td>\n",
       "      <td>\"Exploring Vehicle Dynamics\" is an essential g...</td>\n",
       "      <td>Táto kniha ponúka komplexný pohľad na dynamiku...</td>\n",
       "    </tr>\n",
       "    <tr>\n",
       "      <th>130</th>\n",
       "      <td>/Volumes/SJF/CVI_OPACID_SJF_9788089313358</td>\n",
       "      <td>KURZY NA ZÍSKANIE ZRUČNOSTÍ S CAD/CAM SYSTÉMAMI</td>\n",
       "      <td>[Daniel Somora]</td>\n",
       "      <td>FX s.r.o</td>\n",
       "      <td>2008</td>\n",
       "      <td>978-80-89313-35-8</td>\n",
       "      <td>The text presents a detailed guide on creating...</td>\n",
       "      <td>/Volumes/SJF/CVI_OPACID_SJF_9788089313358/Cove...</td>\n",
       "      <td>/Volumes/SJF/CVI_OPACID_SJF_9788089313358/stre...</td>\n",
       "      <td>CVI_OPACID_SJF_9788089313358</td>\n",
       "      <td>This comprehensive guide delves into the intri...</td>\n",
       "      <td>Praktická príručka pre tých, ktorí sa chcú nau...</td>\n",
       "    </tr>\n",
       "    <tr>\n",
       "      <th>131</th>\n",
       "      <td>/Volumes/SJF/CVI_OPACID_SJF_ZB_uloh_1</td>\n",
       "      <td>zbierka úloh matematiky</td>\n",
       "      <td>[J. ELIÁŠ, HORVÄTH J., KAJAN J.]</td>\n",
       "      <td>NAKLADATEĽSTVO aIRa BRATISLAVA</td>\n",
       "      <td>None</td>\n",
       "      <td>None</td>\n",
       "      <td>This text covers several mathematical concepts...</td>\n",
       "      <td>/Volumes/SJF/CVI_OPACID_SJF_ZB_uloh_1/Cover/ZB...</td>\n",
       "      <td>/Volumes/SJF/CVI_OPACID_SJF_ZB_uloh_1/stream_p...</td>\n",
       "      <td>CVI_OPACID_SJF_ZB_uloh_1</td>\n",
       "      <td>\"Mastering Mathematical Concepts: From Logic t...</td>\n",
       "      <td>Táto kniha poskytuje komplexný pohľad na nieko...</td>\n",
       "    </tr>\n",
       "    <tr>\n",
       "      <th>132</th>\n",
       "      <td>/Volumes/SJF/CVI_OPACID_SJF_ZB_uloh_3</td>\n",
       "      <td>Zbierka úloh z vyšej matematiky</td>\n",
       "      <td>[JOZEF ELIÁŠ, JÁN HORVÁTH, JURAJ KAJAN]</td>\n",
       "      <td>VYDAVATEĽSTVO TECHNICKEJ A EKONOMICKEJ LITERATÚRY</td>\n",
       "      <td>None</td>\n",
       "      <td>None</td>\n",
       "      <td>The text discusses advanced concepts in differ...</td>\n",
       "      <td>/Volumes/SJF/CVI_OPACID_SJF_ZB_uloh_3/Cover/ZB...</td>\n",
       "      <td>/Volumes/SJF/CVI_OPACID_SJF_ZB_uloh_3/stream_p...</td>\n",
       "      <td>CVI_OPACID_SJF_ZB_uloh_3</td>\n",
       "      <td>This specialized text offers an in-depth explo...</td>\n",
       "      <td>Táto kniha je komplexným zdrojom pre pokročilé...</td>\n",
       "    </tr>\n",
       "    <tr>\n",
       "      <th>133</th>\n",
       "      <td>/Volumes/SJF/CVI_OPACID_SJF_ZB_uloh_4</td>\n",
       "      <td>Zbierka úloh z vyššíj matematiky (4. časť, 3. ...</td>\n",
       "      <td>[j. ELIÁŠ J. HORVÄTH J. KAJAN R. ŠULKA, JOZEF ...</td>\n",
       "      <td>VYDAVATELSTVO TECHNICKEJ A EKONOMICKEJ LITERATÚRY</td>\n",
       "      <td>1970</td>\n",
       "      <td>None</td>\n",
       "      <td>The provided text covers various topics in com...</td>\n",
       "      <td>/Volumes/SJF/CVI_OPACID_SJF_ZB_uloh_4/Cover/ZB...</td>\n",
       "      <td>/Volumes/SJF/CVI_OPACID_SJF_ZB_uloh_4/stream_p...</td>\n",
       "      <td>CVI_OPACID_SJF_ZB_uloh_4</td>\n",
       "      <td>\"Advanced Applications of Complex Analysis in ...</td>\n",
       "      <td>Táto kniha poskytuje komplexný prehľad tém z o...</td>\n",
       "    </tr>\n",
       "  </tbody>\n",
       "</table>\n",
       "<p>134 rows × 12 columns</p>\n",
       "</div>"
      ]
     },
     "execution_count": 139,
     "metadata": {},
     "output_type": "execute_result"
    }
   ],
   "execution_count": 139
  },
  {
   "metadata": {},
   "cell_type": "markdown",
   "source": "## Load cover images (just for fun)",
   "id": "2fb719c74be3768a"
  },
  {
   "metadata": {
    "ExecuteTime": {
     "end_time": "2025-06-26T20:54:03.431823Z",
     "start_time": "2025-06-26T20:54:03.428290Z"
    }
   },
   "cell_type": "code",
   "source": [
    "THUMBNAIL_SIZE = (128, 192)  # Reasonable for book covers\n",
    "\n",
    "def make_thumbnail(path, size=THUMBNAIL_SIZE):\n",
    "    if not path or pd.isna(path):\n",
    "        return pd.NA\n",
    "    try:\n",
    "        with Image.open(path) as img:\n",
    "            img = img.convert('RGB')  # Ensure RGB mode\n",
    "            img.thumbnail(size, Image.LANCZOS)\n",
    "            with io.BytesIO() as output:\n",
    "                img.save(output, format='JPEG', quality=85)\n",
    "                data = output.getvalue()\n",
    "            # Optionally encode to base64 to store in CSV/JSON\n",
    "            return base64.b64encode(data).decode('utf-8')\n",
    "    except Exception as e:\n",
    "        print(f\"Thumbnail error for {path}: {e}\")\n",
    "        return pd.NA"
   ],
   "id": "6fd13b8ca548b74c",
   "outputs": [],
   "execution_count": 143
  },
  {
   "metadata": {
    "ExecuteTime": {
     "end_time": "2025-06-26T20:54:09.574404Z",
     "start_time": "2025-06-26T20:54:04.395656Z"
    }
   },
   "cell_type": "code",
   "source": [
    "df['cover'] = parallel_apply_with_progress(\n",
    "    make_thumbnail,\n",
    "    df['cover_image'].tolist(),\n",
    "    workers=16,\n",
    "    desc=\"Load thumbnails\"\n",
    ")"
   ],
   "id": "c437e322370e1cca",
   "outputs": [
    {
     "data": {
      "text/plain": [
       "Load thumbnails:   0%|          | 0/134 [00:00<?, ?it/s]"
      ],
      "application/vnd.jupyter.widget-view+json": {
       "version_major": 2,
       "version_minor": 0,
       "model_id": "2d3d5ffa8e0d4364b3639d2e963d27f5"
      }
     },
     "metadata": {},
     "output_type": "display_data"
    }
   ],
   "execution_count": 144
  },
  {
   "metadata": {
    "ExecuteTime": {
     "end_time": "2025-06-26T20:55:00.886447Z",
     "start_time": "2025-06-26T20:55:00.810444Z"
    }
   },
   "cell_type": "code",
   "source": "df.to_excel('../output/final.xlsx', index=False)",
   "id": "722047f16ca44f09",
   "outputs": [],
   "execution_count": 147
  },
  {
   "metadata": {},
   "cell_type": "code",
   "outputs": [],
   "execution_count": null,
   "source": "",
   "id": "c9d4b906c0797b5b"
  }
 ],
 "metadata": {
  "kernelspec": {
   "display_name": "Python 3",
   "language": "python",
   "name": "python3"
  },
  "language_info": {
   "codemirror_mode": {
    "name": "ipython",
    "version": 2
   },
   "file_extension": ".py",
   "mimetype": "text/x-python",
   "name": "python",
   "nbconvert_exporter": "python",
   "pygments_lexer": "ipython2",
   "version": "2.7.6"
  }
 },
 "nbformat": 4,
 "nbformat_minor": 5
}
