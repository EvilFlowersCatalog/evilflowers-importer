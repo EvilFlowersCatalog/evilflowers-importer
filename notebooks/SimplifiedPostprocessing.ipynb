{
 "cells": [
  {
   "metadata": {},
   "cell_type": "markdown",
   "source": [
    "# Simplified EvilFlowers Metadata Postprocessing\n",
    "\n",
    "This notebook demonstrates a simplified approach to read, clean, and enhance the metadata extracted by the EvilFlowers importer. It focuses on:\n",
    "\n",
    "1. Loading data from progress.json\n",
    "2. Sanitizing title, authors, and publisher\n",
    "3. Creating a clean dataframe with single ISBN, DOI columns\n",
    "4. Checking ISBNs against external databases\n",
    "5. Fetching missing data\n",
    "6. Creating indicators for found ISBNs\n",
    "\n",
    "## Table of Contents\n",
    "1. [Loading the Data](#loading-the-data)\n",
    "2. [Data Cleanup](#data-cleanup)\n",
    "   - [Sanitizing Titles](#sanitizing-titles)\n",
    "   - [Sanitizing Author Names](#sanitizing-author-names)\n",
    "   - [Sanitizing Publisher Names](#sanitizing-publisher-names)\n",
    "   - [Cleaning ISBN/DOI Values](#cleaning-isbndoi-values)\n",
    "3. [Creating a Clean DataFrame](#creating-a-clean-dataframe)\n",
    "4. [Checking ISBNs Against External Databases](#checking-isbns-against-external-databases)\n",
    "5. [Fetching Missing Data](#fetching-missing-data)\n",
    "6. [Exporting Cleaned Data](#exporting-cleaned-data)\n"
   ],
   "id": "ceb1e7791671f1a"
  },
  {
   "metadata": {},
   "cell_type": "markdown",
   "source": [
    "## Loading the Data\n",
    "\n",
    "First, let's import the necessary libraries and load the metadata from the progress.json file.\n"
   ],
   "id": "9cff59255d0fa8ab"
  },
  {
   "metadata": {
    "ExecuteTime": {
     "end_time": "2025-06-25T17:53:00.132735Z",
     "start_time": "2025-06-25T17:53:00.120231Z"
    }
   },
   "cell_type": "code",
   "source": [
    "import pandas as pd\n",
    "import numpy as np\n",
    "import re\n",
    "import json\n",
    "import ast\n",
    "from pathlib import Path\n",
    "import isbnlib\n",
    "from tqdm.notebook import tqdm\n",
    "import sys\n",
    "import os\n",
    "\n",
    "# Add the parent directory to the path so we can import from evilflowers_importer\n",
    "sys.path.append(os.path.abspath('..'))\n",
    "\n",
    "# Import the RegexExtractor from evilflowers_importer\n",
    "from evilflowers_importer.ai_facade import RegexExtractor\n",
    "\n",
    "# Load the data\n",
    "progress_file = Path('../output/progress.json')\n",
    "if progress_file.exists():\n",
    "    df = pd.read_json(progress_file, orient=\"records\")\n",
    "    print(f\"Loaded {len(df)} records from {progress_file}\")\n",
    "else:\n",
    "    print(f\"File not found: {progress_file}\")\n",
    "    df = pd.DataFrame()\n"
   ],
   "id": "3a2d1240c37f0e3b",
   "outputs": [
    {
     "name": "stdout",
     "output_type": "stream",
     "text": [
      "Loaded 134 records from ../output/progress.json\n"
     ]
    }
   ],
   "execution_count": 10
  },
  {
   "metadata": {},
   "cell_type": "markdown",
   "source": [
    "## Data Cleanup\n",
    "\n",
    "Let's clean up the data to make it more consistent and usable.\n"
   ],
   "id": "6de94d6a22b0b00e"
  },
  {
   "metadata": {},
   "cell_type": "markdown",
   "source": [
    "### Sanitizing Titles\n",
    "\n",
    "First, let's clean up the titles to ensure consistent capitalization and formatting.\n"
   ],
   "id": "30a041d5c2f209d4"
  },
  {
   "metadata": {
    "ExecuteTime": {
     "end_time": "2025-06-25T17:53:00.153523Z",
     "start_time": "2025-06-25T17:53:00.147666Z"
    }
   },
   "cell_type": "code",
   "source": [
    "def clean_title(title):\n",
    "    \"\"\"Clean and standardize book titles.\"\"\"\n",
    "    if pd.isna(title) or title is None:\n",
    "        return None\n",
    "\n",
    "    # Convert to string if not already\n",
    "    title = str(title).strip()\n",
    "\n",
    "    # Remove extra whitespace\n",
    "    title = re.sub(r'\\s+', ' ', title)\n",
    "\n",
    "    # Apply title case (capitalize first letter of each word)\n",
    "    # But preserve common acronyms and special cases\n",
    "    words = title.split()\n",
    "    small_words = {'a', 'an', 'and', 'as', 'at', 'but', 'by', 'for', 'if', 'in', 'of', 'on', 'or', 'the', 'to', 'with'}\n",
    "\n",
    "    for i, word in enumerate(words):\n",
    "        # Always capitalize first and last word\n",
    "        if i == 0 or i == len(words) - 1:\n",
    "            words[i] = word.capitalize()\n",
    "        # Check if it's an acronym (all uppercase)\n",
    "        elif word.upper() == word and len(word) > 1:\n",
    "            words[i] = word  # Keep acronyms as is\n",
    "        # Check if it's a small word\n",
    "        elif word.lower() in small_words:\n",
    "            words[i] = word.lower()\n",
    "        # Otherwise capitalize\n",
    "        else:\n",
    "            words[i] = word.capitalize()\n",
    "\n",
    "    return ' '.join(words)\n",
    "\n",
    "# Apply the function to standardize titles\n",
    "df['title_cleaned'] = df['title'].apply(clean_title)\n",
    "\n",
    "# Display the results\n",
    "print(\"Original vs. Cleaned Titles:\")\n",
    "for i, (orig, cleaned) in enumerate(zip(df['title'].head(5), df['title_cleaned'].head(5))):\n",
    "    print(f\"{i+1}. Original: {orig}\")\n",
    "    print(f\"   Cleaned: {cleaned}\")\n"
   ],
   "id": "3a08f63bdf1a3854",
   "outputs": [
    {
     "name": "stdout",
     "output_type": "stream",
     "text": [
      "Original vs. Cleaned Titles:\n",
      "1. Original: Projektovanie vozidiel\n",
      "   Cleaned: Projektovanie Vozidiel\n",
      "2. Original: Modelovanie a simulácie v dopravnej technike\n",
      "   Cleaned: Modelovanie a Simulácie V Dopravnej Technike\n",
      "3. Original: Tenzometria\n",
      "   Cleaned: Tenzometria\n",
      "4. Original: PRUŽNOSŤ A PEVNOSŤ - Riešené príklady\n",
      "   Cleaned: Pružnosť a PEVNOSŤ - Riešené Príklady\n",
      "5. Original: Termodynamické tabulky\n",
      "   Cleaned: Termodynamické Tabulky\n"
     ]
    }
   ],
   "execution_count": 11
  },
  {
   "metadata": {},
   "cell_type": "markdown",
   "source": [
    "### Sanitizing Author Names\n",
    "\n",
    "Next, let's ensure that the 'authors' field is consistently a list of strings.\n"
   ],
   "id": "ee086c29fe579847"
  },
  {
   "metadata": {
    "ExecuteTime": {
     "end_time": "2025-06-25T17:53:00.180893Z",
     "start_time": "2025-06-25T17:53:00.175568Z"
    }
   },
   "cell_type": "code",
   "source": [
    "def parse_authors(authors):\n",
    "    \"\"\"Convert authors to a list of strings, handling various input formats.\"\"\"\n",
    "    # Handle scalar NA values\n",
    "    if isinstance(authors, (float, int, str, type(None))) and (pd.isna(authors) or authors is None):\n",
    "        return []\n",
    "\n",
    "    if isinstance(authors, list):\n",
    "        return authors\n",
    "\n",
    "    if isinstance(authors, str):\n",
    "        # Try to parse as a Python list literal\n",
    "        try:\n",
    "            parsed = ast.literal_eval(authors)\n",
    "            if isinstance(parsed, list):\n",
    "                return parsed\n",
    "        except (SyntaxError, ValueError):\n",
    "            pass\n",
    "\n",
    "        # If it's a string but not a list literal, split by common separators\n",
    "        if '|' in authors:\n",
    "            return [a.strip() for a in authors.split('|') if a.strip()]\n",
    "        elif ';' in authors:\n",
    "            return [a.strip() for a in authors.split(';') if a.strip()]\n",
    "        elif ',' in authors:\n",
    "            return [a.strip() for a in authors.split(',') if a.strip()]\n",
    "        else:\n",
    "            return [authors]\n",
    "\n",
    "    return [str(authors)]\n",
    "\n",
    "# Apply the function to standardize the authors field\n",
    "df['authors_cleaned'] = df['authors'].apply(parse_authors)\n",
    "\n",
    "# Display the results\n",
    "print(\"Original vs. Cleaned Authors:\")\n",
    "for i, (orig, cleaned) in enumerate(zip(df['authors'].head(5), df['authors_cleaned'].head(5))):\n",
    "    print(f\"{i+1}. Original: {orig} (type: {type(orig).__name__})\")\n",
    "    print(f\"   Cleaned: {cleaned} (type: {type(cleaned).__name__})\")\n"
   ],
   "id": "9b0c8cbbb4f6f5ca",
   "outputs": [
    {
     "name": "stdout",
     "output_type": "stream",
     "text": [
      "Original vs. Cleaned Authors:\n",
      "1. Original: ['Pavol Hudec'] (type: str)\n",
      "   Cleaned: ['Pavol Hudec'] (type: list)\n",
      "2. Original: ['Ľuboš Magdolen'] (type: str)\n",
      "   Cleaned: ['Ľuboš Magdolen'] (type: list)\n",
      "3. Original: ['Dr. h.c. mult. prof. Ing. František TREBUŇA, CSc.'\n",
      " 'Ing. Peter SIVÁK, PhD.'] (type: str)\n",
      "   Cleaned: ['Dr. h.c. mult. prof. Ing. František TREBUŇA, CSc.Ing. Peter SIVÁK, PhD.'] (type: list)\n",
      "4. Original: ['Prof. Ing. Ján Syč-Milý, CSc.' 'kolektiv'] (type: str)\n",
      "   Cleaned: ['Prof. Ing. Ján Syč-Milý, CSc.kolektiv'] (type: list)\n",
      "5. Original: ['K. Ražnjevič'] (type: str)\n",
      "   Cleaned: ['K. Ražnjevič'] (type: list)\n"
     ]
    }
   ],
   "execution_count": 12
  },
  {
   "metadata": {},
   "cell_type": "markdown",
   "source": [
    "### Sanitizing Publisher Names\n",
    "\n",
    "Let's clean up the publisher names to ensure consistency.\n"
   ],
   "id": "22647535b49618f9"
  },
  {
   "metadata": {
    "ExecuteTime": {
     "end_time": "2025-06-25T17:53:00.205893Z",
     "start_time": "2025-06-25T17:53:00.201652Z"
    }
   },
   "cell_type": "code",
   "source": [
    "def clean_publisher(publisher):\n",
    "    \"\"\"Clean and standardize publisher names.\"\"\"\n",
    "    if pd.isna(publisher) or publisher is None:\n",
    "        return None\n",
    "\n",
    "    # Convert to string if not already\n",
    "    publisher = str(publisher).strip()\n",
    "\n",
    "    # Remove extra whitespace\n",
    "    publisher = re.sub(r'\\s+', ' ', publisher)\n",
    "\n",
    "    # Standardize common publisher name variations\n",
    "    # This could be expanded based on your specific dataset\n",
    "    publisher_map = {\n",
    "        'SLOVENSK\\\\u00c1 TECHNICK\\\\u00c1 UNIVERZITA V BRATISLAVE': 'Slovenská Technická Universiteta v Bratislave',\n",
    "        'SLOVENSK\\u00c1 TECHNICK\\u00c1 UNIVERZITA V BRATISLAVE': 'Slovenská Technická Universiteta v Bratislave',\n",
    "        'Slovensk\\u00e1 technick\\u00e1 univerzita v Bratislave': 'Slovenská Technická Universiteta v Bratislave',\n",
    "        'TECHNICK\\\\u00c1 UNIVERZITA V KO\\\\u0160ICIACH': 'Technická Univerzita v Košiciach',\n",
    "        'TECHNICK\\u00c1 UNIVERZITA V KO\\u0160ICIACH': 'Technická Univerzita v Košiciach'\n",
    "    }\n",
    "\n",
    "    # Check if the publisher name is in our mapping\n",
    "    if publisher in publisher_map:\n",
    "        return publisher_map[publisher]\n",
    "\n",
    "    return publisher\n",
    "\n",
    "# Apply the function to standardize publisher names\n",
    "df['publisher_cleaned'] = df['publisher'].apply(clean_publisher)\n",
    "\n",
    "# Display the results\n",
    "print(\"Original vs. Cleaned Publishers:\")\n",
    "for i, (orig, cleaned) in enumerate(zip(df['publisher'].head(5), df['publisher_cleaned'].head(5))):\n",
    "    print(f\"{i+1}. Original: {orig}\")\n",
    "    print(f\"   Cleaned: {cleaned}\")\n"
   ],
   "id": "7f0fc8c9d6536b1c",
   "outputs": [
    {
     "name": "stdout",
     "output_type": "stream",
     "text": [
      "Original vs. Cleaned Publishers:\n",
      "1. Original: Slovenská technická univerzita v Bratislave\n",
      "   Cleaned: Slovenská Technická Universiteta v Bratislave\n",
      "2. Original: SLOVENSKÁ TECHNICKÁ UNIVERZITA V BRATISLAVE\n",
      "   Cleaned: Slovenská Technická Universiteta v Bratislave\n",
      "3. Original: TECHNICKÁ UNIVERZITA V KOŠICIACH\n",
      "   Cleaned: Technická Univerzita v Košiciach\n",
      "4. Original: VYDAVATEĽSTVO TECHNICKEJ A EKONOMICKEJ LITERATÚRY\n",
      "   Cleaned: VYDAVATEĽSTVO TECHNICKEJ A EKONOMICKEJ LITERATÚRY\n",
      "5. Original: VYDAVATEĽSTVO TECHNICKEJ A EKONOMICKEJ LITERATÚRY (BRATISLAVA)\n",
      "   Cleaned: VYDAVATEĽSTVO TECHNICKEJ A EKONOMICKEJ LITERATÚRY (BRATISLAVA)\n"
     ]
    }
   ],
   "execution_count": 13
  },
  {
   "metadata": {},
   "cell_type": "markdown",
   "source": [
    "### Cleaning ISBN/DOI Values\n",
    "\n",
    "Let's fix the ISBN and DOI fields to ensure they are in the correct format.\n"
   ],
   "id": "d7cc3363e845968a"
  },
  {
   "metadata": {
    "ExecuteTime": {
     "end_time": "2025-06-25T17:53:00.239793Z",
     "start_time": "2025-06-25T17:53:00.229702Z"
    }
   },
   "cell_type": "code",
   "source": [
    "def clean_isbn(isbn):\n",
    "    \"\"\"Clean and standardize ISBN values.\"\"\"\n",
    "    if pd.isna(isbn) or isbn is None:\n",
    "        return None\n",
    "\n",
    "    # Convert to string\n",
    "    isbn_str = str(isbn).strip()\n",
    "\n",
    "    # Check if it's a year (common error in the dataset)\n",
    "    if isbn_str.isdigit() and int(isbn_str) > 1900 and int(isbn_str) < 2100:\n",
    "        return None\n",
    "\n",
    "    # Remove non-alphanumeric characters except '-'\n",
    "    isbn_str = re.sub(r'[^\\w-]', '', isbn_str)\n",
    "\n",
    "    # Check if it's a valid ISBN (simple check for length)\n",
    "    if len(isbn_str) in [10, 13] and isbn_str.replace('-', '').isalnum():\n",
    "        return isbn_str\n",
    "    else:\n",
    "        return None\n",
    "\n",
    "def clean_doi(doi):\n",
    "    \"\"\"Clean and standardize DOI values.\"\"\"\n",
    "    if pd.isna(doi) or doi is None:\n",
    "        return None\n",
    "\n",
    "    # Convert to string\n",
    "    doi_str = str(doi).strip()\n",
    "\n",
    "    # Check if it matches the DOI pattern (10.xxxx/yyyy)\n",
    "    if re.match(r'^10\\.\\d{4,9}/[-._;()/:A-Za-z0-9]+$', doi_str):\n",
    "        return doi_str.lower()  # DOIs are case-insensitive\n",
    "    else:\n",
    "        return None\n",
    "\n",
    "# Use RegexExtractor from evilflowers_importer for additional validation\n",
    "def validate_isbn_with_regex(isbn):\n",
    "    \"\"\"Validate ISBN using RegexExtractor.\"\"\"\n",
    "    if pd.isna(isbn) or isbn is None:\n",
    "        return None\n",
    "\n",
    "    # Convert to string\n",
    "    isbn_str = str(isbn)\n",
    "\n",
    "    # Use RegexExtractor to validate\n",
    "    validated = RegexExtractor.extract_isbn(isbn_str)\n",
    "    return validated\n",
    "\n",
    "def validate_doi_with_regex(doi):\n",
    "    \"\"\"Validate DOI using RegexExtractor.\"\"\"\n",
    "    if pd.isna(doi) or doi is None:\n",
    "        return None\n",
    "\n",
    "    # Convert to string\n",
    "    doi_str = str(doi)\n",
    "\n",
    "    # Use RegexExtractor to validate\n",
    "    validated = RegexExtractor.extract_doi(doi_str)\n",
    "    return validated\n",
    "\n",
    "# Apply the functions to clean ISBN and DOI fields\n",
    "# First clean the original fields\n",
    "df['isbn_cleaned'] = df['isbn'].apply(clean_isbn)\n",
    "df['doi_cleaned'] = df['doi'].apply(clean_doi)\n",
    "\n",
    "# Then clean the LLM-extracted fields\n",
    "df['llm_isbn_cleaned'] = df['llm_isbn'].apply(clean_isbn)\n",
    "df['llm_doi_cleaned'] = df['llm_doi'].apply(clean_doi)\n",
    "\n",
    "# Validate with RegexExtractor\n",
    "df['isbn_validated'] = df['isbn'].apply(validate_isbn_with_regex)\n",
    "df['llm_isbn_validated'] = df['llm_isbn'].apply(validate_isbn_with_regex)\n",
    "df['doi_validated'] = df['doi'].apply(validate_doi_with_regex)\n",
    "df['llm_doi_validated'] = df['llm_doi'].apply(validate_doi_with_regex)\n",
    "\n",
    "# Create final ISBN and DOI fields, always prioritizing LLM values\n",
    "df['final_isbn'] = df.apply(\n",
    "    lambda row: row['llm_isbn_validated'] or row['llm_isbn_cleaned'] or row['llm_isbn'] or row['isbn_validated'] or row['isbn_cleaned'], \n",
    "    axis=1\n",
    ")\n",
    "\n",
    "df['final_doi'] = df.apply(\n",
    "    lambda row: row['llm_doi_validated'] or row['llm_doi_cleaned'] or row['llm_doi'] or row['doi_validated'] or row['doi_cleaned'], \n",
    "    axis=1\n",
    ")\n",
    "\n",
    "# Display the results\n",
    "print(\"Original vs. Final ISBN/DOI:\")\n",
    "for i in range(min(5, len(df))):\n",
    "    print(f\"{i+1}. ISBN: {df['isbn'].iloc[i]} -> {df['final_isbn'].iloc[i]}\")\n",
    "    print(f\"   DOI: {df['doi'].iloc[i]} -> {df['final_doi'].iloc[i]}\")\n"
   ],
   "id": "77a78a50e54ccfeb",
   "outputs": [
    {
     "name": "stdout",
     "output_type": "stream",
     "text": [
      "Original vs. Final ISBN/DOI:\n",
      "1. ISBN: 2003 -> 802271853X\n",
      "   DOI: None -> None\n",
      "2. ISBN: 2011 -> 9788022736244\n",
      "   DOI: None -> None\n",
      "3. ISBN: 2012 -> 9788055313788\n",
      "   DOI: None -> None\n",
      "4. ISBN: 2343 -> 284J023936\n",
      "   DOI: None -> None\n",
      "5. ISBN: 1975 -> 1975\n",
      "   DOI: None -> None\n"
     ]
    }
   ],
   "execution_count": 14
  },
  {
   "metadata": {},
   "cell_type": "markdown",
   "source": [
    "## Creating a Clean DataFrame\n",
    "\n",
    "Now let's create a clean DataFrame with all our cleaned fields.\n"
   ],
   "id": "eb5ce40e800ce78b"
  },
  {
   "metadata": {
    "ExecuteTime": {
     "end_time": "2025-06-25T17:53:00.264804Z",
     "start_time": "2025-06-25T17:53:00.254667Z"
    }
   },
   "cell_type": "code",
   "source": [
    "# Create a clean version of the DataFrame with all our cleaned fields\n",
    "df_clean = pd.DataFrame()\n",
    "df_clean['dirname'] = df['dirname']\n",
    "df_clean['title'] = df['title_cleaned']\n",
    "df_clean['authors'] = df['authors_cleaned']\n",
    "df_clean['publisher'] = df['publisher_cleaned']\n",
    "df_clean['isbn'] = df['final_isbn']\n",
    "df_clean['doi'] = df['final_doi']\n",
    "df_clean['summary'] = df['summary']\n",
    "df_clean['cover_image'] = df['cover_image']\n",
    "\n",
    "# Fix PDF path to point to the single PDF file inside stream_pdf folder\n",
    "def fix_pdf_path(dirname, isbn):\n",
    "    \"\"\"\n",
    "    Create the correct path to the PDF file in the stream_pdf folder.\n",
    "    The PDF file is named OPACID_SJF_[ISBN].pdf and is located in the stream_pdf folder.\n",
    "    \"\"\"\n",
    "    if pd.isna(dirname) or dirname is None:\n",
    "        return None\n",
    "\n",
    "    # Extract the base directory name (last part of the path)\n",
    "    base_dirname = os.path.basename(dirname)\n",
    "\n",
    "    # The PDF filename is derived from the directory name by replacing \"CVI_\" with \"\"\n",
    "    # For example, if dirname is \"/path/to/CVI_OPACID_SJF_8001029344\",\n",
    "    # the PDF file is named \"OPACID_SJF_8001029344.pdf\"\n",
    "    if base_dirname.startswith(\"CVI_\"):\n",
    "        pdf_filename = base_dirname[4:] + \".pdf\"\n",
    "    else:\n",
    "        pdf_filename = base_dirname + \".pdf\"\n",
    "\n",
    "    # Construct the path to the PDF file\n",
    "    pdf_path = os.path.join(dirname, \"stream_pdf\", pdf_filename)\n",
    "\n",
    "    return pdf_path\n",
    "\n",
    "df_clean['pdf_path'] = df_clean.apply(lambda row: fix_pdf_path(row['dirname'], row['isbn']), axis=1)\n",
    "\n",
    "# Fix the year field if it's numeric\n",
    "def clean_year(year):\n",
    "    if pd.isna(year) or year is None:\n",
    "        return None\n",
    "\n",
    "    year_str = str(year).strip()\n",
    "    if year_str.isdigit() and int(year_str) > 1800 and int(year_str) < 2100:\n",
    "        return year_str\n",
    "    return None\n",
    "\n",
    "df_clean['year'] = df['year'].apply(clean_year)\n",
    "\n",
    "# Display the cleaned DataFrame\n",
    "print(\"Cleaned DataFrame:\")\n",
    "df_clean.head()\n"
   ],
   "id": "80bd696bbc3dc036",
   "outputs": [
    {
     "name": "stdout",
     "output_type": "stream",
     "text": [
      "Cleaned DataFrame:\n"
     ]
    },
    {
     "data": {
      "text/plain": [
       "                                      dirname  \\\n",
       "0     /Volumes/SJF/CVI_OPACID_SJF_802271853_X   \n",
       "1   /Volumes/SJF/CVI_OPACID_SJF_9788022736244   \n",
       "2   /Volumes/SJF/CVI_OPACID_SJF_9788055313788   \n",
       "3   /Volumes/SJF/CVI_OPACID_SJF_PRUZNOST_1988   \n",
       "4  /Volumes/SJF/CVI_OPACID_SJF_TERMODINAMICKE   \n",
       "\n",
       "                                          title  \\\n",
       "0                        Projektovanie Vozidiel   \n",
       "1  Modelovanie a Simulácie V Dopravnej Technike   \n",
       "2                                   Tenzometria   \n",
       "3         Pružnosť a PEVNOSŤ - Riešené Príklady   \n",
       "4                        Termodynamické Tabulky   \n",
       "\n",
       "                                             authors  \\\n",
       "0                                      [Pavol Hudec]   \n",
       "1                                   [Ľuboš Magdolen]   \n",
       "2  [Dr. h.c. mult. prof. Ing. František TREBUŇA, ...   \n",
       "3            [Prof. Ing. Ján Syč-Milý, CSc.kolektiv]   \n",
       "4                                     [K. Ražnjevič]   \n",
       "\n",
       "                                           publisher           isbn   doi  \\\n",
       "0      Slovenská Technická Universiteta v Bratislave     802271853X  None   \n",
       "1      Slovenská Technická Universiteta v Bratislave  9788022736244  None   \n",
       "2                   Technická Univerzita v Košiciach  9788055313788  None   \n",
       "3  VYDAVATEĽSTVO TECHNICKEJ A EKONOMICKEJ LITERATÚRY     284J023936  None   \n",
       "4  VYDAVATEĽSTVO TECHNICKEJ A EKONOMICKEJ LITERAT...           1975  None   \n",
       "\n",
       "                                             summary  \\\n",
       "0  The text discusses a 2003 book titled \"MOTOROV...   \n",
       "1  This text discusses the importance and methods...   \n",
       "2  The text discusses various strain measurement ...   \n",
       "3  The text discusses various engineering problem...   \n",
       "4  The text contains two tables and a discussion ...   \n",
       "\n",
       "                                         cover_image  \\\n",
       "0  /Volumes/SJF/CVI_OPACID_SJF_802271853_X/Cover/...   \n",
       "1  /Volumes/SJF/CVI_OPACID_SJF_9788022736244/Cove...   \n",
       "2  /Volumes/SJF/CVI_OPACID_SJF_9788055313788/Cove...   \n",
       "3  /Volumes/SJF/CVI_OPACID_SJF_PRUZNOST_1988/Cove...   \n",
       "4  /Volumes/SJF/CVI_OPACID_SJF_TERMODINAMICKE/Cov...   \n",
       "\n",
       "                                            pdf_path  year  \n",
       "0  /Volumes/SJF/CVI_OPACID_SJF_802271853_X/stream...  2003  \n",
       "1  /Volumes/SJF/CVI_OPACID_SJF_9788022736244/stre...  2011  \n",
       "2  /Volumes/SJF/CVI_OPACID_SJF_9788055313788/stre...  2012  \n",
       "3  /Volumes/SJF/CVI_OPACID_SJF_PRUZNOST_1988/stre...  1988  \n",
       "4  /Volumes/SJF/CVI_OPACID_SJF_TERMODINAMICKE/str...  None  "
      ],
      "text/html": [
       "<div>\n",
       "<style scoped>\n",
       "    .dataframe tbody tr th:only-of-type {\n",
       "        vertical-align: middle;\n",
       "    }\n",
       "\n",
       "    .dataframe tbody tr th {\n",
       "        vertical-align: top;\n",
       "    }\n",
       "\n",
       "    .dataframe thead th {\n",
       "        text-align: right;\n",
       "    }\n",
       "</style>\n",
       "<table border=\"1\" class=\"dataframe\">\n",
       "  <thead>\n",
       "    <tr style=\"text-align: right;\">\n",
       "      <th></th>\n",
       "      <th>dirname</th>\n",
       "      <th>title</th>\n",
       "      <th>authors</th>\n",
       "      <th>publisher</th>\n",
       "      <th>isbn</th>\n",
       "      <th>doi</th>\n",
       "      <th>summary</th>\n",
       "      <th>cover_image</th>\n",
       "      <th>pdf_path</th>\n",
       "      <th>year</th>\n",
       "    </tr>\n",
       "  </thead>\n",
       "  <tbody>\n",
       "    <tr>\n",
       "      <th>0</th>\n",
       "      <td>/Volumes/SJF/CVI_OPACID_SJF_802271853_X</td>\n",
       "      <td>Projektovanie Vozidiel</td>\n",
       "      <td>[Pavol Hudec]</td>\n",
       "      <td>Slovenská Technická Universiteta v Bratislave</td>\n",
       "      <td>802271853X</td>\n",
       "      <td>None</td>\n",
       "      <td>The text discusses a 2003 book titled \"MOTOROV...</td>\n",
       "      <td>/Volumes/SJF/CVI_OPACID_SJF_802271853_X/Cover/...</td>\n",
       "      <td>/Volumes/SJF/CVI_OPACID_SJF_802271853_X/stream...</td>\n",
       "      <td>2003</td>\n",
       "    </tr>\n",
       "    <tr>\n",
       "      <th>1</th>\n",
       "      <td>/Volumes/SJF/CVI_OPACID_SJF_9788022736244</td>\n",
       "      <td>Modelovanie a Simulácie V Dopravnej Technike</td>\n",
       "      <td>[Ľuboš Magdolen]</td>\n",
       "      <td>Slovenská Technická Universiteta v Bratislave</td>\n",
       "      <td>9788022736244</td>\n",
       "      <td>None</td>\n",
       "      <td>This text discusses the importance and methods...</td>\n",
       "      <td>/Volumes/SJF/CVI_OPACID_SJF_9788022736244/Cove...</td>\n",
       "      <td>/Volumes/SJF/CVI_OPACID_SJF_9788022736244/stre...</td>\n",
       "      <td>2011</td>\n",
       "    </tr>\n",
       "    <tr>\n",
       "      <th>2</th>\n",
       "      <td>/Volumes/SJF/CVI_OPACID_SJF_9788055313788</td>\n",
       "      <td>Tenzometria</td>\n",
       "      <td>[Dr. h.c. mult. prof. Ing. František TREBUŇA, ...</td>\n",
       "      <td>Technická Univerzita v Košiciach</td>\n",
       "      <td>9788055313788</td>\n",
       "      <td>None</td>\n",
       "      <td>The text discusses various strain measurement ...</td>\n",
       "      <td>/Volumes/SJF/CVI_OPACID_SJF_9788055313788/Cove...</td>\n",
       "      <td>/Volumes/SJF/CVI_OPACID_SJF_9788055313788/stre...</td>\n",
       "      <td>2012</td>\n",
       "    </tr>\n",
       "    <tr>\n",
       "      <th>3</th>\n",
       "      <td>/Volumes/SJF/CVI_OPACID_SJF_PRUZNOST_1988</td>\n",
       "      <td>Pružnosť a PEVNOSŤ - Riešené Príklady</td>\n",
       "      <td>[Prof. Ing. Ján Syč-Milý, CSc.kolektiv]</td>\n",
       "      <td>VYDAVATEĽSTVO TECHNICKEJ A EKONOMICKEJ LITERATÚRY</td>\n",
       "      <td>284J023936</td>\n",
       "      <td>None</td>\n",
       "      <td>The text discusses various engineering problem...</td>\n",
       "      <td>/Volumes/SJF/CVI_OPACID_SJF_PRUZNOST_1988/Cove...</td>\n",
       "      <td>/Volumes/SJF/CVI_OPACID_SJF_PRUZNOST_1988/stre...</td>\n",
       "      <td>1988</td>\n",
       "    </tr>\n",
       "    <tr>\n",
       "      <th>4</th>\n",
       "      <td>/Volumes/SJF/CVI_OPACID_SJF_TERMODINAMICKE</td>\n",
       "      <td>Termodynamické Tabulky</td>\n",
       "      <td>[K. Ražnjevič]</td>\n",
       "      <td>VYDAVATEĽSTVO TECHNICKEJ A EKONOMICKEJ LITERAT...</td>\n",
       "      <td>1975</td>\n",
       "      <td>None</td>\n",
       "      <td>The text contains two tables and a discussion ...</td>\n",
       "      <td>/Volumes/SJF/CVI_OPACID_SJF_TERMODINAMICKE/Cov...</td>\n",
       "      <td>/Volumes/SJF/CVI_OPACID_SJF_TERMODINAMICKE/str...</td>\n",
       "      <td>None</td>\n",
       "    </tr>\n",
       "  </tbody>\n",
       "</table>\n",
       "</div>"
      ]
     },
     "execution_count": 15,
     "metadata": {},
     "output_type": "execute_result"
    }
   ],
   "execution_count": 15
  },
  {
   "metadata": {},
   "cell_type": "markdown",
   "source": [
    "## Checking ISBNs Against External Databases\n",
    "\n",
    "Now let's check the ISBNs against external databases and fetch missing data.\n"
   ],
   "id": "dbcdc65889420ece"
  },
  {
   "metadata": {
    "ExecuteTime": {
     "end_time": "2025-06-25T17:53:00.862690Z",
     "start_time": "2025-06-25T17:53:00.300255Z"
    }
   },
   "cell_type": "code",
   "source": [
    "# Function to fetch metadata using ISBN\n",
    "def fetch_isbn_metadata(isbn):\n",
    "    \"\"\"\n",
    "    Fetch metadata for a book using its ISBN.\n",
    "    Returns None if the ISBN is invalid or no metadata is found.\n",
    "    \"\"\"\n",
    "    if not isbn or not isinstance(isbn, str):\n",
    "        return None\n",
    "\n",
    "    # Clean the ISBN (remove hyphens, spaces, etc.)\n",
    "    try:\n",
    "        clean_isbn = isbnlib.canonical(isbn)\n",
    "        if not clean_isbn:\n",
    "            return None\n",
    "    except Exception:\n",
    "        return None\n",
    "\n",
    "    try:\n",
    "        # Try to fetch metadata from multiple sources\n",
    "        for service in ['goob', 'openl', 'wiki']:\n",
    "            try:\n",
    "                metadata = isbnlib.meta(clean_isbn, service=service)\n",
    "                if metadata:\n",
    "                    return metadata\n",
    "            except Exception:\n",
    "                continue\n",
    "    except Exception:\n",
    "        pass\n",
    "\n",
    "    return None\n",
    "\n",
    "# Test the function with a sample ISBN\n",
    "sample_isbn = df_clean['isbn'].dropna().iloc[0] if not df_clean['isbn'].dropna().empty else None\n",
    "if sample_isbn:\n",
    "    print(f\"Fetching metadata for sample ISBN: {sample_isbn}\")\n",
    "    sample_metadata = fetch_isbn_metadata(sample_isbn)\n",
    "    print(f\"Sample metadata: {sample_metadata}\")\n",
    "else:\n",
    "    print(\"No valid ISBN found in the dataset for testing\")\n"
   ],
   "id": "d915cd8c8fc08508",
   "outputs": [
    {
     "name": "stdout",
     "output_type": "stream",
     "text": [
      "Fetching metadata for sample ISBN: 802271853X\n",
      "Sample metadata: {'ISBN-13': '9788022718530', 'Title': 'Motorové vozidlá - Projektovanie vozidiel. III', 'Authors': ['Pavol Hudec'], 'Publisher': '', 'Year': '2003', 'Language': 'sk'}\n"
     ]
    }
   ],
   "execution_count": 16
  },
  {
   "metadata": {},
   "cell_type": "markdown",
   "source": [
    "## Fetching Missing Data\n",
    "\n",
    "Now let's fetch metadata for all books with valid ISBNs and update our DataFrame.\n"
   ],
   "id": "48e4a016fb1ca3f2"
  },
  {
   "metadata": {
    "ExecuteTime": {
     "end_time": "2025-06-25T17:55:52.666612Z",
     "start_time": "2025-06-25T17:53:00.891154Z"
    }
   },
   "cell_type": "code",
   "source": [
    "# Add a column to indicate if ISBN was found in remote database\n",
    "df_clean['isbn_found'] = False\n",
    "\n",
    "# Apply the function to all rows with valid ISBNs and update the DataFrame\n",
    "print(\"Fetching metadata for all books with valid ISBNs...\")\n",
    "\n",
    "# Get rows with valid ISBNs\n",
    "valid_isbn_rows = df_clean[df_clean['isbn'].notna()]\n",
    "\n",
    "# Create a progress bar\n",
    "for i, (idx, row) in enumerate(tqdm(valid_isbn_rows.iterrows(), total=len(valid_isbn_rows), desc=\"Checking ISBNs\")):\n",
    "    isbn = row['isbn']\n",
    "    metadata = fetch_isbn_metadata(isbn)\n",
    "\n",
    "    if metadata:\n",
    "        # Mark ISBN as found\n",
    "        df_clean.at[idx, 'isbn_found'] = True\n",
    "\n",
    "        # Update missing fields with fetched data\n",
    "        if pd.isna(row['title']) or not row['title']:\n",
    "            df_clean.at[idx, 'title'] = metadata.get('Title')\n",
    "\n",
    "        if not row['authors'] or len(row['authors']) == 0:\n",
    "            df_clean.at[idx, 'authors'] = metadata.get('Authors', [])\n",
    "\n",
    "        if pd.isna(row['publisher']) or not row['publisher']:\n",
    "            df_clean.at[idx, 'publisher'] = metadata.get('Publisher')\n",
    "\n",
    "        if pd.isna(row['year']) or not row['year']:\n",
    "            df_clean.at[idx, 'year'] = metadata.get('Year')\n",
    "\n",
    "# Display statistics\n",
    "found_count = df_clean['isbn_found'].sum()\n",
    "total_isbns = df_clean['isbn'].notna().sum()\n",
    "print(f\"Found {found_count} out of {total_isbns} ISBNs in external databases ({found_count/total_isbns*100:.1f}%)\")\n",
    "\n",
    "# Display the updated DataFrame\n",
    "print(\"\\nUpdated DataFrame:\")\n",
    "df_clean.head()\n"
   ],
   "id": "bc43eed0503442b7",
   "outputs": [
    {
     "name": "stdout",
     "output_type": "stream",
     "text": [
      "Fetching metadata for all books with valid ISBNs...\n"
     ]
    },
    {
     "data": {
      "text/plain": [
       "Checking ISBNs:   0%|          | 0/134 [00:00<?, ?it/s]"
      ],
      "application/vnd.jupyter.widget-view+json": {
       "version_major": 2,
       "version_minor": 0,
       "model_id": "2d23bedb1f184ac5aaf05a8759cb1372"
      }
     },
     "metadata": {},
     "output_type": "display_data"
    },
    {
     "data": {
      "text/plain": [
       "\u001B[2;36m[19:53:04]\u001B[0m\u001B[2;36m \u001B[0m\u001B[33mWARNING \u001B[0m DataNotFoundAtServiceError for                                                   \u001B]8;id=36488;file:///Users/jdubec/Projects/EvilFlowers/evilflowers-webdav-import/.venv/lib/python3.13/site-packages/isbnlib/dev/webquery.py\u001B\\\u001B[2mwebquery.py\u001B[0m\u001B]8;;\u001B\\\u001B[2m:\u001B[0m\u001B]8;id=740529;file:///Users/jdubec/Projects/EvilFlowers/evilflowers-webdav-import/.venv/lib/python3.13/site-packages/isbnlib/dev/webquery.py#40\u001B\\\u001B[2m40\u001B[0m\u001B]8;;\u001B\\\n",
       "\u001B[2;36m           \u001B[0m         \u001B[4;94mhttp://openlibrary.org/api/books?\u001B[0m\u001B[4;94mbibkeys\u001B[0m\u001B[4;94m=\u001B[0m\u001B[4;94mISBN\u001B[0m\u001B[4;94m:9788022736244&\u001B[0m\u001B[4;94mformat\u001B[0m\u001B[4;94m=\u001B[0m\u001B[4;94mjson\u001B[0m\u001B[4;94m&\u001B[0m\u001B[4;94mjscmd\u001B[0m\u001B[4;94m=\u001B[0m\u001B[4;94mda\u001B[0m \u001B[2m              \u001B[0m\n",
       "\u001B[2;36m           \u001B[0m         \u001B[4;94mta\u001B[0m                                                                               \u001B[2m              \u001B[0m\n"
      ],
      "text/html": [
       "<pre style=\"white-space:pre;overflow-x:auto;line-height:normal;font-family:Menlo,'DejaVu Sans Mono',consolas,'Courier New',monospace\"><span style=\"color: #7fbfbf; text-decoration-color: #7fbfbf\">[19:53:04] </span><span style=\"color: #808000; text-decoration-color: #808000\">WARNING </span> DataNotFoundAtServiceError for                                                   <a href=\"file:///Users/jdubec/Projects/EvilFlowers/evilflowers-webdav-import/.venv/lib/python3.13/site-packages/isbnlib/dev/webquery.py\" target=\"_blank\"><span style=\"color: #7f7f7f; text-decoration-color: #7f7f7f\">webquery.py</span></a><span style=\"color: #7f7f7f; text-decoration-color: #7f7f7f\">:</span><a href=\"file:///Users/jdubec/Projects/EvilFlowers/evilflowers-webdav-import/.venv/lib/python3.13/site-packages/isbnlib/dev/webquery.py#40\" target=\"_blank\"><span style=\"color: #7f7f7f; text-decoration-color: #7f7f7f\">40</span></a>\n",
       "<span style=\"color: #7fbfbf; text-decoration-color: #7fbfbf\">           </span>         <span style=\"color: #0000ff; text-decoration-color: #0000ff; text-decoration: underline\">http://openlibrary.org/api/books?bibkeys=ISBN:9788022736244&amp;format=json&amp;jscmd=da</span> <span style=\"color: #7f7f7f; text-decoration-color: #7f7f7f\">              </span>\n",
       "<span style=\"color: #7fbfbf; text-decoration-color: #7fbfbf\">           </span>         <span style=\"color: #0000ff; text-decoration-color: #0000ff; text-decoration: underline\">ta</span>                                                                               <span style=\"color: #7f7f7f; text-decoration-color: #7f7f7f\">              </span>\n",
       "</pre>\n"
      ]
     },
     "metadata": {},
     "output_type": "display_data"
    },
    {
     "data": {
      "text/plain": [
       "\u001B[2;36m[19:53:05]\u001B[0m\u001B[2;36m \u001B[0m\u001B[1;7;31mCRITICAL\u001B[0m ISBNLibHTTPError for                                                           \u001B]8;id=711593;file:///Users/jdubec/Projects/EvilFlowers/evilflowers-webdav-import/.venv/lib/python3.13/site-packages/isbnlib/dev/webservice.py\u001B\\\u001B[2mwebservice.py\u001B[0m\u001B]8;;\u001B\\\u001B[2m:\u001B[0m\u001B]8;id=807366;file:///Users/jdubec/Projects/EvilFlowers/evilflowers-webdav-import/.venv/lib/python3.13/site-packages/isbnlib/dev/webservice.py#62\u001B\\\u001B[2m62\u001B[0m\u001B]8;;\u001B\\\n",
       "\u001B[2;36m           \u001B[0m         \u001B[4;94mhttps://en.wikipedia.org/api/rest_v1/data/citation/mediawiki/9788022736244\u001B[0m     \u001B[2m                \u001B[0m\n",
       "\u001B[2;36m           \u001B[0m         with code \u001B[1;36m404\u001B[0m \u001B[1m[\u001B[0mNot Found\u001B[1m]\u001B[0m                                                      \u001B[2m                \u001B[0m\n"
      ],
      "text/html": [
       "<pre style=\"white-space:pre;overflow-x:auto;line-height:normal;font-family:Menlo,'DejaVu Sans Mono',consolas,'Courier New',monospace\"><span style=\"color: #7fbfbf; text-decoration-color: #7fbfbf\">[19:53:05] </span><span style=\"background-color: #800000; font-weight: bold\">CRITICAL</span> ISBNLibHTTPError for                                                           <a href=\"file:///Users/jdubec/Projects/EvilFlowers/evilflowers-webdav-import/.venv/lib/python3.13/site-packages/isbnlib/dev/webservice.py\" target=\"_blank\"><span style=\"color: #7f7f7f; text-decoration-color: #7f7f7f\">webservice.py</span></a><span style=\"color: #7f7f7f; text-decoration-color: #7f7f7f\">:</span><a href=\"file:///Users/jdubec/Projects/EvilFlowers/evilflowers-webdav-import/.venv/lib/python3.13/site-packages/isbnlib/dev/webservice.py#62\" target=\"_blank\"><span style=\"color: #7f7f7f; text-decoration-color: #7f7f7f\">62</span></a>\n",
       "<span style=\"color: #7fbfbf; text-decoration-color: #7fbfbf\">           </span>         <span style=\"color: #0000ff; text-decoration-color: #0000ff; text-decoration: underline\">https://en.wikipedia.org/api/rest_v1/data/citation/mediawiki/9788022736244</span>     <span style=\"color: #7f7f7f; text-decoration-color: #7f7f7f\">                </span>\n",
       "<span style=\"color: #7fbfbf; text-decoration-color: #7fbfbf\">           </span>         with code <span style=\"color: #008080; text-decoration-color: #008080; font-weight: bold\">404</span> <span style=\"font-weight: bold\">[</span>Not Found<span style=\"font-weight: bold\">]</span>                                                      <span style=\"color: #7f7f7f; text-decoration-color: #7f7f7f\">                </span>\n",
       "</pre>\n"
      ]
     },
     "metadata": {},
     "output_type": "display_data"
    },
    {
     "data": {
      "text/plain": [
       "\u001B[2;36m[19:53:08]\u001B[0m\u001B[2;36m \u001B[0m\u001B[33mWARNING \u001B[0m DataNotFoundAtServiceError for                                                   \u001B]8;id=547245;file:///Users/jdubec/Projects/EvilFlowers/evilflowers-webdav-import/.venv/lib/python3.13/site-packages/isbnlib/dev/webquery.py\u001B\\\u001B[2mwebquery.py\u001B[0m\u001B]8;;\u001B\\\u001B[2m:\u001B[0m\u001B]8;id=484917;file:///Users/jdubec/Projects/EvilFlowers/evilflowers-webdav-import/.venv/lib/python3.13/site-packages/isbnlib/dev/webquery.py#40\u001B\\\u001B[2m40\u001B[0m\u001B]8;;\u001B\\\n",
       "\u001B[2;36m           \u001B[0m         \u001B[4;94mhttp://openlibrary.org/api/books?\u001B[0m\u001B[4;94mbibkeys\u001B[0m\u001B[4;94m=\u001B[0m\u001B[4;94mISBN\u001B[0m\u001B[4;94m:9788055313788&\u001B[0m\u001B[4;94mformat\u001B[0m\u001B[4;94m=\u001B[0m\u001B[4;94mjson\u001B[0m\u001B[4;94m&\u001B[0m\u001B[4;94mjscmd\u001B[0m\u001B[4;94m=\u001B[0m\u001B[4;94mda\u001B[0m \u001B[2m              \u001B[0m\n",
       "\u001B[2;36m           \u001B[0m         \u001B[4;94mta\u001B[0m                                                                               \u001B[2m              \u001B[0m\n"
      ],
      "text/html": [
       "<pre style=\"white-space:pre;overflow-x:auto;line-height:normal;font-family:Menlo,'DejaVu Sans Mono',consolas,'Courier New',monospace\"><span style=\"color: #7fbfbf; text-decoration-color: #7fbfbf\">[19:53:08] </span><span style=\"color: #808000; text-decoration-color: #808000\">WARNING </span> DataNotFoundAtServiceError for                                                   <a href=\"file:///Users/jdubec/Projects/EvilFlowers/evilflowers-webdav-import/.venv/lib/python3.13/site-packages/isbnlib/dev/webquery.py\" target=\"_blank\"><span style=\"color: #7f7f7f; text-decoration-color: #7f7f7f\">webquery.py</span></a><span style=\"color: #7f7f7f; text-decoration-color: #7f7f7f\">:</span><a href=\"file:///Users/jdubec/Projects/EvilFlowers/evilflowers-webdav-import/.venv/lib/python3.13/site-packages/isbnlib/dev/webquery.py#40\" target=\"_blank\"><span style=\"color: #7f7f7f; text-decoration-color: #7f7f7f\">40</span></a>\n",
       "<span style=\"color: #7fbfbf; text-decoration-color: #7fbfbf\">           </span>         <span style=\"color: #0000ff; text-decoration-color: #0000ff; text-decoration: underline\">http://openlibrary.org/api/books?bibkeys=ISBN:9788055313788&amp;format=json&amp;jscmd=da</span> <span style=\"color: #7f7f7f; text-decoration-color: #7f7f7f\">              </span>\n",
       "<span style=\"color: #7fbfbf; text-decoration-color: #7fbfbf\">           </span>         <span style=\"color: #0000ff; text-decoration-color: #0000ff; text-decoration: underline\">ta</span>                                                                               <span style=\"color: #7f7f7f; text-decoration-color: #7f7f7f\">              </span>\n",
       "</pre>\n"
      ]
     },
     "metadata": {},
     "output_type": "display_data"
    },
    {
     "data": {
      "text/plain": [
       "\u001B[2;36m[19:53:09]\u001B[0m\u001B[2;36m \u001B[0m\u001B[1;7;31mCRITICAL\u001B[0m ISBNLibHTTPError for                                                           \u001B]8;id=119920;file:///Users/jdubec/Projects/EvilFlowers/evilflowers-webdav-import/.venv/lib/python3.13/site-packages/isbnlib/dev/webservice.py\u001B\\\u001B[2mwebservice.py\u001B[0m\u001B]8;;\u001B\\\u001B[2m:\u001B[0m\u001B]8;id=820083;file:///Users/jdubec/Projects/EvilFlowers/evilflowers-webdav-import/.venv/lib/python3.13/site-packages/isbnlib/dev/webservice.py#62\u001B\\\u001B[2m62\u001B[0m\u001B]8;;\u001B\\\n",
       "\u001B[2;36m           \u001B[0m         \u001B[4;94mhttps://en.wikipedia.org/api/rest_v1/data/citation/mediawiki/9788055313788\u001B[0m     \u001B[2m                \u001B[0m\n",
       "\u001B[2;36m           \u001B[0m         with code \u001B[1;36m404\u001B[0m \u001B[1m[\u001B[0mNot Found\u001B[1m]\u001B[0m                                                      \u001B[2m                \u001B[0m\n"
      ],
      "text/html": [
       "<pre style=\"white-space:pre;overflow-x:auto;line-height:normal;font-family:Menlo,'DejaVu Sans Mono',consolas,'Courier New',monospace\"><span style=\"color: #7fbfbf; text-decoration-color: #7fbfbf\">[19:53:09] </span><span style=\"background-color: #800000; font-weight: bold\">CRITICAL</span> ISBNLibHTTPError for                                                           <a href=\"file:///Users/jdubec/Projects/EvilFlowers/evilflowers-webdav-import/.venv/lib/python3.13/site-packages/isbnlib/dev/webservice.py\" target=\"_blank\"><span style=\"color: #7f7f7f; text-decoration-color: #7f7f7f\">webservice.py</span></a><span style=\"color: #7f7f7f; text-decoration-color: #7f7f7f\">:</span><a href=\"file:///Users/jdubec/Projects/EvilFlowers/evilflowers-webdav-import/.venv/lib/python3.13/site-packages/isbnlib/dev/webservice.py#62\" target=\"_blank\"><span style=\"color: #7f7f7f; text-decoration-color: #7f7f7f\">62</span></a>\n",
       "<span style=\"color: #7fbfbf; text-decoration-color: #7fbfbf\">           </span>         <span style=\"color: #0000ff; text-decoration-color: #0000ff; text-decoration: underline\">https://en.wikipedia.org/api/rest_v1/data/citation/mediawiki/9788055313788</span>     <span style=\"color: #7f7f7f; text-decoration-color: #7f7f7f\">                </span>\n",
       "<span style=\"color: #7fbfbf; text-decoration-color: #7fbfbf\">           </span>         with code <span style=\"color: #008080; text-decoration-color: #008080; font-weight: bold\">404</span> <span style=\"font-weight: bold\">[</span>Not Found<span style=\"font-weight: bold\">]</span>                                                      <span style=\"color: #7f7f7f; text-decoration-color: #7f7f7f\">                </span>\n",
       "</pre>\n"
      ]
     },
     "metadata": {},
     "output_type": "display_data"
    },
    {
     "data": {
      "text/plain": [
       "\u001B[2;36m[19:53:20]\u001B[0m\u001B[2;36m \u001B[0m\u001B[33mWARNING \u001B[0m DataNotFoundAtServiceError for                                                   \u001B]8;id=503215;file:///Users/jdubec/Projects/EvilFlowers/evilflowers-webdav-import/.venv/lib/python3.13/site-packages/isbnlib/dev/webquery.py\u001B\\\u001B[2mwebquery.py\u001B[0m\u001B]8;;\u001B\\\u001B[2m:\u001B[0m\u001B]8;id=571882;file:///Users/jdubec/Projects/EvilFlowers/evilflowers-webdav-import/.venv/lib/python3.13/site-packages/isbnlib/dev/webquery.py#40\u001B\\\u001B[2m40\u001B[0m\u001B]8;;\u001B\\\n",
       "\u001B[2;36m           \u001B[0m         \u001B[4;94mhttp://openlibrary.org/api/books?\u001B[0m\u001B[4;94mbibkeys\u001B[0m\u001B[4;94m=\u001B[0m\u001B[4;94mISBN\u001B[0m\u001B[4;94m:9788022738200&\u001B[0m\u001B[4;94mformat\u001B[0m\u001B[4;94m=\u001B[0m\u001B[4;94mjson\u001B[0m\u001B[4;94m&\u001B[0m\u001B[4;94mjscmd\u001B[0m\u001B[4;94m=\u001B[0m\u001B[4;94mda\u001B[0m \u001B[2m              \u001B[0m\n",
       "\u001B[2;36m           \u001B[0m         \u001B[4;94mta\u001B[0m                                                                               \u001B[2m              \u001B[0m\n"
      ],
      "text/html": [
       "<pre style=\"white-space:pre;overflow-x:auto;line-height:normal;font-family:Menlo,'DejaVu Sans Mono',consolas,'Courier New',monospace\"><span style=\"color: #7fbfbf; text-decoration-color: #7fbfbf\">[19:53:20] </span><span style=\"color: #808000; text-decoration-color: #808000\">WARNING </span> DataNotFoundAtServiceError for                                                   <a href=\"file:///Users/jdubec/Projects/EvilFlowers/evilflowers-webdav-import/.venv/lib/python3.13/site-packages/isbnlib/dev/webquery.py\" target=\"_blank\"><span style=\"color: #7f7f7f; text-decoration-color: #7f7f7f\">webquery.py</span></a><span style=\"color: #7f7f7f; text-decoration-color: #7f7f7f\">:</span><a href=\"file:///Users/jdubec/Projects/EvilFlowers/evilflowers-webdav-import/.venv/lib/python3.13/site-packages/isbnlib/dev/webquery.py#40\" target=\"_blank\"><span style=\"color: #7f7f7f; text-decoration-color: #7f7f7f\">40</span></a>\n",
       "<span style=\"color: #7fbfbf; text-decoration-color: #7fbfbf\">           </span>         <span style=\"color: #0000ff; text-decoration-color: #0000ff; text-decoration: underline\">http://openlibrary.org/api/books?bibkeys=ISBN:9788022738200&amp;format=json&amp;jscmd=da</span> <span style=\"color: #7f7f7f; text-decoration-color: #7f7f7f\">              </span>\n",
       "<span style=\"color: #7fbfbf; text-decoration-color: #7fbfbf\">           </span>         <span style=\"color: #0000ff; text-decoration-color: #0000ff; text-decoration: underline\">ta</span>                                                                               <span style=\"color: #7f7f7f; text-decoration-color: #7f7f7f\">              </span>\n",
       "</pre>\n"
      ]
     },
     "metadata": {},
     "output_type": "display_data"
    },
    {
     "data": {
      "text/plain": [
       "\u001B[2;36m[19:53:22]\u001B[0m\u001B[2;36m \u001B[0m\u001B[1;7;31mCRITICAL\u001B[0m ISBNLibHTTPError for                                                           \u001B]8;id=138201;file:///Users/jdubec/Projects/EvilFlowers/evilflowers-webdav-import/.venv/lib/python3.13/site-packages/isbnlib/dev/webservice.py\u001B\\\u001B[2mwebservice.py\u001B[0m\u001B]8;;\u001B\\\u001B[2m:\u001B[0m\u001B]8;id=997877;file:///Users/jdubec/Projects/EvilFlowers/evilflowers-webdav-import/.venv/lib/python3.13/site-packages/isbnlib/dev/webservice.py#62\u001B\\\u001B[2m62\u001B[0m\u001B]8;;\u001B\\\n",
       "\u001B[2;36m           \u001B[0m         \u001B[4;94mhttps://en.wikipedia.org/api/rest_v1/data/citation/mediawiki/9788022738200\u001B[0m     \u001B[2m                \u001B[0m\n",
       "\u001B[2;36m           \u001B[0m         with code \u001B[1;36m404\u001B[0m \u001B[1m[\u001B[0mNot Found\u001B[1m]\u001B[0m                                                      \u001B[2m                \u001B[0m\n"
      ],
      "text/html": [
       "<pre style=\"white-space:pre;overflow-x:auto;line-height:normal;font-family:Menlo,'DejaVu Sans Mono',consolas,'Courier New',monospace\"><span style=\"color: #7fbfbf; text-decoration-color: #7fbfbf\">[19:53:22] </span><span style=\"background-color: #800000; font-weight: bold\">CRITICAL</span> ISBNLibHTTPError for                                                           <a href=\"file:///Users/jdubec/Projects/EvilFlowers/evilflowers-webdav-import/.venv/lib/python3.13/site-packages/isbnlib/dev/webservice.py\" target=\"_blank\"><span style=\"color: #7f7f7f; text-decoration-color: #7f7f7f\">webservice.py</span></a><span style=\"color: #7f7f7f; text-decoration-color: #7f7f7f\">:</span><a href=\"file:///Users/jdubec/Projects/EvilFlowers/evilflowers-webdav-import/.venv/lib/python3.13/site-packages/isbnlib/dev/webservice.py#62\" target=\"_blank\"><span style=\"color: #7f7f7f; text-decoration-color: #7f7f7f\">62</span></a>\n",
       "<span style=\"color: #7fbfbf; text-decoration-color: #7fbfbf\">           </span>         <span style=\"color: #0000ff; text-decoration-color: #0000ff; text-decoration: underline\">https://en.wikipedia.org/api/rest_v1/data/citation/mediawiki/9788022738200</span>     <span style=\"color: #7f7f7f; text-decoration-color: #7f7f7f\">                </span>\n",
       "<span style=\"color: #7fbfbf; text-decoration-color: #7fbfbf\">           </span>         with code <span style=\"color: #008080; text-decoration-color: #008080; font-weight: bold\">404</span> <span style=\"font-weight: bold\">[</span>Not Found<span style=\"font-weight: bold\">]</span>                                                      <span style=\"color: #7f7f7f; text-decoration-color: #7f7f7f\">                </span>\n",
       "</pre>\n"
      ]
     },
     "metadata": {},
     "output_type": "display_data"
    },
    {
     "data": {
      "text/plain": [
       "\u001B[2;36m[19:53:24]\u001B[0m\u001B[2;36m \u001B[0m\u001B[33mWARNING \u001B[0m DataNotFoundAtServiceError for                                                   \u001B]8;id=592161;file:///Users/jdubec/Projects/EvilFlowers/evilflowers-webdav-import/.venv/lib/python3.13/site-packages/isbnlib/dev/webquery.py\u001B\\\u001B[2mwebquery.py\u001B[0m\u001B]8;;\u001B\\\u001B[2m:\u001B[0m\u001B]8;id=185427;file:///Users/jdubec/Projects/EvilFlowers/evilflowers-webdav-import/.venv/lib/python3.13/site-packages/isbnlib/dev/webquery.py#40\u001B\\\u001B[2m40\u001B[0m\u001B]8;;\u001B\\\n",
       "\u001B[2;36m           \u001B[0m         \u001B[4;94mhttp://openlibrary.org/api/books?\u001B[0m\u001B[4;94mbibkeys\u001B[0m\u001B[4;94m=\u001B[0m\u001B[4;94mISBN\u001B[0m\u001B[4;94m:9788089313075&\u001B[0m\u001B[4;94mformat\u001B[0m\u001B[4;94m=\u001B[0m\u001B[4;94mjson\u001B[0m\u001B[4;94m&\u001B[0m\u001B[4;94mjscmd\u001B[0m\u001B[4;94m=\u001B[0m\u001B[4;94mda\u001B[0m \u001B[2m              \u001B[0m\n",
       "\u001B[2;36m           \u001B[0m         \u001B[4;94mta\u001B[0m                                                                               \u001B[2m              \u001B[0m\n"
      ],
      "text/html": [
       "<pre style=\"white-space:pre;overflow-x:auto;line-height:normal;font-family:Menlo,'DejaVu Sans Mono',consolas,'Courier New',monospace\"><span style=\"color: #7fbfbf; text-decoration-color: #7fbfbf\">[19:53:24] </span><span style=\"color: #808000; text-decoration-color: #808000\">WARNING </span> DataNotFoundAtServiceError for                                                   <a href=\"file:///Users/jdubec/Projects/EvilFlowers/evilflowers-webdav-import/.venv/lib/python3.13/site-packages/isbnlib/dev/webquery.py\" target=\"_blank\"><span style=\"color: #7f7f7f; text-decoration-color: #7f7f7f\">webquery.py</span></a><span style=\"color: #7f7f7f; text-decoration-color: #7f7f7f\">:</span><a href=\"file:///Users/jdubec/Projects/EvilFlowers/evilflowers-webdav-import/.venv/lib/python3.13/site-packages/isbnlib/dev/webquery.py#40\" target=\"_blank\"><span style=\"color: #7f7f7f; text-decoration-color: #7f7f7f\">40</span></a>\n",
       "<span style=\"color: #7fbfbf; text-decoration-color: #7fbfbf\">           </span>         <span style=\"color: #0000ff; text-decoration-color: #0000ff; text-decoration: underline\">http://openlibrary.org/api/books?bibkeys=ISBN:9788089313075&amp;format=json&amp;jscmd=da</span> <span style=\"color: #7f7f7f; text-decoration-color: #7f7f7f\">              </span>\n",
       "<span style=\"color: #7fbfbf; text-decoration-color: #7fbfbf\">           </span>         <span style=\"color: #0000ff; text-decoration-color: #0000ff; text-decoration: underline\">ta</span>                                                                               <span style=\"color: #7f7f7f; text-decoration-color: #7f7f7f\">              </span>\n",
       "</pre>\n"
      ]
     },
     "metadata": {},
     "output_type": "display_data"
    },
    {
     "data": {
      "text/plain": [
       "\u001B[2;36m[19:53:25]\u001B[0m\u001B[2;36m \u001B[0m\u001B[1;7;31mCRITICAL\u001B[0m ISBNLibHTTPError for                                                           \u001B]8;id=667781;file:///Users/jdubec/Projects/EvilFlowers/evilflowers-webdav-import/.venv/lib/python3.13/site-packages/isbnlib/dev/webservice.py\u001B\\\u001B[2mwebservice.py\u001B[0m\u001B]8;;\u001B\\\u001B[2m:\u001B[0m\u001B]8;id=244260;file:///Users/jdubec/Projects/EvilFlowers/evilflowers-webdav-import/.venv/lib/python3.13/site-packages/isbnlib/dev/webservice.py#62\u001B\\\u001B[2m62\u001B[0m\u001B]8;;\u001B\\\n",
       "\u001B[2;36m           \u001B[0m         \u001B[4;94mhttps://en.wikipedia.org/api/rest_v1/data/citation/mediawiki/9788089313075\u001B[0m     \u001B[2m                \u001B[0m\n",
       "\u001B[2;36m           \u001B[0m         with code \u001B[1;36m404\u001B[0m \u001B[1m[\u001B[0mNot Found\u001B[1m]\u001B[0m                                                      \u001B[2m                \u001B[0m\n"
      ],
      "text/html": [
       "<pre style=\"white-space:pre;overflow-x:auto;line-height:normal;font-family:Menlo,'DejaVu Sans Mono',consolas,'Courier New',monospace\"><span style=\"color: #7fbfbf; text-decoration-color: #7fbfbf\">[19:53:25] </span><span style=\"background-color: #800000; font-weight: bold\">CRITICAL</span> ISBNLibHTTPError for                                                           <a href=\"file:///Users/jdubec/Projects/EvilFlowers/evilflowers-webdav-import/.venv/lib/python3.13/site-packages/isbnlib/dev/webservice.py\" target=\"_blank\"><span style=\"color: #7f7f7f; text-decoration-color: #7f7f7f\">webservice.py</span></a><span style=\"color: #7f7f7f; text-decoration-color: #7f7f7f\">:</span><a href=\"file:///Users/jdubec/Projects/EvilFlowers/evilflowers-webdav-import/.venv/lib/python3.13/site-packages/isbnlib/dev/webservice.py#62\" target=\"_blank\"><span style=\"color: #7f7f7f; text-decoration-color: #7f7f7f\">62</span></a>\n",
       "<span style=\"color: #7fbfbf; text-decoration-color: #7fbfbf\">           </span>         <span style=\"color: #0000ff; text-decoration-color: #0000ff; text-decoration: underline\">https://en.wikipedia.org/api/rest_v1/data/citation/mediawiki/9788089313075</span>     <span style=\"color: #7f7f7f; text-decoration-color: #7f7f7f\">                </span>\n",
       "<span style=\"color: #7fbfbf; text-decoration-color: #7fbfbf\">           </span>         with code <span style=\"color: #008080; text-decoration-color: #008080; font-weight: bold\">404</span> <span style=\"font-weight: bold\">[</span>Not Found<span style=\"font-weight: bold\">]</span>                                                      <span style=\"color: #7f7f7f; text-decoration-color: #7f7f7f\">                </span>\n",
       "</pre>\n"
      ]
     },
     "metadata": {},
     "output_type": "display_data"
    },
    {
     "data": {
      "text/plain": [
       "\u001B[2;36m[19:53:28]\u001B[0m\u001B[2;36m \u001B[0m\u001B[33mWARNING \u001B[0m DataNotFoundAtServiceError for                                                   \u001B]8;id=454488;file:///Users/jdubec/Projects/EvilFlowers/evilflowers-webdav-import/.venv/lib/python3.13/site-packages/isbnlib/dev/webquery.py\u001B\\\u001B[2mwebquery.py\u001B[0m\u001B]8;;\u001B\\\u001B[2m:\u001B[0m\u001B]8;id=30298;file:///Users/jdubec/Projects/EvilFlowers/evilflowers-webdav-import/.venv/lib/python3.13/site-packages/isbnlib/dev/webquery.py#40\u001B\\\u001B[2m40\u001B[0m\u001B]8;;\u001B\\\n",
       "\u001B[2;36m           \u001B[0m         \u001B[4;94mhttp://openlibrary.org/api/books?\u001B[0m\u001B[4;94mbibkeys\u001B[0m\u001B[4;94m=\u001B[0m\u001B[4;94mISBN\u001B[0m\u001B[4;94m:9788089313365&\u001B[0m\u001B[4;94mformat\u001B[0m\u001B[4;94m=\u001B[0m\u001B[4;94mjson\u001B[0m\u001B[4;94m&\u001B[0m\u001B[4;94mjscmd\u001B[0m\u001B[4;94m=\u001B[0m\u001B[4;94mda\u001B[0m \u001B[2m              \u001B[0m\n",
       "\u001B[2;36m           \u001B[0m         \u001B[4;94mta\u001B[0m                                                                               \u001B[2m              \u001B[0m\n"
      ],
      "text/html": [
       "<pre style=\"white-space:pre;overflow-x:auto;line-height:normal;font-family:Menlo,'DejaVu Sans Mono',consolas,'Courier New',monospace\"><span style=\"color: #7fbfbf; text-decoration-color: #7fbfbf\">[19:53:28] </span><span style=\"color: #808000; text-decoration-color: #808000\">WARNING </span> DataNotFoundAtServiceError for                                                   <a href=\"file:///Users/jdubec/Projects/EvilFlowers/evilflowers-webdav-import/.venv/lib/python3.13/site-packages/isbnlib/dev/webquery.py\" target=\"_blank\"><span style=\"color: #7f7f7f; text-decoration-color: #7f7f7f\">webquery.py</span></a><span style=\"color: #7f7f7f; text-decoration-color: #7f7f7f\">:</span><a href=\"file:///Users/jdubec/Projects/EvilFlowers/evilflowers-webdav-import/.venv/lib/python3.13/site-packages/isbnlib/dev/webquery.py#40\" target=\"_blank\"><span style=\"color: #7f7f7f; text-decoration-color: #7f7f7f\">40</span></a>\n",
       "<span style=\"color: #7fbfbf; text-decoration-color: #7fbfbf\">           </span>         <span style=\"color: #0000ff; text-decoration-color: #0000ff; text-decoration: underline\">http://openlibrary.org/api/books?bibkeys=ISBN:9788089313365&amp;format=json&amp;jscmd=da</span> <span style=\"color: #7f7f7f; text-decoration-color: #7f7f7f\">              </span>\n",
       "<span style=\"color: #7fbfbf; text-decoration-color: #7fbfbf\">           </span>         <span style=\"color: #0000ff; text-decoration-color: #0000ff; text-decoration: underline\">ta</span>                                                                               <span style=\"color: #7f7f7f; text-decoration-color: #7f7f7f\">              </span>\n",
       "</pre>\n"
      ]
     },
     "metadata": {},
     "output_type": "display_data"
    },
    {
     "data": {
      "text/plain": [
       "\u001B[2;36m[19:53:29]\u001B[0m\u001B[2;36m \u001B[0m\u001B[1;7;31mCRITICAL\u001B[0m ISBNLibHTTPError for                                                           \u001B]8;id=299792;file:///Users/jdubec/Projects/EvilFlowers/evilflowers-webdav-import/.venv/lib/python3.13/site-packages/isbnlib/dev/webservice.py\u001B\\\u001B[2mwebservice.py\u001B[0m\u001B]8;;\u001B\\\u001B[2m:\u001B[0m\u001B]8;id=369002;file:///Users/jdubec/Projects/EvilFlowers/evilflowers-webdav-import/.venv/lib/python3.13/site-packages/isbnlib/dev/webservice.py#62\u001B\\\u001B[2m62\u001B[0m\u001B]8;;\u001B\\\n",
       "\u001B[2;36m           \u001B[0m         \u001B[4;94mhttps://en.wikipedia.org/api/rest_v1/data/citation/mediawiki/9788089313365\u001B[0m     \u001B[2m                \u001B[0m\n",
       "\u001B[2;36m           \u001B[0m         with code \u001B[1;36m404\u001B[0m \u001B[1m[\u001B[0mNot Found\u001B[1m]\u001B[0m                                                      \u001B[2m                \u001B[0m\n"
      ],
      "text/html": [
       "<pre style=\"white-space:pre;overflow-x:auto;line-height:normal;font-family:Menlo,'DejaVu Sans Mono',consolas,'Courier New',monospace\"><span style=\"color: #7fbfbf; text-decoration-color: #7fbfbf\">[19:53:29] </span><span style=\"background-color: #800000; font-weight: bold\">CRITICAL</span> ISBNLibHTTPError for                                                           <a href=\"file:///Users/jdubec/Projects/EvilFlowers/evilflowers-webdav-import/.venv/lib/python3.13/site-packages/isbnlib/dev/webservice.py\" target=\"_blank\"><span style=\"color: #7f7f7f; text-decoration-color: #7f7f7f\">webservice.py</span></a><span style=\"color: #7f7f7f; text-decoration-color: #7f7f7f\">:</span><a href=\"file:///Users/jdubec/Projects/EvilFlowers/evilflowers-webdav-import/.venv/lib/python3.13/site-packages/isbnlib/dev/webservice.py#62\" target=\"_blank\"><span style=\"color: #7f7f7f; text-decoration-color: #7f7f7f\">62</span></a>\n",
       "<span style=\"color: #7fbfbf; text-decoration-color: #7fbfbf\">           </span>         <span style=\"color: #0000ff; text-decoration-color: #0000ff; text-decoration: underline\">https://en.wikipedia.org/api/rest_v1/data/citation/mediawiki/9788089313365</span>     <span style=\"color: #7f7f7f; text-decoration-color: #7f7f7f\">                </span>\n",
       "<span style=\"color: #7fbfbf; text-decoration-color: #7fbfbf\">           </span>         with code <span style=\"color: #008080; text-decoration-color: #008080; font-weight: bold\">404</span> <span style=\"font-weight: bold\">[</span>Not Found<span style=\"font-weight: bold\">]</span>                                                      <span style=\"color: #7f7f7f; text-decoration-color: #7f7f7f\">                </span>\n",
       "</pre>\n"
      ]
     },
     "metadata": {},
     "output_type": "display_data"
    },
    {
     "data": {
      "text/plain": [
       "\u001B[2;36m[19:53:31]\u001B[0m\u001B[2;36m \u001B[0m\u001B[33mWARNING \u001B[0m DataNotFoundAtServiceError for                                                   \u001B]8;id=884483;file:///Users/jdubec/Projects/EvilFlowers/evilflowers-webdav-import/.venv/lib/python3.13/site-packages/isbnlib/dev/webquery.py\u001B\\\u001B[2mwebquery.py\u001B[0m\u001B]8;;\u001B\\\u001B[2m:\u001B[0m\u001B]8;id=608233;file:///Users/jdubec/Projects/EvilFlowers/evilflowers-webdav-import/.venv/lib/python3.13/site-packages/isbnlib/dev/webquery.py#40\u001B\\\u001B[2m40\u001B[0m\u001B]8;;\u001B\\\n",
       "\u001B[2;36m           \u001B[0m         \u001B[4;94mhttp://openlibrary.org/api/books?\u001B[0m\u001B[4;94mbibkeys\u001B[0m\u001B[4;94m=\u001B[0m\u001B[4;94mISBN\u001B[0m\u001B[4;94m:9788097052409&\u001B[0m\u001B[4;94mformat\u001B[0m\u001B[4;94m=\u001B[0m\u001B[4;94mjson\u001B[0m\u001B[4;94m&\u001B[0m\u001B[4;94mjscmd\u001B[0m\u001B[4;94m=\u001B[0m\u001B[4;94mda\u001B[0m \u001B[2m              \u001B[0m\n",
       "\u001B[2;36m           \u001B[0m         \u001B[4;94mta\u001B[0m                                                                               \u001B[2m              \u001B[0m\n"
      ],
      "text/html": [
       "<pre style=\"white-space:pre;overflow-x:auto;line-height:normal;font-family:Menlo,'DejaVu Sans Mono',consolas,'Courier New',monospace\"><span style=\"color: #7fbfbf; text-decoration-color: #7fbfbf\">[19:53:31] </span><span style=\"color: #808000; text-decoration-color: #808000\">WARNING </span> DataNotFoundAtServiceError for                                                   <a href=\"file:///Users/jdubec/Projects/EvilFlowers/evilflowers-webdav-import/.venv/lib/python3.13/site-packages/isbnlib/dev/webquery.py\" target=\"_blank\"><span style=\"color: #7f7f7f; text-decoration-color: #7f7f7f\">webquery.py</span></a><span style=\"color: #7f7f7f; text-decoration-color: #7f7f7f\">:</span><a href=\"file:///Users/jdubec/Projects/EvilFlowers/evilflowers-webdav-import/.venv/lib/python3.13/site-packages/isbnlib/dev/webquery.py#40\" target=\"_blank\"><span style=\"color: #7f7f7f; text-decoration-color: #7f7f7f\">40</span></a>\n",
       "<span style=\"color: #7fbfbf; text-decoration-color: #7fbfbf\">           </span>         <span style=\"color: #0000ff; text-decoration-color: #0000ff; text-decoration: underline\">http://openlibrary.org/api/books?bibkeys=ISBN:9788097052409&amp;format=json&amp;jscmd=da</span> <span style=\"color: #7f7f7f; text-decoration-color: #7f7f7f\">              </span>\n",
       "<span style=\"color: #7fbfbf; text-decoration-color: #7fbfbf\">           </span>         <span style=\"color: #0000ff; text-decoration-color: #0000ff; text-decoration: underline\">ta</span>                                                                               <span style=\"color: #7f7f7f; text-decoration-color: #7f7f7f\">              </span>\n",
       "</pre>\n"
      ]
     },
     "metadata": {},
     "output_type": "display_data"
    },
    {
     "data": {
      "text/plain": [
       "\u001B[2;36m[19:53:33]\u001B[0m\u001B[2;36m \u001B[0m\u001B[1;7;31mCRITICAL\u001B[0m ISBNLibHTTPError for                                                           \u001B]8;id=845758;file:///Users/jdubec/Projects/EvilFlowers/evilflowers-webdav-import/.venv/lib/python3.13/site-packages/isbnlib/dev/webservice.py\u001B\\\u001B[2mwebservice.py\u001B[0m\u001B]8;;\u001B\\\u001B[2m:\u001B[0m\u001B]8;id=859620;file:///Users/jdubec/Projects/EvilFlowers/evilflowers-webdav-import/.venv/lib/python3.13/site-packages/isbnlib/dev/webservice.py#62\u001B\\\u001B[2m62\u001B[0m\u001B]8;;\u001B\\\n",
       "\u001B[2;36m           \u001B[0m         \u001B[4;94mhttps://en.wikipedia.org/api/rest_v1/data/citation/mediawiki/9788097052409\u001B[0m     \u001B[2m                \u001B[0m\n",
       "\u001B[2;36m           \u001B[0m         with code \u001B[1;36m404\u001B[0m \u001B[1m[\u001B[0mNot Found\u001B[1m]\u001B[0m                                                      \u001B[2m                \u001B[0m\n"
      ],
      "text/html": [
       "<pre style=\"white-space:pre;overflow-x:auto;line-height:normal;font-family:Menlo,'DejaVu Sans Mono',consolas,'Courier New',monospace\"><span style=\"color: #7fbfbf; text-decoration-color: #7fbfbf\">[19:53:33] </span><span style=\"background-color: #800000; font-weight: bold\">CRITICAL</span> ISBNLibHTTPError for                                                           <a href=\"file:///Users/jdubec/Projects/EvilFlowers/evilflowers-webdav-import/.venv/lib/python3.13/site-packages/isbnlib/dev/webservice.py\" target=\"_blank\"><span style=\"color: #7f7f7f; text-decoration-color: #7f7f7f\">webservice.py</span></a><span style=\"color: #7f7f7f; text-decoration-color: #7f7f7f\">:</span><a href=\"file:///Users/jdubec/Projects/EvilFlowers/evilflowers-webdav-import/.venv/lib/python3.13/site-packages/isbnlib/dev/webservice.py#62\" target=\"_blank\"><span style=\"color: #7f7f7f; text-decoration-color: #7f7f7f\">62</span></a>\n",
       "<span style=\"color: #7fbfbf; text-decoration-color: #7fbfbf\">           </span>         <span style=\"color: #0000ff; text-decoration-color: #0000ff; text-decoration: underline\">https://en.wikipedia.org/api/rest_v1/data/citation/mediawiki/9788097052409</span>     <span style=\"color: #7f7f7f; text-decoration-color: #7f7f7f\">                </span>\n",
       "<span style=\"color: #7fbfbf; text-decoration-color: #7fbfbf\">           </span>         with code <span style=\"color: #008080; text-decoration-color: #008080; font-weight: bold\">404</span> <span style=\"font-weight: bold\">[</span>Not Found<span style=\"font-weight: bold\">]</span>                                                      <span style=\"color: #7f7f7f; text-decoration-color: #7f7f7f\">                </span>\n",
       "</pre>\n"
      ]
     },
     "metadata": {},
     "output_type": "display_data"
    },
    {
     "data": {
      "text/plain": [
       "\u001B[2;36m[19:53:35]\u001B[0m\u001B[2;36m \u001B[0m\u001B[33mWARNING \u001B[0m DataNotFoundAtServiceError for                                                   \u001B]8;id=376291;file:///Users/jdubec/Projects/EvilFlowers/evilflowers-webdav-import/.venv/lib/python3.13/site-packages/isbnlib/dev/webquery.py\u001B\\\u001B[2mwebquery.py\u001B[0m\u001B]8;;\u001B\\\u001B[2m:\u001B[0m\u001B]8;id=965213;file:///Users/jdubec/Projects/EvilFlowers/evilflowers-webdav-import/.venv/lib/python3.13/site-packages/isbnlib/dev/webquery.py#40\u001B\\\u001B[2m40\u001B[0m\u001B]8;;\u001B\\\n",
       "\u001B[2;36m           \u001B[0m         \u001B[4;94mhttp://openlibrary.org/api/books?\u001B[0m\u001B[4;94mbibkeys\u001B[0m\u001B[4;94m=\u001B[0m\u001B[4;94mISBN\u001B[0m\u001B[4;94m:9788097255503&\u001B[0m\u001B[4;94mformat\u001B[0m\u001B[4;94m=\u001B[0m\u001B[4;94mjson\u001B[0m\u001B[4;94m&\u001B[0m\u001B[4;94mjscmd\u001B[0m\u001B[4;94m=\u001B[0m\u001B[4;94mda\u001B[0m \u001B[2m              \u001B[0m\n",
       "\u001B[2;36m           \u001B[0m         \u001B[4;94mta\u001B[0m                                                                               \u001B[2m              \u001B[0m\n"
      ],
      "text/html": [
       "<pre style=\"white-space:pre;overflow-x:auto;line-height:normal;font-family:Menlo,'DejaVu Sans Mono',consolas,'Courier New',monospace\"><span style=\"color: #7fbfbf; text-decoration-color: #7fbfbf\">[19:53:35] </span><span style=\"color: #808000; text-decoration-color: #808000\">WARNING </span> DataNotFoundAtServiceError for                                                   <a href=\"file:///Users/jdubec/Projects/EvilFlowers/evilflowers-webdav-import/.venv/lib/python3.13/site-packages/isbnlib/dev/webquery.py\" target=\"_blank\"><span style=\"color: #7f7f7f; text-decoration-color: #7f7f7f\">webquery.py</span></a><span style=\"color: #7f7f7f; text-decoration-color: #7f7f7f\">:</span><a href=\"file:///Users/jdubec/Projects/EvilFlowers/evilflowers-webdav-import/.venv/lib/python3.13/site-packages/isbnlib/dev/webquery.py#40\" target=\"_blank\"><span style=\"color: #7f7f7f; text-decoration-color: #7f7f7f\">40</span></a>\n",
       "<span style=\"color: #7fbfbf; text-decoration-color: #7fbfbf\">           </span>         <span style=\"color: #0000ff; text-decoration-color: #0000ff; text-decoration: underline\">http://openlibrary.org/api/books?bibkeys=ISBN:9788097255503&amp;format=json&amp;jscmd=da</span> <span style=\"color: #7f7f7f; text-decoration-color: #7f7f7f\">              </span>\n",
       "<span style=\"color: #7fbfbf; text-decoration-color: #7fbfbf\">           </span>         <span style=\"color: #0000ff; text-decoration-color: #0000ff; text-decoration: underline\">ta</span>                                                                               <span style=\"color: #7f7f7f; text-decoration-color: #7f7f7f\">              </span>\n",
       "</pre>\n"
      ]
     },
     "metadata": {},
     "output_type": "display_data"
    },
    {
     "data": {
      "text/plain": [
       "\u001B[2;36m[19:53:36]\u001B[0m\u001B[2;36m \u001B[0m\u001B[1;7;31mCRITICAL\u001B[0m ISBNLibHTTPError for                                                           \u001B]8;id=199222;file:///Users/jdubec/Projects/EvilFlowers/evilflowers-webdav-import/.venv/lib/python3.13/site-packages/isbnlib/dev/webservice.py\u001B\\\u001B[2mwebservice.py\u001B[0m\u001B]8;;\u001B\\\u001B[2m:\u001B[0m\u001B]8;id=308736;file:///Users/jdubec/Projects/EvilFlowers/evilflowers-webdav-import/.venv/lib/python3.13/site-packages/isbnlib/dev/webservice.py#62\u001B\\\u001B[2m62\u001B[0m\u001B]8;;\u001B\\\n",
       "\u001B[2;36m           \u001B[0m         \u001B[4;94mhttps://en.wikipedia.org/api/rest_v1/data/citation/mediawiki/9788097255503\u001B[0m     \u001B[2m                \u001B[0m\n",
       "\u001B[2;36m           \u001B[0m         with code \u001B[1;36m404\u001B[0m \u001B[1m[\u001B[0mNot Found\u001B[1m]\u001B[0m                                                      \u001B[2m                \u001B[0m\n"
      ],
      "text/html": [
       "<pre style=\"white-space:pre;overflow-x:auto;line-height:normal;font-family:Menlo,'DejaVu Sans Mono',consolas,'Courier New',monospace\"><span style=\"color: #7fbfbf; text-decoration-color: #7fbfbf\">[19:53:36] </span><span style=\"background-color: #800000; font-weight: bold\">CRITICAL</span> ISBNLibHTTPError for                                                           <a href=\"file:///Users/jdubec/Projects/EvilFlowers/evilflowers-webdav-import/.venv/lib/python3.13/site-packages/isbnlib/dev/webservice.py\" target=\"_blank\"><span style=\"color: #7f7f7f; text-decoration-color: #7f7f7f\">webservice.py</span></a><span style=\"color: #7f7f7f; text-decoration-color: #7f7f7f\">:</span><a href=\"file:///Users/jdubec/Projects/EvilFlowers/evilflowers-webdav-import/.venv/lib/python3.13/site-packages/isbnlib/dev/webservice.py#62\" target=\"_blank\"><span style=\"color: #7f7f7f; text-decoration-color: #7f7f7f\">62</span></a>\n",
       "<span style=\"color: #7fbfbf; text-decoration-color: #7fbfbf\">           </span>         <span style=\"color: #0000ff; text-decoration-color: #0000ff; text-decoration: underline\">https://en.wikipedia.org/api/rest_v1/data/citation/mediawiki/9788097255503</span>     <span style=\"color: #7f7f7f; text-decoration-color: #7f7f7f\">                </span>\n",
       "<span style=\"color: #7fbfbf; text-decoration-color: #7fbfbf\">           </span>         with code <span style=\"color: #008080; text-decoration-color: #008080; font-weight: bold\">404</span> <span style=\"font-weight: bold\">[</span>Not Found<span style=\"font-weight: bold\">]</span>                                                      <span style=\"color: #7f7f7f; text-decoration-color: #7f7f7f\">                </span>\n",
       "</pre>\n"
      ]
     },
     "metadata": {},
     "output_type": "display_data"
    },
    {
     "data": {
      "text/plain": [
       "\u001B[2;36m[19:53:41]\u001B[0m\u001B[2;36m \u001B[0m\u001B[33mWARNING \u001B[0m DataNotFoundAtServiceError for                                                   \u001B]8;id=462081;file:///Users/jdubec/Projects/EvilFlowers/evilflowers-webdav-import/.venv/lib/python3.13/site-packages/isbnlib/dev/webquery.py\u001B\\\u001B[2mwebquery.py\u001B[0m\u001B]8;;\u001B\\\u001B[2m:\u001B[0m\u001B]8;id=491659;file:///Users/jdubec/Projects/EvilFlowers/evilflowers-webdav-import/.venv/lib/python3.13/site-packages/isbnlib/dev/webquery.py#40\u001B\\\u001B[2m40\u001B[0m\u001B]8;;\u001B\\\n",
       "\u001B[2;36m           \u001B[0m         \u001B[4;94mhttp://openlibrary.org/api/books?\u001B[0m\u001B[4;94mbibkeys\u001B[0m\u001B[4;94m=\u001B[0m\u001B[4;94mISBN\u001B[0m\u001B[4;94m:9788055307923&\u001B[0m\u001B[4;94mformat\u001B[0m\u001B[4;94m=\u001B[0m\u001B[4;94mjson\u001B[0m\u001B[4;94m&\u001B[0m\u001B[4;94mjscmd\u001B[0m\u001B[4;94m=\u001B[0m\u001B[4;94mda\u001B[0m \u001B[2m              \u001B[0m\n",
       "\u001B[2;36m           \u001B[0m         \u001B[4;94mta\u001B[0m                                                                               \u001B[2m              \u001B[0m\n"
      ],
      "text/html": [
       "<pre style=\"white-space:pre;overflow-x:auto;line-height:normal;font-family:Menlo,'DejaVu Sans Mono',consolas,'Courier New',monospace\"><span style=\"color: #7fbfbf; text-decoration-color: #7fbfbf\">[19:53:41] </span><span style=\"color: #808000; text-decoration-color: #808000\">WARNING </span> DataNotFoundAtServiceError for                                                   <a href=\"file:///Users/jdubec/Projects/EvilFlowers/evilflowers-webdav-import/.venv/lib/python3.13/site-packages/isbnlib/dev/webquery.py\" target=\"_blank\"><span style=\"color: #7f7f7f; text-decoration-color: #7f7f7f\">webquery.py</span></a><span style=\"color: #7f7f7f; text-decoration-color: #7f7f7f\">:</span><a href=\"file:///Users/jdubec/Projects/EvilFlowers/evilflowers-webdav-import/.venv/lib/python3.13/site-packages/isbnlib/dev/webquery.py#40\" target=\"_blank\"><span style=\"color: #7f7f7f; text-decoration-color: #7f7f7f\">40</span></a>\n",
       "<span style=\"color: #7fbfbf; text-decoration-color: #7fbfbf\">           </span>         <span style=\"color: #0000ff; text-decoration-color: #0000ff; text-decoration: underline\">http://openlibrary.org/api/books?bibkeys=ISBN:9788055307923&amp;format=json&amp;jscmd=da</span> <span style=\"color: #7f7f7f; text-decoration-color: #7f7f7f\">              </span>\n",
       "<span style=\"color: #7fbfbf; text-decoration-color: #7fbfbf\">           </span>         <span style=\"color: #0000ff; text-decoration-color: #0000ff; text-decoration: underline\">ta</span>                                                                               <span style=\"color: #7f7f7f; text-decoration-color: #7f7f7f\">              </span>\n",
       "</pre>\n"
      ]
     },
     "metadata": {},
     "output_type": "display_data"
    },
    {
     "data": {
      "text/plain": [
       "\u001B[2;36m[19:53:42]\u001B[0m\u001B[2;36m \u001B[0m\u001B[1;7;31mCRITICAL\u001B[0m ISBNLibHTTPError for                                                           \u001B]8;id=431313;file:///Users/jdubec/Projects/EvilFlowers/evilflowers-webdav-import/.venv/lib/python3.13/site-packages/isbnlib/dev/webservice.py\u001B\\\u001B[2mwebservice.py\u001B[0m\u001B]8;;\u001B\\\u001B[2m:\u001B[0m\u001B]8;id=220543;file:///Users/jdubec/Projects/EvilFlowers/evilflowers-webdav-import/.venv/lib/python3.13/site-packages/isbnlib/dev/webservice.py#62\u001B\\\u001B[2m62\u001B[0m\u001B]8;;\u001B\\\n",
       "\u001B[2;36m           \u001B[0m         \u001B[4;94mhttps://en.wikipedia.org/api/rest_v1/data/citation/mediawiki/9788055307923\u001B[0m     \u001B[2m                \u001B[0m\n",
       "\u001B[2;36m           \u001B[0m         with code \u001B[1;36m404\u001B[0m \u001B[1m[\u001B[0mNot Found\u001B[1m]\u001B[0m                                                      \u001B[2m                \u001B[0m\n"
      ],
      "text/html": [
       "<pre style=\"white-space:pre;overflow-x:auto;line-height:normal;font-family:Menlo,'DejaVu Sans Mono',consolas,'Courier New',monospace\"><span style=\"color: #7fbfbf; text-decoration-color: #7fbfbf\">[19:53:42] </span><span style=\"background-color: #800000; font-weight: bold\">CRITICAL</span> ISBNLibHTTPError for                                                           <a href=\"file:///Users/jdubec/Projects/EvilFlowers/evilflowers-webdav-import/.venv/lib/python3.13/site-packages/isbnlib/dev/webservice.py\" target=\"_blank\"><span style=\"color: #7f7f7f; text-decoration-color: #7f7f7f\">webservice.py</span></a><span style=\"color: #7f7f7f; text-decoration-color: #7f7f7f\">:</span><a href=\"file:///Users/jdubec/Projects/EvilFlowers/evilflowers-webdav-import/.venv/lib/python3.13/site-packages/isbnlib/dev/webservice.py#62\" target=\"_blank\"><span style=\"color: #7f7f7f; text-decoration-color: #7f7f7f\">62</span></a>\n",
       "<span style=\"color: #7fbfbf; text-decoration-color: #7fbfbf\">           </span>         <span style=\"color: #0000ff; text-decoration-color: #0000ff; text-decoration: underline\">https://en.wikipedia.org/api/rest_v1/data/citation/mediawiki/9788055307923</span>     <span style=\"color: #7f7f7f; text-decoration-color: #7f7f7f\">                </span>\n",
       "<span style=\"color: #7fbfbf; text-decoration-color: #7fbfbf\">           </span>         with code <span style=\"color: #008080; text-decoration-color: #008080; font-weight: bold\">404</span> <span style=\"font-weight: bold\">[</span>Not Found<span style=\"font-weight: bold\">]</span>                                                      <span style=\"color: #7f7f7f; text-decoration-color: #7f7f7f\">                </span>\n",
       "</pre>\n"
      ]
     },
     "metadata": {},
     "output_type": "display_data"
    },
    {
     "data": {
      "text/plain": [
       "\u001B[2;36m[19:53:45]\u001B[0m\u001B[2;36m \u001B[0m\u001B[33mWARNING \u001B[0m DataNotFoundAtServiceError for                                                   \u001B]8;id=834448;file:///Users/jdubec/Projects/EvilFlowers/evilflowers-webdav-import/.venv/lib/python3.13/site-packages/isbnlib/dev/webquery.py\u001B\\\u001B[2mwebquery.py\u001B[0m\u001B]8;;\u001B\\\u001B[2m:\u001B[0m\u001B]8;id=318502;file:///Users/jdubec/Projects/EvilFlowers/evilflowers-webdav-import/.venv/lib/python3.13/site-packages/isbnlib/dev/webquery.py#40\u001B\\\u001B[2m40\u001B[0m\u001B]8;;\u001B\\\n",
       "\u001B[2;36m           \u001B[0m         \u001B[4;94mhttp://openlibrary.org/api/books?\u001B[0m\u001B[4;94mbibkeys\u001B[0m\u001B[4;94m=\u001B[0m\u001B[4;94mISBN\u001B[0m\u001B[4;94m:9788055303987&\u001B[0m\u001B[4;94mformat\u001B[0m\u001B[4;94m=\u001B[0m\u001B[4;94mjson\u001B[0m\u001B[4;94m&\u001B[0m\u001B[4;94mjscmd\u001B[0m\u001B[4;94m=\u001B[0m\u001B[4;94mda\u001B[0m \u001B[2m              \u001B[0m\n",
       "\u001B[2;36m           \u001B[0m         \u001B[4;94mta\u001B[0m                                                                               \u001B[2m              \u001B[0m\n"
      ],
      "text/html": [
       "<pre style=\"white-space:pre;overflow-x:auto;line-height:normal;font-family:Menlo,'DejaVu Sans Mono',consolas,'Courier New',monospace\"><span style=\"color: #7fbfbf; text-decoration-color: #7fbfbf\">[19:53:45] </span><span style=\"color: #808000; text-decoration-color: #808000\">WARNING </span> DataNotFoundAtServiceError for                                                   <a href=\"file:///Users/jdubec/Projects/EvilFlowers/evilflowers-webdav-import/.venv/lib/python3.13/site-packages/isbnlib/dev/webquery.py\" target=\"_blank\"><span style=\"color: #7f7f7f; text-decoration-color: #7f7f7f\">webquery.py</span></a><span style=\"color: #7f7f7f; text-decoration-color: #7f7f7f\">:</span><a href=\"file:///Users/jdubec/Projects/EvilFlowers/evilflowers-webdav-import/.venv/lib/python3.13/site-packages/isbnlib/dev/webquery.py#40\" target=\"_blank\"><span style=\"color: #7f7f7f; text-decoration-color: #7f7f7f\">40</span></a>\n",
       "<span style=\"color: #7fbfbf; text-decoration-color: #7fbfbf\">           </span>         <span style=\"color: #0000ff; text-decoration-color: #0000ff; text-decoration: underline\">http://openlibrary.org/api/books?bibkeys=ISBN:9788055303987&amp;format=json&amp;jscmd=da</span> <span style=\"color: #7f7f7f; text-decoration-color: #7f7f7f\">              </span>\n",
       "<span style=\"color: #7fbfbf; text-decoration-color: #7fbfbf\">           </span>         <span style=\"color: #0000ff; text-decoration-color: #0000ff; text-decoration: underline\">ta</span>                                                                               <span style=\"color: #7f7f7f; text-decoration-color: #7f7f7f\">              </span>\n",
       "</pre>\n"
      ]
     },
     "metadata": {},
     "output_type": "display_data"
    },
    {
     "data": {
      "text/plain": [
       "\u001B[2;36m[19:53:46]\u001B[0m\u001B[2;36m \u001B[0m\u001B[1;7;31mCRITICAL\u001B[0m ISBNLibHTTPError for                                                           \u001B]8;id=96017;file:///Users/jdubec/Projects/EvilFlowers/evilflowers-webdav-import/.venv/lib/python3.13/site-packages/isbnlib/dev/webservice.py\u001B\\\u001B[2mwebservice.py\u001B[0m\u001B]8;;\u001B\\\u001B[2m:\u001B[0m\u001B]8;id=602683;file:///Users/jdubec/Projects/EvilFlowers/evilflowers-webdav-import/.venv/lib/python3.13/site-packages/isbnlib/dev/webservice.py#62\u001B\\\u001B[2m62\u001B[0m\u001B]8;;\u001B\\\n",
       "\u001B[2;36m           \u001B[0m         \u001B[4;94mhttps://en.wikipedia.org/api/rest_v1/data/citation/mediawiki/9788055303987\u001B[0m     \u001B[2m                \u001B[0m\n",
       "\u001B[2;36m           \u001B[0m         with code \u001B[1;36m404\u001B[0m \u001B[1m[\u001B[0mNot Found\u001B[1m]\u001B[0m                                                      \u001B[2m                \u001B[0m\n"
      ],
      "text/html": [
       "<pre style=\"white-space:pre;overflow-x:auto;line-height:normal;font-family:Menlo,'DejaVu Sans Mono',consolas,'Courier New',monospace\"><span style=\"color: #7fbfbf; text-decoration-color: #7fbfbf\">[19:53:46] </span><span style=\"background-color: #800000; font-weight: bold\">CRITICAL</span> ISBNLibHTTPError for                                                           <a href=\"file:///Users/jdubec/Projects/EvilFlowers/evilflowers-webdav-import/.venv/lib/python3.13/site-packages/isbnlib/dev/webservice.py\" target=\"_blank\"><span style=\"color: #7f7f7f; text-decoration-color: #7f7f7f\">webservice.py</span></a><span style=\"color: #7f7f7f; text-decoration-color: #7f7f7f\">:</span><a href=\"file:///Users/jdubec/Projects/EvilFlowers/evilflowers-webdav-import/.venv/lib/python3.13/site-packages/isbnlib/dev/webservice.py#62\" target=\"_blank\"><span style=\"color: #7f7f7f; text-decoration-color: #7f7f7f\">62</span></a>\n",
       "<span style=\"color: #7fbfbf; text-decoration-color: #7fbfbf\">           </span>         <span style=\"color: #0000ff; text-decoration-color: #0000ff; text-decoration: underline\">https://en.wikipedia.org/api/rest_v1/data/citation/mediawiki/9788055303987</span>     <span style=\"color: #7f7f7f; text-decoration-color: #7f7f7f\">                </span>\n",
       "<span style=\"color: #7fbfbf; text-decoration-color: #7fbfbf\">           </span>         with code <span style=\"color: #008080; text-decoration-color: #008080; font-weight: bold\">404</span> <span style=\"font-weight: bold\">[</span>Not Found<span style=\"font-weight: bold\">]</span>                                                      <span style=\"color: #7f7f7f; text-decoration-color: #7f7f7f\">                </span>\n",
       "</pre>\n"
      ]
     },
     "metadata": {},
     "output_type": "display_data"
    },
    {
     "data": {
      "text/plain": [
       "\u001B[2;36m[19:53:48]\u001B[0m\u001B[2;36m \u001B[0m\u001B[33mWARNING \u001B[0m DataNotFoundAtServiceError for                                                   \u001B]8;id=442729;file:///Users/jdubec/Projects/EvilFlowers/evilflowers-webdav-import/.venv/lib/python3.13/site-packages/isbnlib/dev/webquery.py\u001B\\\u001B[2mwebquery.py\u001B[0m\u001B]8;;\u001B\\\u001B[2m:\u001B[0m\u001B]8;id=672831;file:///Users/jdubec/Projects/EvilFlowers/evilflowers-webdav-import/.venv/lib/python3.13/site-packages/isbnlib/dev/webquery.py#40\u001B\\\u001B[2m40\u001B[0m\u001B]8;;\u001B\\\n",
       "\u001B[2;36m           \u001B[0m         \u001B[4;94mhttp://openlibrary.org/api/books?\u001B[0m\u001B[4;94mbibkeys\u001B[0m\u001B[4;94m=\u001B[0m\u001B[4;94mISBN\u001B[0m\u001B[4;94m:9788089313099&\u001B[0m\u001B[4;94mformat\u001B[0m\u001B[4;94m=\u001B[0m\u001B[4;94mjson\u001B[0m\u001B[4;94m&\u001B[0m\u001B[4;94mjscmd\u001B[0m\u001B[4;94m=\u001B[0m\u001B[4;94mda\u001B[0m \u001B[2m              \u001B[0m\n",
       "\u001B[2;36m           \u001B[0m         \u001B[4;94mta\u001B[0m                                                                               \u001B[2m              \u001B[0m\n"
      ],
      "text/html": [
       "<pre style=\"white-space:pre;overflow-x:auto;line-height:normal;font-family:Menlo,'DejaVu Sans Mono',consolas,'Courier New',monospace\"><span style=\"color: #7fbfbf; text-decoration-color: #7fbfbf\">[19:53:48] </span><span style=\"color: #808000; text-decoration-color: #808000\">WARNING </span> DataNotFoundAtServiceError for                                                   <a href=\"file:///Users/jdubec/Projects/EvilFlowers/evilflowers-webdav-import/.venv/lib/python3.13/site-packages/isbnlib/dev/webquery.py\" target=\"_blank\"><span style=\"color: #7f7f7f; text-decoration-color: #7f7f7f\">webquery.py</span></a><span style=\"color: #7f7f7f; text-decoration-color: #7f7f7f\">:</span><a href=\"file:///Users/jdubec/Projects/EvilFlowers/evilflowers-webdav-import/.venv/lib/python3.13/site-packages/isbnlib/dev/webquery.py#40\" target=\"_blank\"><span style=\"color: #7f7f7f; text-decoration-color: #7f7f7f\">40</span></a>\n",
       "<span style=\"color: #7fbfbf; text-decoration-color: #7fbfbf\">           </span>         <span style=\"color: #0000ff; text-decoration-color: #0000ff; text-decoration: underline\">http://openlibrary.org/api/books?bibkeys=ISBN:9788089313099&amp;format=json&amp;jscmd=da</span> <span style=\"color: #7f7f7f; text-decoration-color: #7f7f7f\">              </span>\n",
       "<span style=\"color: #7fbfbf; text-decoration-color: #7fbfbf\">           </span>         <span style=\"color: #0000ff; text-decoration-color: #0000ff; text-decoration: underline\">ta</span>                                                                               <span style=\"color: #7f7f7f; text-decoration-color: #7f7f7f\">              </span>\n",
       "</pre>\n"
      ]
     },
     "metadata": {},
     "output_type": "display_data"
    },
    {
     "data": {
      "text/plain": [
       "\u001B[2;36m[19:53:49]\u001B[0m\u001B[2;36m \u001B[0m\u001B[1;7;31mCRITICAL\u001B[0m ISBNLibHTTPError for                                                           \u001B]8;id=650693;file:///Users/jdubec/Projects/EvilFlowers/evilflowers-webdav-import/.venv/lib/python3.13/site-packages/isbnlib/dev/webservice.py\u001B\\\u001B[2mwebservice.py\u001B[0m\u001B]8;;\u001B\\\u001B[2m:\u001B[0m\u001B]8;id=79778;file:///Users/jdubec/Projects/EvilFlowers/evilflowers-webdav-import/.venv/lib/python3.13/site-packages/isbnlib/dev/webservice.py#62\u001B\\\u001B[2m62\u001B[0m\u001B]8;;\u001B\\\n",
       "\u001B[2;36m           \u001B[0m         \u001B[4;94mhttps://en.wikipedia.org/api/rest_v1/data/citation/mediawiki/9788089313099\u001B[0m     \u001B[2m                \u001B[0m\n",
       "\u001B[2;36m           \u001B[0m         with code \u001B[1;36m404\u001B[0m \u001B[1m[\u001B[0mNot Found\u001B[1m]\u001B[0m                                                      \u001B[2m                \u001B[0m\n"
      ],
      "text/html": [
       "<pre style=\"white-space:pre;overflow-x:auto;line-height:normal;font-family:Menlo,'DejaVu Sans Mono',consolas,'Courier New',monospace\"><span style=\"color: #7fbfbf; text-decoration-color: #7fbfbf\">[19:53:49] </span><span style=\"background-color: #800000; font-weight: bold\">CRITICAL</span> ISBNLibHTTPError for                                                           <a href=\"file:///Users/jdubec/Projects/EvilFlowers/evilflowers-webdav-import/.venv/lib/python3.13/site-packages/isbnlib/dev/webservice.py\" target=\"_blank\"><span style=\"color: #7f7f7f; text-decoration-color: #7f7f7f\">webservice.py</span></a><span style=\"color: #7f7f7f; text-decoration-color: #7f7f7f\">:</span><a href=\"file:///Users/jdubec/Projects/EvilFlowers/evilflowers-webdav-import/.venv/lib/python3.13/site-packages/isbnlib/dev/webservice.py#62\" target=\"_blank\"><span style=\"color: #7f7f7f; text-decoration-color: #7f7f7f\">62</span></a>\n",
       "<span style=\"color: #7fbfbf; text-decoration-color: #7fbfbf\">           </span>         <span style=\"color: #0000ff; text-decoration-color: #0000ff; text-decoration: underline\">https://en.wikipedia.org/api/rest_v1/data/citation/mediawiki/9788089313099</span>     <span style=\"color: #7f7f7f; text-decoration-color: #7f7f7f\">                </span>\n",
       "<span style=\"color: #7fbfbf; text-decoration-color: #7fbfbf\">           </span>         with code <span style=\"color: #008080; text-decoration-color: #008080; font-weight: bold\">404</span> <span style=\"font-weight: bold\">[</span>Not Found<span style=\"font-weight: bold\">]</span>                                                      <span style=\"color: #7f7f7f; text-decoration-color: #7f7f7f\">                </span>\n",
       "</pre>\n"
      ]
     },
     "metadata": {},
     "output_type": "display_data"
    },
    {
     "data": {
      "text/plain": [
       "\u001B[2;36m[19:53:54]\u001B[0m\u001B[2;36m \u001B[0m\u001B[33mWARNING \u001B[0m DataNotFoundAtServiceError for                                                   \u001B]8;id=467424;file:///Users/jdubec/Projects/EvilFlowers/evilflowers-webdav-import/.venv/lib/python3.13/site-packages/isbnlib/dev/webquery.py\u001B\\\u001B[2mwebquery.py\u001B[0m\u001B]8;;\u001B\\\u001B[2m:\u001B[0m\u001B]8;id=78080;file:///Users/jdubec/Projects/EvilFlowers/evilflowers-webdav-import/.venv/lib/python3.13/site-packages/isbnlib/dev/webquery.py#40\u001B\\\u001B[2m40\u001B[0m\u001B]8;;\u001B\\\n",
       "\u001B[2;36m           \u001B[0m         \u001B[4;94mhttp://openlibrary.org/api/books?\u001B[0m\u001B[4;94mbibkeys\u001B[0m\u001B[4;94m=\u001B[0m\u001B[4;94mISBN\u001B[0m\u001B[4;94m:9788022736510&\u001B[0m\u001B[4;94mformat\u001B[0m\u001B[4;94m=\u001B[0m\u001B[4;94mjson\u001B[0m\u001B[4;94m&\u001B[0m\u001B[4;94mjscmd\u001B[0m\u001B[4;94m=\u001B[0m\u001B[4;94mda\u001B[0m \u001B[2m              \u001B[0m\n",
       "\u001B[2;36m           \u001B[0m         \u001B[4;94mta\u001B[0m                                                                               \u001B[2m              \u001B[0m\n"
      ],
      "text/html": [
       "<pre style=\"white-space:pre;overflow-x:auto;line-height:normal;font-family:Menlo,'DejaVu Sans Mono',consolas,'Courier New',monospace\"><span style=\"color: #7fbfbf; text-decoration-color: #7fbfbf\">[19:53:54] </span><span style=\"color: #808000; text-decoration-color: #808000\">WARNING </span> DataNotFoundAtServiceError for                                                   <a href=\"file:///Users/jdubec/Projects/EvilFlowers/evilflowers-webdav-import/.venv/lib/python3.13/site-packages/isbnlib/dev/webquery.py\" target=\"_blank\"><span style=\"color: #7f7f7f; text-decoration-color: #7f7f7f\">webquery.py</span></a><span style=\"color: #7f7f7f; text-decoration-color: #7f7f7f\">:</span><a href=\"file:///Users/jdubec/Projects/EvilFlowers/evilflowers-webdav-import/.venv/lib/python3.13/site-packages/isbnlib/dev/webquery.py#40\" target=\"_blank\"><span style=\"color: #7f7f7f; text-decoration-color: #7f7f7f\">40</span></a>\n",
       "<span style=\"color: #7fbfbf; text-decoration-color: #7fbfbf\">           </span>         <span style=\"color: #0000ff; text-decoration-color: #0000ff; text-decoration: underline\">http://openlibrary.org/api/books?bibkeys=ISBN:9788022736510&amp;format=json&amp;jscmd=da</span> <span style=\"color: #7f7f7f; text-decoration-color: #7f7f7f\">              </span>\n",
       "<span style=\"color: #7fbfbf; text-decoration-color: #7fbfbf\">           </span>         <span style=\"color: #0000ff; text-decoration-color: #0000ff; text-decoration: underline\">ta</span>                                                                               <span style=\"color: #7f7f7f; text-decoration-color: #7f7f7f\">              </span>\n",
       "</pre>\n"
      ]
     },
     "metadata": {},
     "output_type": "display_data"
    },
    {
     "data": {
      "text/plain": [
       "\u001B[2;36m[19:53:56]\u001B[0m\u001B[2;36m \u001B[0m\u001B[1;7;31mCRITICAL\u001B[0m ISBNLibHTTPError for                                                           \u001B]8;id=45235;file:///Users/jdubec/Projects/EvilFlowers/evilflowers-webdav-import/.venv/lib/python3.13/site-packages/isbnlib/dev/webservice.py\u001B\\\u001B[2mwebservice.py\u001B[0m\u001B]8;;\u001B\\\u001B[2m:\u001B[0m\u001B]8;id=439697;file:///Users/jdubec/Projects/EvilFlowers/evilflowers-webdav-import/.venv/lib/python3.13/site-packages/isbnlib/dev/webservice.py#62\u001B\\\u001B[2m62\u001B[0m\u001B]8;;\u001B\\\n",
       "\u001B[2;36m           \u001B[0m         \u001B[4;94mhttps://en.wikipedia.org/api/rest_v1/data/citation/mediawiki/9788022736510\u001B[0m     \u001B[2m                \u001B[0m\n",
       "\u001B[2;36m           \u001B[0m         with code \u001B[1;36m404\u001B[0m \u001B[1m[\u001B[0mNot Found\u001B[1m]\u001B[0m                                                      \u001B[2m                \u001B[0m\n"
      ],
      "text/html": [
       "<pre style=\"white-space:pre;overflow-x:auto;line-height:normal;font-family:Menlo,'DejaVu Sans Mono',consolas,'Courier New',monospace\"><span style=\"color: #7fbfbf; text-decoration-color: #7fbfbf\">[19:53:56] </span><span style=\"background-color: #800000; font-weight: bold\">CRITICAL</span> ISBNLibHTTPError for                                                           <a href=\"file:///Users/jdubec/Projects/EvilFlowers/evilflowers-webdav-import/.venv/lib/python3.13/site-packages/isbnlib/dev/webservice.py\" target=\"_blank\"><span style=\"color: #7f7f7f; text-decoration-color: #7f7f7f\">webservice.py</span></a><span style=\"color: #7f7f7f; text-decoration-color: #7f7f7f\">:</span><a href=\"file:///Users/jdubec/Projects/EvilFlowers/evilflowers-webdav-import/.venv/lib/python3.13/site-packages/isbnlib/dev/webservice.py#62\" target=\"_blank\"><span style=\"color: #7f7f7f; text-decoration-color: #7f7f7f\">62</span></a>\n",
       "<span style=\"color: #7fbfbf; text-decoration-color: #7fbfbf\">           </span>         <span style=\"color: #0000ff; text-decoration-color: #0000ff; text-decoration: underline\">https://en.wikipedia.org/api/rest_v1/data/citation/mediawiki/9788022736510</span>     <span style=\"color: #7f7f7f; text-decoration-color: #7f7f7f\">                </span>\n",
       "<span style=\"color: #7fbfbf; text-decoration-color: #7fbfbf\">           </span>         with code <span style=\"color: #008080; text-decoration-color: #008080; font-weight: bold\">404</span> <span style=\"font-weight: bold\">[</span>Not Found<span style=\"font-weight: bold\">]</span>                                                      <span style=\"color: #7f7f7f; text-decoration-color: #7f7f7f\">                </span>\n",
       "</pre>\n"
      ]
     },
     "metadata": {},
     "output_type": "display_data"
    },
    {
     "data": {
      "text/plain": [
       "\u001B[2;36m[19:54:02]\u001B[0m\u001B[2;36m \u001B[0m\u001B[33mWARNING \u001B[0m DataNotFoundAtServiceError for                                                   \u001B]8;id=3644;file:///Users/jdubec/Projects/EvilFlowers/evilflowers-webdav-import/.venv/lib/python3.13/site-packages/isbnlib/dev/webquery.py\u001B\\\u001B[2mwebquery.py\u001B[0m\u001B]8;;\u001B\\\u001B[2m:\u001B[0m\u001B]8;id=749863;file:///Users/jdubec/Projects/EvilFlowers/evilflowers-webdav-import/.venv/lib/python3.13/site-packages/isbnlib/dev/webquery.py#40\u001B\\\u001B[2m40\u001B[0m\u001B]8;;\u001B\\\n",
       "\u001B[2;36m           \u001B[0m         \u001B[4;94mhttp://openlibrary.org/api/books?\u001B[0m\u001B[4;94mbibkeys\u001B[0m\u001B[4;94m=\u001B[0m\u001B[4;94mISBN\u001B[0m\u001B[4;94m:9788022734578&\u001B[0m\u001B[4;94mformat\u001B[0m\u001B[4;94m=\u001B[0m\u001B[4;94mjson\u001B[0m\u001B[4;94m&\u001B[0m\u001B[4;94mjscmd\u001B[0m\u001B[4;94m=\u001B[0m\u001B[4;94mda\u001B[0m \u001B[2m              \u001B[0m\n",
       "\u001B[2;36m           \u001B[0m         \u001B[4;94mta\u001B[0m                                                                               \u001B[2m              \u001B[0m\n"
      ],
      "text/html": [
       "<pre style=\"white-space:pre;overflow-x:auto;line-height:normal;font-family:Menlo,'DejaVu Sans Mono',consolas,'Courier New',monospace\"><span style=\"color: #7fbfbf; text-decoration-color: #7fbfbf\">[19:54:02] </span><span style=\"color: #808000; text-decoration-color: #808000\">WARNING </span> DataNotFoundAtServiceError for                                                   <a href=\"file:///Users/jdubec/Projects/EvilFlowers/evilflowers-webdav-import/.venv/lib/python3.13/site-packages/isbnlib/dev/webquery.py\" target=\"_blank\"><span style=\"color: #7f7f7f; text-decoration-color: #7f7f7f\">webquery.py</span></a><span style=\"color: #7f7f7f; text-decoration-color: #7f7f7f\">:</span><a href=\"file:///Users/jdubec/Projects/EvilFlowers/evilflowers-webdav-import/.venv/lib/python3.13/site-packages/isbnlib/dev/webquery.py#40\" target=\"_blank\"><span style=\"color: #7f7f7f; text-decoration-color: #7f7f7f\">40</span></a>\n",
       "<span style=\"color: #7fbfbf; text-decoration-color: #7fbfbf\">           </span>         <span style=\"color: #0000ff; text-decoration-color: #0000ff; text-decoration: underline\">http://openlibrary.org/api/books?bibkeys=ISBN:9788022734578&amp;format=json&amp;jscmd=da</span> <span style=\"color: #7f7f7f; text-decoration-color: #7f7f7f\">              </span>\n",
       "<span style=\"color: #7fbfbf; text-decoration-color: #7fbfbf\">           </span>         <span style=\"color: #0000ff; text-decoration-color: #0000ff; text-decoration: underline\">ta</span>                                                                               <span style=\"color: #7f7f7f; text-decoration-color: #7f7f7f\">              </span>\n",
       "</pre>\n"
      ]
     },
     "metadata": {},
     "output_type": "display_data"
    },
    {
     "data": {
      "text/plain": [
       "\u001B[2;36m[19:54:04]\u001B[0m\u001B[2;36m \u001B[0m\u001B[1;7;31mCRITICAL\u001B[0m ISBNLibHTTPError for                                                           \u001B]8;id=696836;file:///Users/jdubec/Projects/EvilFlowers/evilflowers-webdav-import/.venv/lib/python3.13/site-packages/isbnlib/dev/webservice.py\u001B\\\u001B[2mwebservice.py\u001B[0m\u001B]8;;\u001B\\\u001B[2m:\u001B[0m\u001B]8;id=718158;file:///Users/jdubec/Projects/EvilFlowers/evilflowers-webdav-import/.venv/lib/python3.13/site-packages/isbnlib/dev/webservice.py#62\u001B\\\u001B[2m62\u001B[0m\u001B]8;;\u001B\\\n",
       "\u001B[2;36m           \u001B[0m         \u001B[4;94mhttps://en.wikipedia.org/api/rest_v1/data/citation/mediawiki/9788022734578\u001B[0m     \u001B[2m                \u001B[0m\n",
       "\u001B[2;36m           \u001B[0m         with code \u001B[1;36m404\u001B[0m \u001B[1m[\u001B[0mNot Found\u001B[1m]\u001B[0m                                                      \u001B[2m                \u001B[0m\n"
      ],
      "text/html": [
       "<pre style=\"white-space:pre;overflow-x:auto;line-height:normal;font-family:Menlo,'DejaVu Sans Mono',consolas,'Courier New',monospace\"><span style=\"color: #7fbfbf; text-decoration-color: #7fbfbf\">[19:54:04] </span><span style=\"background-color: #800000; font-weight: bold\">CRITICAL</span> ISBNLibHTTPError for                                                           <a href=\"file:///Users/jdubec/Projects/EvilFlowers/evilflowers-webdav-import/.venv/lib/python3.13/site-packages/isbnlib/dev/webservice.py\" target=\"_blank\"><span style=\"color: #7f7f7f; text-decoration-color: #7f7f7f\">webservice.py</span></a><span style=\"color: #7f7f7f; text-decoration-color: #7f7f7f\">:</span><a href=\"file:///Users/jdubec/Projects/EvilFlowers/evilflowers-webdav-import/.venv/lib/python3.13/site-packages/isbnlib/dev/webservice.py#62\" target=\"_blank\"><span style=\"color: #7f7f7f; text-decoration-color: #7f7f7f\">62</span></a>\n",
       "<span style=\"color: #7fbfbf; text-decoration-color: #7fbfbf\">           </span>         <span style=\"color: #0000ff; text-decoration-color: #0000ff; text-decoration: underline\">https://en.wikipedia.org/api/rest_v1/data/citation/mediawiki/9788022734578</span>     <span style=\"color: #7f7f7f; text-decoration-color: #7f7f7f\">                </span>\n",
       "<span style=\"color: #7fbfbf; text-decoration-color: #7fbfbf\">           </span>         with code <span style=\"color: #008080; text-decoration-color: #008080; font-weight: bold\">404</span> <span style=\"font-weight: bold\">[</span>Not Found<span style=\"font-weight: bold\">]</span>                                                      <span style=\"color: #7f7f7f; text-decoration-color: #7f7f7f\">                </span>\n",
       "</pre>\n"
      ]
     },
     "metadata": {},
     "output_type": "display_data"
    },
    {
     "data": {
      "text/plain": [
       "\u001B[2;36m[19:54:06]\u001B[0m\u001B[2;36m \u001B[0m\u001B[33mWARNING \u001B[0m DataNotFoundAtServiceError for                                                   \u001B]8;id=9936;file:///Users/jdubec/Projects/EvilFlowers/evilflowers-webdav-import/.venv/lib/python3.13/site-packages/isbnlib/dev/webquery.py\u001B\\\u001B[2mwebquery.py\u001B[0m\u001B]8;;\u001B\\\u001B[2m:\u001B[0m\u001B]8;id=830497;file:///Users/jdubec/Projects/EvilFlowers/evilflowers-webdav-import/.venv/lib/python3.13/site-packages/isbnlib/dev/webquery.py#40\u001B\\\u001B[2m40\u001B[0m\u001B]8;;\u001B\\\n",
       "\u001B[2;36m           \u001B[0m         \u001B[4;94mhttp://openlibrary.org/api/books?\u001B[0m\u001B[4;94mbibkeys\u001B[0m\u001B[4;94m=\u001B[0m\u001B[4;94mISBN\u001B[0m\u001B[4;94m:9788022727457&\u001B[0m\u001B[4;94mformat\u001B[0m\u001B[4;94m=\u001B[0m\u001B[4;94mjson\u001B[0m\u001B[4;94m&\u001B[0m\u001B[4;94mjscmd\u001B[0m\u001B[4;94m=\u001B[0m\u001B[4;94mda\u001B[0m \u001B[2m              \u001B[0m\n",
       "\u001B[2;36m           \u001B[0m         \u001B[4;94mta\u001B[0m                                                                               \u001B[2m              \u001B[0m\n"
      ],
      "text/html": [
       "<pre style=\"white-space:pre;overflow-x:auto;line-height:normal;font-family:Menlo,'DejaVu Sans Mono',consolas,'Courier New',monospace\"><span style=\"color: #7fbfbf; text-decoration-color: #7fbfbf\">[19:54:06] </span><span style=\"color: #808000; text-decoration-color: #808000\">WARNING </span> DataNotFoundAtServiceError for                                                   <a href=\"file:///Users/jdubec/Projects/EvilFlowers/evilflowers-webdav-import/.venv/lib/python3.13/site-packages/isbnlib/dev/webquery.py\" target=\"_blank\"><span style=\"color: #7f7f7f; text-decoration-color: #7f7f7f\">webquery.py</span></a><span style=\"color: #7f7f7f; text-decoration-color: #7f7f7f\">:</span><a href=\"file:///Users/jdubec/Projects/EvilFlowers/evilflowers-webdav-import/.venv/lib/python3.13/site-packages/isbnlib/dev/webquery.py#40\" target=\"_blank\"><span style=\"color: #7f7f7f; text-decoration-color: #7f7f7f\">40</span></a>\n",
       "<span style=\"color: #7fbfbf; text-decoration-color: #7fbfbf\">           </span>         <span style=\"color: #0000ff; text-decoration-color: #0000ff; text-decoration: underline\">http://openlibrary.org/api/books?bibkeys=ISBN:9788022727457&amp;format=json&amp;jscmd=da</span> <span style=\"color: #7f7f7f; text-decoration-color: #7f7f7f\">              </span>\n",
       "<span style=\"color: #7fbfbf; text-decoration-color: #7fbfbf\">           </span>         <span style=\"color: #0000ff; text-decoration-color: #0000ff; text-decoration: underline\">ta</span>                                                                               <span style=\"color: #7f7f7f; text-decoration-color: #7f7f7f\">              </span>\n",
       "</pre>\n"
      ]
     },
     "metadata": {},
     "output_type": "display_data"
    },
    {
     "data": {
      "text/plain": [
       "\u001B[2;36m[19:54:08]\u001B[0m\u001B[2;36m \u001B[0m\u001B[1;7;31mCRITICAL\u001B[0m ISBNLibHTTPError for                                                           \u001B]8;id=717469;file:///Users/jdubec/Projects/EvilFlowers/evilflowers-webdav-import/.venv/lib/python3.13/site-packages/isbnlib/dev/webservice.py\u001B\\\u001B[2mwebservice.py\u001B[0m\u001B]8;;\u001B\\\u001B[2m:\u001B[0m\u001B]8;id=845609;file:///Users/jdubec/Projects/EvilFlowers/evilflowers-webdav-import/.venv/lib/python3.13/site-packages/isbnlib/dev/webservice.py#62\u001B\\\u001B[2m62\u001B[0m\u001B]8;;\u001B\\\n",
       "\u001B[2;36m           \u001B[0m         \u001B[4;94mhttps://en.wikipedia.org/api/rest_v1/data/citation/mediawiki/9788022727457\u001B[0m     \u001B[2m                \u001B[0m\n",
       "\u001B[2;36m           \u001B[0m         with code \u001B[1;36m404\u001B[0m \u001B[1m[\u001B[0mNot Found\u001B[1m]\u001B[0m                                                      \u001B[2m                \u001B[0m\n"
      ],
      "text/html": [
       "<pre style=\"white-space:pre;overflow-x:auto;line-height:normal;font-family:Menlo,'DejaVu Sans Mono',consolas,'Courier New',monospace\"><span style=\"color: #7fbfbf; text-decoration-color: #7fbfbf\">[19:54:08] </span><span style=\"background-color: #800000; font-weight: bold\">CRITICAL</span> ISBNLibHTTPError for                                                           <a href=\"file:///Users/jdubec/Projects/EvilFlowers/evilflowers-webdav-import/.venv/lib/python3.13/site-packages/isbnlib/dev/webservice.py\" target=\"_blank\"><span style=\"color: #7f7f7f; text-decoration-color: #7f7f7f\">webservice.py</span></a><span style=\"color: #7f7f7f; text-decoration-color: #7f7f7f\">:</span><a href=\"file:///Users/jdubec/Projects/EvilFlowers/evilflowers-webdav-import/.venv/lib/python3.13/site-packages/isbnlib/dev/webservice.py#62\" target=\"_blank\"><span style=\"color: #7f7f7f; text-decoration-color: #7f7f7f\">62</span></a>\n",
       "<span style=\"color: #7fbfbf; text-decoration-color: #7fbfbf\">           </span>         <span style=\"color: #0000ff; text-decoration-color: #0000ff; text-decoration: underline\">https://en.wikipedia.org/api/rest_v1/data/citation/mediawiki/9788022727457</span>     <span style=\"color: #7f7f7f; text-decoration-color: #7f7f7f\">                </span>\n",
       "<span style=\"color: #7fbfbf; text-decoration-color: #7fbfbf\">           </span>         with code <span style=\"color: #008080; text-decoration-color: #008080; font-weight: bold\">404</span> <span style=\"font-weight: bold\">[</span>Not Found<span style=\"font-weight: bold\">]</span>                                                      <span style=\"color: #7f7f7f; text-decoration-color: #7f7f7f\">                </span>\n",
       "</pre>\n"
      ]
     },
     "metadata": {},
     "output_type": "display_data"
    },
    {
     "data": {
      "text/plain": [
       "\u001B[2;36m[19:54:10]\u001B[0m\u001B[2;36m \u001B[0m\u001B[33mWARNING \u001B[0m DataNotFoundAtServiceError for                                                   \u001B]8;id=587568;file:///Users/jdubec/Projects/EvilFlowers/evilflowers-webdav-import/.venv/lib/python3.13/site-packages/isbnlib/dev/webquery.py\u001B\\\u001B[2mwebquery.py\u001B[0m\u001B]8;;\u001B\\\u001B[2m:\u001B[0m\u001B]8;id=766769;file:///Users/jdubec/Projects/EvilFlowers/evilflowers-webdav-import/.venv/lib/python3.13/site-packages/isbnlib/dev/webquery.py#40\u001B\\\u001B[2m40\u001B[0m\u001B]8;;\u001B\\\n",
       "\u001B[2;36m           \u001B[0m         \u001B[4;94mhttp://openlibrary.org/api/books?\u001B[0m\u001B[4;94mbibkeys\u001B[0m\u001B[4;94m=\u001B[0m\u001B[4;94mISBN\u001B[0m\u001B[4;94m:9788081060489&\u001B[0m\u001B[4;94mformat\u001B[0m\u001B[4;94m=\u001B[0m\u001B[4;94mjson\u001B[0m\u001B[4;94m&\u001B[0m\u001B[4;94mjscmd\u001B[0m\u001B[4;94m=\u001B[0m\u001B[4;94mda\u001B[0m \u001B[2m              \u001B[0m\n",
       "\u001B[2;36m           \u001B[0m         \u001B[4;94mta\u001B[0m                                                                               \u001B[2m              \u001B[0m\n"
      ],
      "text/html": [
       "<pre style=\"white-space:pre;overflow-x:auto;line-height:normal;font-family:Menlo,'DejaVu Sans Mono',consolas,'Courier New',monospace\"><span style=\"color: #7fbfbf; text-decoration-color: #7fbfbf\">[19:54:10] </span><span style=\"color: #808000; text-decoration-color: #808000\">WARNING </span> DataNotFoundAtServiceError for                                                   <a href=\"file:///Users/jdubec/Projects/EvilFlowers/evilflowers-webdav-import/.venv/lib/python3.13/site-packages/isbnlib/dev/webquery.py\" target=\"_blank\"><span style=\"color: #7f7f7f; text-decoration-color: #7f7f7f\">webquery.py</span></a><span style=\"color: #7f7f7f; text-decoration-color: #7f7f7f\">:</span><a href=\"file:///Users/jdubec/Projects/EvilFlowers/evilflowers-webdav-import/.venv/lib/python3.13/site-packages/isbnlib/dev/webquery.py#40\" target=\"_blank\"><span style=\"color: #7f7f7f; text-decoration-color: #7f7f7f\">40</span></a>\n",
       "<span style=\"color: #7fbfbf; text-decoration-color: #7fbfbf\">           </span>         <span style=\"color: #0000ff; text-decoration-color: #0000ff; text-decoration: underline\">http://openlibrary.org/api/books?bibkeys=ISBN:9788081060489&amp;format=json&amp;jscmd=da</span> <span style=\"color: #7f7f7f; text-decoration-color: #7f7f7f\">              </span>\n",
       "<span style=\"color: #7fbfbf; text-decoration-color: #7fbfbf\">           </span>         <span style=\"color: #0000ff; text-decoration-color: #0000ff; text-decoration: underline\">ta</span>                                                                               <span style=\"color: #7f7f7f; text-decoration-color: #7f7f7f\">              </span>\n",
       "</pre>\n"
      ]
     },
     "metadata": {},
     "output_type": "display_data"
    },
    {
     "data": {
      "text/plain": [
       "\u001B[2;36m[19:54:12]\u001B[0m\u001B[2;36m \u001B[0m\u001B[1;7;31mCRITICAL\u001B[0m ISBNLibHTTPError for                                                           \u001B]8;id=102983;file:///Users/jdubec/Projects/EvilFlowers/evilflowers-webdav-import/.venv/lib/python3.13/site-packages/isbnlib/dev/webservice.py\u001B\\\u001B[2mwebservice.py\u001B[0m\u001B]8;;\u001B\\\u001B[2m:\u001B[0m\u001B]8;id=904035;file:///Users/jdubec/Projects/EvilFlowers/evilflowers-webdav-import/.venv/lib/python3.13/site-packages/isbnlib/dev/webservice.py#62\u001B\\\u001B[2m62\u001B[0m\u001B]8;;\u001B\\\n",
       "\u001B[2;36m           \u001B[0m         \u001B[4;94mhttps://en.wikipedia.org/api/rest_v1/data/citation/mediawiki/9788081060489\u001B[0m     \u001B[2m                \u001B[0m\n",
       "\u001B[2;36m           \u001B[0m         with code \u001B[1;36m404\u001B[0m \u001B[1m[\u001B[0mNot Found\u001B[1m]\u001B[0m                                                      \u001B[2m                \u001B[0m\n"
      ],
      "text/html": [
       "<pre style=\"white-space:pre;overflow-x:auto;line-height:normal;font-family:Menlo,'DejaVu Sans Mono',consolas,'Courier New',monospace\"><span style=\"color: #7fbfbf; text-decoration-color: #7fbfbf\">[19:54:12] </span><span style=\"background-color: #800000; font-weight: bold\">CRITICAL</span> ISBNLibHTTPError for                                                           <a href=\"file:///Users/jdubec/Projects/EvilFlowers/evilflowers-webdav-import/.venv/lib/python3.13/site-packages/isbnlib/dev/webservice.py\" target=\"_blank\"><span style=\"color: #7f7f7f; text-decoration-color: #7f7f7f\">webservice.py</span></a><span style=\"color: #7f7f7f; text-decoration-color: #7f7f7f\">:</span><a href=\"file:///Users/jdubec/Projects/EvilFlowers/evilflowers-webdav-import/.venv/lib/python3.13/site-packages/isbnlib/dev/webservice.py#62\" target=\"_blank\"><span style=\"color: #7f7f7f; text-decoration-color: #7f7f7f\">62</span></a>\n",
       "<span style=\"color: #7fbfbf; text-decoration-color: #7fbfbf\">           </span>         <span style=\"color: #0000ff; text-decoration-color: #0000ff; text-decoration: underline\">https://en.wikipedia.org/api/rest_v1/data/citation/mediawiki/9788081060489</span>     <span style=\"color: #7f7f7f; text-decoration-color: #7f7f7f\">                </span>\n",
       "<span style=\"color: #7fbfbf; text-decoration-color: #7fbfbf\">           </span>         with code <span style=\"color: #008080; text-decoration-color: #008080; font-weight: bold\">404</span> <span style=\"font-weight: bold\">[</span>Not Found<span style=\"font-weight: bold\">]</span>                                                      <span style=\"color: #7f7f7f; text-decoration-color: #7f7f7f\">                </span>\n",
       "</pre>\n"
      ]
     },
     "metadata": {},
     "output_type": "display_data"
    },
    {
     "data": {
      "text/plain": [
       "\u001B[2;36m[19:54:14]\u001B[0m\u001B[2;36m \u001B[0m\u001B[33mWARNING \u001B[0m DataNotFoundAtServiceError for                                                   \u001B]8;id=945879;file:///Users/jdubec/Projects/EvilFlowers/evilflowers-webdav-import/.venv/lib/python3.13/site-packages/isbnlib/dev/webquery.py\u001B\\\u001B[2mwebquery.py\u001B[0m\u001B]8;;\u001B\\\u001B[2m:\u001B[0m\u001B]8;id=314539;file:///Users/jdubec/Projects/EvilFlowers/evilflowers-webdav-import/.venv/lib/python3.13/site-packages/isbnlib/dev/webquery.py#40\u001B\\\u001B[2m40\u001B[0m\u001B]8;;\u001B\\\n",
       "\u001B[2;36m           \u001B[0m         \u001B[4;94mhttp://openlibrary.org/api/books?\u001B[0m\u001B[4;94mbibkeys\u001B[0m\u001B[4;94m=\u001B[0m\u001B[4;94mISBN\u001B[0m\u001B[4;94m:9788022750806&\u001B[0m\u001B[4;94mformat\u001B[0m\u001B[4;94m=\u001B[0m\u001B[4;94mjson\u001B[0m\u001B[4;94m&\u001B[0m\u001B[4;94mjscmd\u001B[0m\u001B[4;94m=\u001B[0m\u001B[4;94mda\u001B[0m \u001B[2m              \u001B[0m\n",
       "\u001B[2;36m           \u001B[0m         \u001B[4;94mta\u001B[0m                                                                               \u001B[2m              \u001B[0m\n"
      ],
      "text/html": [
       "<pre style=\"white-space:pre;overflow-x:auto;line-height:normal;font-family:Menlo,'DejaVu Sans Mono',consolas,'Courier New',monospace\"><span style=\"color: #7fbfbf; text-decoration-color: #7fbfbf\">[19:54:14] </span><span style=\"color: #808000; text-decoration-color: #808000\">WARNING </span> DataNotFoundAtServiceError for                                                   <a href=\"file:///Users/jdubec/Projects/EvilFlowers/evilflowers-webdav-import/.venv/lib/python3.13/site-packages/isbnlib/dev/webquery.py\" target=\"_blank\"><span style=\"color: #7f7f7f; text-decoration-color: #7f7f7f\">webquery.py</span></a><span style=\"color: #7f7f7f; text-decoration-color: #7f7f7f\">:</span><a href=\"file:///Users/jdubec/Projects/EvilFlowers/evilflowers-webdav-import/.venv/lib/python3.13/site-packages/isbnlib/dev/webquery.py#40\" target=\"_blank\"><span style=\"color: #7f7f7f; text-decoration-color: #7f7f7f\">40</span></a>\n",
       "<span style=\"color: #7fbfbf; text-decoration-color: #7fbfbf\">           </span>         <span style=\"color: #0000ff; text-decoration-color: #0000ff; text-decoration: underline\">http://openlibrary.org/api/books?bibkeys=ISBN:9788022750806&amp;format=json&amp;jscmd=da</span> <span style=\"color: #7f7f7f; text-decoration-color: #7f7f7f\">              </span>\n",
       "<span style=\"color: #7fbfbf; text-decoration-color: #7fbfbf\">           </span>         <span style=\"color: #0000ff; text-decoration-color: #0000ff; text-decoration: underline\">ta</span>                                                                               <span style=\"color: #7f7f7f; text-decoration-color: #7f7f7f\">              </span>\n",
       "</pre>\n"
      ]
     },
     "metadata": {},
     "output_type": "display_data"
    },
    {
     "data": {
      "text/plain": [
       "\u001B[2;36m[19:54:15]\u001B[0m\u001B[2;36m \u001B[0m\u001B[1;7;31mCRITICAL\u001B[0m ISBNLibHTTPError for                                                           \u001B]8;id=698428;file:///Users/jdubec/Projects/EvilFlowers/evilflowers-webdav-import/.venv/lib/python3.13/site-packages/isbnlib/dev/webservice.py\u001B\\\u001B[2mwebservice.py\u001B[0m\u001B]8;;\u001B\\\u001B[2m:\u001B[0m\u001B]8;id=170405;file:///Users/jdubec/Projects/EvilFlowers/evilflowers-webdav-import/.venv/lib/python3.13/site-packages/isbnlib/dev/webservice.py#62\u001B\\\u001B[2m62\u001B[0m\u001B]8;;\u001B\\\n",
       "\u001B[2;36m           \u001B[0m         \u001B[4;94mhttps://en.wikipedia.org/api/rest_v1/data/citation/mediawiki/9788022750806\u001B[0m     \u001B[2m                \u001B[0m\n",
       "\u001B[2;36m           \u001B[0m         with code \u001B[1;36m404\u001B[0m \u001B[1m[\u001B[0mNot Found\u001B[1m]\u001B[0m                                                      \u001B[2m                \u001B[0m\n"
      ],
      "text/html": [
       "<pre style=\"white-space:pre;overflow-x:auto;line-height:normal;font-family:Menlo,'DejaVu Sans Mono',consolas,'Courier New',monospace\"><span style=\"color: #7fbfbf; text-decoration-color: #7fbfbf\">[19:54:15] </span><span style=\"background-color: #800000; font-weight: bold\">CRITICAL</span> ISBNLibHTTPError for                                                           <a href=\"file:///Users/jdubec/Projects/EvilFlowers/evilflowers-webdav-import/.venv/lib/python3.13/site-packages/isbnlib/dev/webservice.py\" target=\"_blank\"><span style=\"color: #7f7f7f; text-decoration-color: #7f7f7f\">webservice.py</span></a><span style=\"color: #7f7f7f; text-decoration-color: #7f7f7f\">:</span><a href=\"file:///Users/jdubec/Projects/EvilFlowers/evilflowers-webdav-import/.venv/lib/python3.13/site-packages/isbnlib/dev/webservice.py#62\" target=\"_blank\"><span style=\"color: #7f7f7f; text-decoration-color: #7f7f7f\">62</span></a>\n",
       "<span style=\"color: #7fbfbf; text-decoration-color: #7fbfbf\">           </span>         <span style=\"color: #0000ff; text-decoration-color: #0000ff; text-decoration: underline\">https://en.wikipedia.org/api/rest_v1/data/citation/mediawiki/9788022750806</span>     <span style=\"color: #7f7f7f; text-decoration-color: #7f7f7f\">                </span>\n",
       "<span style=\"color: #7fbfbf; text-decoration-color: #7fbfbf\">           </span>         with code <span style=\"color: #008080; text-decoration-color: #008080; font-weight: bold\">404</span> <span style=\"font-weight: bold\">[</span>Not Found<span style=\"font-weight: bold\">]</span>                                                      <span style=\"color: #7f7f7f; text-decoration-color: #7f7f7f\">                </span>\n",
       "</pre>\n"
      ]
     },
     "metadata": {},
     "output_type": "display_data"
    },
    {
     "data": {
      "text/plain": [
       "\u001B[2;36m[19:54:19]\u001B[0m\u001B[2;36m \u001B[0m\u001B[33mWARNING \u001B[0m DataNotFoundAtServiceError for                                                   \u001B]8;id=733155;file:///Users/jdubec/Projects/EvilFlowers/evilflowers-webdav-import/.venv/lib/python3.13/site-packages/isbnlib/dev/webquery.py\u001B\\\u001B[2mwebquery.py\u001B[0m\u001B]8;;\u001B\\\u001B[2m:\u001B[0m\u001B]8;id=871476;file:///Users/jdubec/Projects/EvilFlowers/evilflowers-webdav-import/.venv/lib/python3.13/site-packages/isbnlib/dev/webquery.py#40\u001B\\\u001B[2m40\u001B[0m\u001B]8;;\u001B\\\n",
       "\u001B[2;36m           \u001B[0m         \u001B[4;94mhttp://openlibrary.org/api/books?\u001B[0m\u001B[4;94mbibkeys\u001B[0m\u001B[4;94m=\u001B[0m\u001B[4;94mISBN\u001B[0m\u001B[4;94m:9788080706401&\u001B[0m\u001B[4;94mformat\u001B[0m\u001B[4;94m=\u001B[0m\u001B[4;94mjson\u001B[0m\u001B[4;94m&\u001B[0m\u001B[4;94mjscmd\u001B[0m\u001B[4;94m=\u001B[0m\u001B[4;94mda\u001B[0m \u001B[2m              \u001B[0m\n",
       "\u001B[2;36m           \u001B[0m         \u001B[4;94mta\u001B[0m                                                                               \u001B[2m              \u001B[0m\n"
      ],
      "text/html": [
       "<pre style=\"white-space:pre;overflow-x:auto;line-height:normal;font-family:Menlo,'DejaVu Sans Mono',consolas,'Courier New',monospace\"><span style=\"color: #7fbfbf; text-decoration-color: #7fbfbf\">[19:54:19] </span><span style=\"color: #808000; text-decoration-color: #808000\">WARNING </span> DataNotFoundAtServiceError for                                                   <a href=\"file:///Users/jdubec/Projects/EvilFlowers/evilflowers-webdav-import/.venv/lib/python3.13/site-packages/isbnlib/dev/webquery.py\" target=\"_blank\"><span style=\"color: #7f7f7f; text-decoration-color: #7f7f7f\">webquery.py</span></a><span style=\"color: #7f7f7f; text-decoration-color: #7f7f7f\">:</span><a href=\"file:///Users/jdubec/Projects/EvilFlowers/evilflowers-webdav-import/.venv/lib/python3.13/site-packages/isbnlib/dev/webquery.py#40\" target=\"_blank\"><span style=\"color: #7f7f7f; text-decoration-color: #7f7f7f\">40</span></a>\n",
       "<span style=\"color: #7fbfbf; text-decoration-color: #7fbfbf\">           </span>         <span style=\"color: #0000ff; text-decoration-color: #0000ff; text-decoration: underline\">http://openlibrary.org/api/books?bibkeys=ISBN:9788080706401&amp;format=json&amp;jscmd=da</span> <span style=\"color: #7f7f7f; text-decoration-color: #7f7f7f\">              </span>\n",
       "<span style=\"color: #7fbfbf; text-decoration-color: #7fbfbf\">           </span>         <span style=\"color: #0000ff; text-decoration-color: #0000ff; text-decoration: underline\">ta</span>                                                                               <span style=\"color: #7f7f7f; text-decoration-color: #7f7f7f\">              </span>\n",
       "</pre>\n"
      ]
     },
     "metadata": {},
     "output_type": "display_data"
    },
    {
     "data": {
      "text/plain": [
       "\u001B[2;36m[19:54:21]\u001B[0m\u001B[2;36m \u001B[0m\u001B[1;7;31mCRITICAL\u001B[0m ISBNLibHTTPError for                                                           \u001B]8;id=718015;file:///Users/jdubec/Projects/EvilFlowers/evilflowers-webdav-import/.venv/lib/python3.13/site-packages/isbnlib/dev/webservice.py\u001B\\\u001B[2mwebservice.py\u001B[0m\u001B]8;;\u001B\\\u001B[2m:\u001B[0m\u001B]8;id=742871;file:///Users/jdubec/Projects/EvilFlowers/evilflowers-webdav-import/.venv/lib/python3.13/site-packages/isbnlib/dev/webservice.py#62\u001B\\\u001B[2m62\u001B[0m\u001B]8;;\u001B\\\n",
       "\u001B[2;36m           \u001B[0m         \u001B[4;94mhttps://en.wikipedia.org/api/rest_v1/data/citation/mediawiki/9788080706401\u001B[0m     \u001B[2m                \u001B[0m\n",
       "\u001B[2;36m           \u001B[0m         with code \u001B[1;36m404\u001B[0m \u001B[1m[\u001B[0mNot Found\u001B[1m]\u001B[0m                                                      \u001B[2m                \u001B[0m\n"
      ],
      "text/html": [
       "<pre style=\"white-space:pre;overflow-x:auto;line-height:normal;font-family:Menlo,'DejaVu Sans Mono',consolas,'Courier New',monospace\"><span style=\"color: #7fbfbf; text-decoration-color: #7fbfbf\">[19:54:21] </span><span style=\"background-color: #800000; font-weight: bold\">CRITICAL</span> ISBNLibHTTPError for                                                           <a href=\"file:///Users/jdubec/Projects/EvilFlowers/evilflowers-webdav-import/.venv/lib/python3.13/site-packages/isbnlib/dev/webservice.py\" target=\"_blank\"><span style=\"color: #7f7f7f; text-decoration-color: #7f7f7f\">webservice.py</span></a><span style=\"color: #7f7f7f; text-decoration-color: #7f7f7f\">:</span><a href=\"file:///Users/jdubec/Projects/EvilFlowers/evilflowers-webdav-import/.venv/lib/python3.13/site-packages/isbnlib/dev/webservice.py#62\" target=\"_blank\"><span style=\"color: #7f7f7f; text-decoration-color: #7f7f7f\">62</span></a>\n",
       "<span style=\"color: #7fbfbf; text-decoration-color: #7fbfbf\">           </span>         <span style=\"color: #0000ff; text-decoration-color: #0000ff; text-decoration: underline\">https://en.wikipedia.org/api/rest_v1/data/citation/mediawiki/9788080706401</span>     <span style=\"color: #7f7f7f; text-decoration-color: #7f7f7f\">                </span>\n",
       "<span style=\"color: #7fbfbf; text-decoration-color: #7fbfbf\">           </span>         with code <span style=\"color: #008080; text-decoration-color: #008080; font-weight: bold\">404</span> <span style=\"font-weight: bold\">[</span>Not Found<span style=\"font-weight: bold\">]</span>                                                      <span style=\"color: #7f7f7f; text-decoration-color: #7f7f7f\">                </span>\n",
       "</pre>\n"
      ]
     },
     "metadata": {},
     "output_type": "display_data"
    },
    {
     "data": {
      "text/plain": [
       "\u001B[2;36m[19:54:23]\u001B[0m\u001B[2;36m \u001B[0m\u001B[33mWARNING \u001B[0m DataNotFoundAtServiceError for                                                   \u001B]8;id=195330;file:///Users/jdubec/Projects/EvilFlowers/evilflowers-webdav-import/.venv/lib/python3.13/site-packages/isbnlib/dev/webquery.py\u001B\\\u001B[2mwebquery.py\u001B[0m\u001B]8;;\u001B\\\u001B[2m:\u001B[0m\u001B]8;id=91599;file:///Users/jdubec/Projects/EvilFlowers/evilflowers-webdav-import/.venv/lib/python3.13/site-packages/isbnlib/dev/webquery.py#40\u001B\\\u001B[2m40\u001B[0m\u001B]8;;\u001B\\\n",
       "\u001B[2;36m           \u001B[0m         \u001B[4;94mhttp://openlibrary.org/api/books?\u001B[0m\u001B[4;94mbibkeys\u001B[0m\u001B[4;94m=\u001B[0m\u001B[4;94mISBN\u001B[0m\u001B[4;94m:9788097026424&\u001B[0m\u001B[4;94mformat\u001B[0m\u001B[4;94m=\u001B[0m\u001B[4;94mjson\u001B[0m\u001B[4;94m&\u001B[0m\u001B[4;94mjscmd\u001B[0m\u001B[4;94m=\u001B[0m\u001B[4;94mda\u001B[0m \u001B[2m              \u001B[0m\n",
       "\u001B[2;36m           \u001B[0m         \u001B[4;94mta\u001B[0m                                                                               \u001B[2m              \u001B[0m\n"
      ],
      "text/html": [
       "<pre style=\"white-space:pre;overflow-x:auto;line-height:normal;font-family:Menlo,'DejaVu Sans Mono',consolas,'Courier New',monospace\"><span style=\"color: #7fbfbf; text-decoration-color: #7fbfbf\">[19:54:23] </span><span style=\"color: #808000; text-decoration-color: #808000\">WARNING </span> DataNotFoundAtServiceError for                                                   <a href=\"file:///Users/jdubec/Projects/EvilFlowers/evilflowers-webdav-import/.venv/lib/python3.13/site-packages/isbnlib/dev/webquery.py\" target=\"_blank\"><span style=\"color: #7f7f7f; text-decoration-color: #7f7f7f\">webquery.py</span></a><span style=\"color: #7f7f7f; text-decoration-color: #7f7f7f\">:</span><a href=\"file:///Users/jdubec/Projects/EvilFlowers/evilflowers-webdav-import/.venv/lib/python3.13/site-packages/isbnlib/dev/webquery.py#40\" target=\"_blank\"><span style=\"color: #7f7f7f; text-decoration-color: #7f7f7f\">40</span></a>\n",
       "<span style=\"color: #7fbfbf; text-decoration-color: #7fbfbf\">           </span>         <span style=\"color: #0000ff; text-decoration-color: #0000ff; text-decoration: underline\">http://openlibrary.org/api/books?bibkeys=ISBN:9788097026424&amp;format=json&amp;jscmd=da</span> <span style=\"color: #7f7f7f; text-decoration-color: #7f7f7f\">              </span>\n",
       "<span style=\"color: #7fbfbf; text-decoration-color: #7fbfbf\">           </span>         <span style=\"color: #0000ff; text-decoration-color: #0000ff; text-decoration: underline\">ta</span>                                                                               <span style=\"color: #7f7f7f; text-decoration-color: #7f7f7f\">              </span>\n",
       "</pre>\n"
      ]
     },
     "metadata": {},
     "output_type": "display_data"
    },
    {
     "data": {
      "text/plain": [
       "\u001B[2;36m[19:54:24]\u001B[0m\u001B[2;36m \u001B[0m\u001B[1;7;31mCRITICAL\u001B[0m ISBNLibHTTPError for                                                           \u001B]8;id=508474;file:///Users/jdubec/Projects/EvilFlowers/evilflowers-webdav-import/.venv/lib/python3.13/site-packages/isbnlib/dev/webservice.py\u001B\\\u001B[2mwebservice.py\u001B[0m\u001B]8;;\u001B\\\u001B[2m:\u001B[0m\u001B]8;id=814224;file:///Users/jdubec/Projects/EvilFlowers/evilflowers-webdav-import/.venv/lib/python3.13/site-packages/isbnlib/dev/webservice.py#62\u001B\\\u001B[2m62\u001B[0m\u001B]8;;\u001B\\\n",
       "\u001B[2;36m           \u001B[0m         \u001B[4;94mhttps://en.wikipedia.org/api/rest_v1/data/citation/mediawiki/9788097026424\u001B[0m     \u001B[2m                \u001B[0m\n",
       "\u001B[2;36m           \u001B[0m         with code \u001B[1;36m404\u001B[0m \u001B[1m[\u001B[0mNot Found\u001B[1m]\u001B[0m                                                      \u001B[2m                \u001B[0m\n"
      ],
      "text/html": [
       "<pre style=\"white-space:pre;overflow-x:auto;line-height:normal;font-family:Menlo,'DejaVu Sans Mono',consolas,'Courier New',monospace\"><span style=\"color: #7fbfbf; text-decoration-color: #7fbfbf\">[19:54:24] </span><span style=\"background-color: #800000; font-weight: bold\">CRITICAL</span> ISBNLibHTTPError for                                                           <a href=\"file:///Users/jdubec/Projects/EvilFlowers/evilflowers-webdav-import/.venv/lib/python3.13/site-packages/isbnlib/dev/webservice.py\" target=\"_blank\"><span style=\"color: #7f7f7f; text-decoration-color: #7f7f7f\">webservice.py</span></a><span style=\"color: #7f7f7f; text-decoration-color: #7f7f7f\">:</span><a href=\"file:///Users/jdubec/Projects/EvilFlowers/evilflowers-webdav-import/.venv/lib/python3.13/site-packages/isbnlib/dev/webservice.py#62\" target=\"_blank\"><span style=\"color: #7f7f7f; text-decoration-color: #7f7f7f\">62</span></a>\n",
       "<span style=\"color: #7fbfbf; text-decoration-color: #7fbfbf\">           </span>         <span style=\"color: #0000ff; text-decoration-color: #0000ff; text-decoration: underline\">https://en.wikipedia.org/api/rest_v1/data/citation/mediawiki/9788097026424</span>     <span style=\"color: #7f7f7f; text-decoration-color: #7f7f7f\">                </span>\n",
       "<span style=\"color: #7fbfbf; text-decoration-color: #7fbfbf\">           </span>         with code <span style=\"color: #008080; text-decoration-color: #008080; font-weight: bold\">404</span> <span style=\"font-weight: bold\">[</span>Not Found<span style=\"font-weight: bold\">]</span>                                                      <span style=\"color: #7f7f7f; text-decoration-color: #7f7f7f\">                </span>\n",
       "</pre>\n"
      ]
     },
     "metadata": {},
     "output_type": "display_data"
    },
    {
     "data": {
      "text/plain": [
       "\u001B[2;36m[19:54:28]\u001B[0m\u001B[2;36m \u001B[0m\u001B[33mWARNING \u001B[0m DataNotFoundAtServiceError for                                                   \u001B]8;id=361070;file:///Users/jdubec/Projects/EvilFlowers/evilflowers-webdav-import/.venv/lib/python3.13/site-packages/isbnlib/dev/webquery.py\u001B\\\u001B[2mwebquery.py\u001B[0m\u001B]8;;\u001B\\\u001B[2m:\u001B[0m\u001B]8;id=966920;file:///Users/jdubec/Projects/EvilFlowers/evilflowers-webdav-import/.venv/lib/python3.13/site-packages/isbnlib/dev/webquery.py#40\u001B\\\u001B[2m40\u001B[0m\u001B]8;;\u001B\\\n",
       "\u001B[2;36m           \u001B[0m         \u001B[4;94mhttp://openlibrary.org/api/books?\u001B[0m\u001B[4;94mbibkeys\u001B[0m\u001B[4;94m=\u001B[0m\u001B[4;94mISBN\u001B[0m\u001B[4;94m:9788022724777&\u001B[0m\u001B[4;94mformat\u001B[0m\u001B[4;94m=\u001B[0m\u001B[4;94mjson\u001B[0m\u001B[4;94m&\u001B[0m\u001B[4;94mjscmd\u001B[0m\u001B[4;94m=\u001B[0m\u001B[4;94mda\u001B[0m \u001B[2m              \u001B[0m\n",
       "\u001B[2;36m           \u001B[0m         \u001B[4;94mta\u001B[0m                                                                               \u001B[2m              \u001B[0m\n"
      ],
      "text/html": [
       "<pre style=\"white-space:pre;overflow-x:auto;line-height:normal;font-family:Menlo,'DejaVu Sans Mono',consolas,'Courier New',monospace\"><span style=\"color: #7fbfbf; text-decoration-color: #7fbfbf\">[19:54:28] </span><span style=\"color: #808000; text-decoration-color: #808000\">WARNING </span> DataNotFoundAtServiceError for                                                   <a href=\"file:///Users/jdubec/Projects/EvilFlowers/evilflowers-webdav-import/.venv/lib/python3.13/site-packages/isbnlib/dev/webquery.py\" target=\"_blank\"><span style=\"color: #7f7f7f; text-decoration-color: #7f7f7f\">webquery.py</span></a><span style=\"color: #7f7f7f; text-decoration-color: #7f7f7f\">:</span><a href=\"file:///Users/jdubec/Projects/EvilFlowers/evilflowers-webdav-import/.venv/lib/python3.13/site-packages/isbnlib/dev/webquery.py#40\" target=\"_blank\"><span style=\"color: #7f7f7f; text-decoration-color: #7f7f7f\">40</span></a>\n",
       "<span style=\"color: #7fbfbf; text-decoration-color: #7fbfbf\">           </span>         <span style=\"color: #0000ff; text-decoration-color: #0000ff; text-decoration: underline\">http://openlibrary.org/api/books?bibkeys=ISBN:9788022724777&amp;format=json&amp;jscmd=da</span> <span style=\"color: #7f7f7f; text-decoration-color: #7f7f7f\">              </span>\n",
       "<span style=\"color: #7fbfbf; text-decoration-color: #7fbfbf\">           </span>         <span style=\"color: #0000ff; text-decoration-color: #0000ff; text-decoration: underline\">ta</span>                                                                               <span style=\"color: #7f7f7f; text-decoration-color: #7f7f7f\">              </span>\n",
       "</pre>\n"
      ]
     },
     "metadata": {},
     "output_type": "display_data"
    },
    {
     "data": {
      "text/plain": [
       "\u001B[2;36m[19:54:29]\u001B[0m\u001B[2;36m \u001B[0m\u001B[1;7;31mCRITICAL\u001B[0m ISBNLibHTTPError for                                                           \u001B]8;id=138647;file:///Users/jdubec/Projects/EvilFlowers/evilflowers-webdav-import/.venv/lib/python3.13/site-packages/isbnlib/dev/webservice.py\u001B\\\u001B[2mwebservice.py\u001B[0m\u001B]8;;\u001B\\\u001B[2m:\u001B[0m\u001B]8;id=38594;file:///Users/jdubec/Projects/EvilFlowers/evilflowers-webdav-import/.venv/lib/python3.13/site-packages/isbnlib/dev/webservice.py#62\u001B\\\u001B[2m62\u001B[0m\u001B]8;;\u001B\\\n",
       "\u001B[2;36m           \u001B[0m         \u001B[4;94mhttps://en.wikipedia.org/api/rest_v1/data/citation/mediawiki/9788022724777\u001B[0m     \u001B[2m                \u001B[0m\n",
       "\u001B[2;36m           \u001B[0m         with code \u001B[1;36m404\u001B[0m \u001B[1m[\u001B[0mNot Found\u001B[1m]\u001B[0m                                                      \u001B[2m                \u001B[0m\n"
      ],
      "text/html": [
       "<pre style=\"white-space:pre;overflow-x:auto;line-height:normal;font-family:Menlo,'DejaVu Sans Mono',consolas,'Courier New',monospace\"><span style=\"color: #7fbfbf; text-decoration-color: #7fbfbf\">[19:54:29] </span><span style=\"background-color: #800000; font-weight: bold\">CRITICAL</span> ISBNLibHTTPError for                                                           <a href=\"file:///Users/jdubec/Projects/EvilFlowers/evilflowers-webdav-import/.venv/lib/python3.13/site-packages/isbnlib/dev/webservice.py\" target=\"_blank\"><span style=\"color: #7f7f7f; text-decoration-color: #7f7f7f\">webservice.py</span></a><span style=\"color: #7f7f7f; text-decoration-color: #7f7f7f\">:</span><a href=\"file:///Users/jdubec/Projects/EvilFlowers/evilflowers-webdav-import/.venv/lib/python3.13/site-packages/isbnlib/dev/webservice.py#62\" target=\"_blank\"><span style=\"color: #7f7f7f; text-decoration-color: #7f7f7f\">62</span></a>\n",
       "<span style=\"color: #7fbfbf; text-decoration-color: #7fbfbf\">           </span>         <span style=\"color: #0000ff; text-decoration-color: #0000ff; text-decoration: underline\">https://en.wikipedia.org/api/rest_v1/data/citation/mediawiki/9788022724777</span>     <span style=\"color: #7f7f7f; text-decoration-color: #7f7f7f\">                </span>\n",
       "<span style=\"color: #7fbfbf; text-decoration-color: #7fbfbf\">           </span>         with code <span style=\"color: #008080; text-decoration-color: #008080; font-weight: bold\">404</span> <span style=\"font-weight: bold\">[</span>Not Found<span style=\"font-weight: bold\">]</span>                                                      <span style=\"color: #7f7f7f; text-decoration-color: #7f7f7f\">                </span>\n",
       "</pre>\n"
      ]
     },
     "metadata": {},
     "output_type": "display_data"
    },
    {
     "data": {
      "text/plain": [
       "\u001B[2;36m[19:54:33]\u001B[0m\u001B[2;36m \u001B[0m\u001B[33mWARNING \u001B[0m DataNotFoundAtServiceError for                                                   \u001B]8;id=127832;file:///Users/jdubec/Projects/EvilFlowers/evilflowers-webdav-import/.venv/lib/python3.13/site-packages/isbnlib/dev/webquery.py\u001B\\\u001B[2mwebquery.py\u001B[0m\u001B]8;;\u001B\\\u001B[2m:\u001B[0m\u001B]8;id=489808;file:///Users/jdubec/Projects/EvilFlowers/evilflowers-webdav-import/.venv/lib/python3.13/site-packages/isbnlib/dev/webquery.py#40\u001B\\\u001B[2m40\u001B[0m\u001B]8;;\u001B\\\n",
       "\u001B[2;36m           \u001B[0m         \u001B[4;94mhttp://openlibrary.org/api/books?\u001B[0m\u001B[4;94mbibkeys\u001B[0m\u001B[4;94m=\u001B[0m\u001B[4;94mISBN\u001B[0m\u001B[4;94m:9788022747882&\u001B[0m\u001B[4;94mformat\u001B[0m\u001B[4;94m=\u001B[0m\u001B[4;94mjson\u001B[0m\u001B[4;94m&\u001B[0m\u001B[4;94mjscmd\u001B[0m\u001B[4;94m=\u001B[0m\u001B[4;94mda\u001B[0m \u001B[2m              \u001B[0m\n",
       "\u001B[2;36m           \u001B[0m         \u001B[4;94mta\u001B[0m                                                                               \u001B[2m              \u001B[0m\n"
      ],
      "text/html": [
       "<pre style=\"white-space:pre;overflow-x:auto;line-height:normal;font-family:Menlo,'DejaVu Sans Mono',consolas,'Courier New',monospace\"><span style=\"color: #7fbfbf; text-decoration-color: #7fbfbf\">[19:54:33] </span><span style=\"color: #808000; text-decoration-color: #808000\">WARNING </span> DataNotFoundAtServiceError for                                                   <a href=\"file:///Users/jdubec/Projects/EvilFlowers/evilflowers-webdav-import/.venv/lib/python3.13/site-packages/isbnlib/dev/webquery.py\" target=\"_blank\"><span style=\"color: #7f7f7f; text-decoration-color: #7f7f7f\">webquery.py</span></a><span style=\"color: #7f7f7f; text-decoration-color: #7f7f7f\">:</span><a href=\"file:///Users/jdubec/Projects/EvilFlowers/evilflowers-webdav-import/.venv/lib/python3.13/site-packages/isbnlib/dev/webquery.py#40\" target=\"_blank\"><span style=\"color: #7f7f7f; text-decoration-color: #7f7f7f\">40</span></a>\n",
       "<span style=\"color: #7fbfbf; text-decoration-color: #7fbfbf\">           </span>         <span style=\"color: #0000ff; text-decoration-color: #0000ff; text-decoration: underline\">http://openlibrary.org/api/books?bibkeys=ISBN:9788022747882&amp;format=json&amp;jscmd=da</span> <span style=\"color: #7f7f7f; text-decoration-color: #7f7f7f\">              </span>\n",
       "<span style=\"color: #7fbfbf; text-decoration-color: #7fbfbf\">           </span>         <span style=\"color: #0000ff; text-decoration-color: #0000ff; text-decoration: underline\">ta</span>                                                                               <span style=\"color: #7f7f7f; text-decoration-color: #7f7f7f\">              </span>\n",
       "</pre>\n"
      ]
     },
     "metadata": {},
     "output_type": "display_data"
    },
    {
     "data": {
      "text/plain": [
       "\u001B[2;36m[19:54:34]\u001B[0m\u001B[2;36m \u001B[0m\u001B[1;7;31mCRITICAL\u001B[0m ISBNLibHTTPError for                                                           \u001B]8;id=941893;file:///Users/jdubec/Projects/EvilFlowers/evilflowers-webdav-import/.venv/lib/python3.13/site-packages/isbnlib/dev/webservice.py\u001B\\\u001B[2mwebservice.py\u001B[0m\u001B]8;;\u001B\\\u001B[2m:\u001B[0m\u001B]8;id=112139;file:///Users/jdubec/Projects/EvilFlowers/evilflowers-webdav-import/.venv/lib/python3.13/site-packages/isbnlib/dev/webservice.py#62\u001B\\\u001B[2m62\u001B[0m\u001B]8;;\u001B\\\n",
       "\u001B[2;36m           \u001B[0m         \u001B[4;94mhttps://en.wikipedia.org/api/rest_v1/data/citation/mediawiki/9788022747882\u001B[0m     \u001B[2m                \u001B[0m\n",
       "\u001B[2;36m           \u001B[0m         with code \u001B[1;36m404\u001B[0m \u001B[1m[\u001B[0mNot Found\u001B[1m]\u001B[0m                                                      \u001B[2m                \u001B[0m\n"
      ],
      "text/html": [
       "<pre style=\"white-space:pre;overflow-x:auto;line-height:normal;font-family:Menlo,'DejaVu Sans Mono',consolas,'Courier New',monospace\"><span style=\"color: #7fbfbf; text-decoration-color: #7fbfbf\">[19:54:34] </span><span style=\"background-color: #800000; font-weight: bold\">CRITICAL</span> ISBNLibHTTPError for                                                           <a href=\"file:///Users/jdubec/Projects/EvilFlowers/evilflowers-webdav-import/.venv/lib/python3.13/site-packages/isbnlib/dev/webservice.py\" target=\"_blank\"><span style=\"color: #7f7f7f; text-decoration-color: #7f7f7f\">webservice.py</span></a><span style=\"color: #7f7f7f; text-decoration-color: #7f7f7f\">:</span><a href=\"file:///Users/jdubec/Projects/EvilFlowers/evilflowers-webdav-import/.venv/lib/python3.13/site-packages/isbnlib/dev/webservice.py#62\" target=\"_blank\"><span style=\"color: #7f7f7f; text-decoration-color: #7f7f7f\">62</span></a>\n",
       "<span style=\"color: #7fbfbf; text-decoration-color: #7fbfbf\">           </span>         <span style=\"color: #0000ff; text-decoration-color: #0000ff; text-decoration: underline\">https://en.wikipedia.org/api/rest_v1/data/citation/mediawiki/9788022747882</span>     <span style=\"color: #7f7f7f; text-decoration-color: #7f7f7f\">                </span>\n",
       "<span style=\"color: #7fbfbf; text-decoration-color: #7fbfbf\">           </span>         with code <span style=\"color: #008080; text-decoration-color: #008080; font-weight: bold\">404</span> <span style=\"font-weight: bold\">[</span>Not Found<span style=\"font-weight: bold\">]</span>                                                      <span style=\"color: #7f7f7f; text-decoration-color: #7f7f7f\">                </span>\n",
       "</pre>\n"
      ]
     },
     "metadata": {},
     "output_type": "display_data"
    },
    {
     "data": {
      "text/plain": [
       "\u001B[2;36m[19:54:38]\u001B[0m\u001B[2;36m \u001B[0m\u001B[33mWARNING \u001B[0m DataNotFoundAtServiceError for                                                   \u001B]8;id=165862;file:///Users/jdubec/Projects/EvilFlowers/evilflowers-webdav-import/.venv/lib/python3.13/site-packages/isbnlib/dev/webquery.py\u001B\\\u001B[2mwebquery.py\u001B[0m\u001B]8;;\u001B\\\u001B[2m:\u001B[0m\u001B]8;id=538709;file:///Users/jdubec/Projects/EvilFlowers/evilflowers-webdav-import/.venv/lib/python3.13/site-packages/isbnlib/dev/webquery.py#40\u001B\\\u001B[2m40\u001B[0m\u001B]8;;\u001B\\\n",
       "\u001B[2;36m           \u001B[0m         \u001B[4;94mhttp://openlibrary.org/api/books?\u001B[0m\u001B[4;94mbibkeys\u001B[0m\u001B[4;94m=\u001B[0m\u001B[4;94mISBN\u001B[0m\u001B[4;94m:9788081060694&\u001B[0m\u001B[4;94mformat\u001B[0m\u001B[4;94m=\u001B[0m\u001B[4;94mjson\u001B[0m\u001B[4;94m&\u001B[0m\u001B[4;94mjscmd\u001B[0m\u001B[4;94m=\u001B[0m\u001B[4;94mda\u001B[0m \u001B[2m              \u001B[0m\n",
       "\u001B[2;36m           \u001B[0m         \u001B[4;94mta\u001B[0m                                                                               \u001B[2m              \u001B[0m\n"
      ],
      "text/html": [
       "<pre style=\"white-space:pre;overflow-x:auto;line-height:normal;font-family:Menlo,'DejaVu Sans Mono',consolas,'Courier New',monospace\"><span style=\"color: #7fbfbf; text-decoration-color: #7fbfbf\">[19:54:38] </span><span style=\"color: #808000; text-decoration-color: #808000\">WARNING </span> DataNotFoundAtServiceError for                                                   <a href=\"file:///Users/jdubec/Projects/EvilFlowers/evilflowers-webdav-import/.venv/lib/python3.13/site-packages/isbnlib/dev/webquery.py\" target=\"_blank\"><span style=\"color: #7f7f7f; text-decoration-color: #7f7f7f\">webquery.py</span></a><span style=\"color: #7f7f7f; text-decoration-color: #7f7f7f\">:</span><a href=\"file:///Users/jdubec/Projects/EvilFlowers/evilflowers-webdav-import/.venv/lib/python3.13/site-packages/isbnlib/dev/webquery.py#40\" target=\"_blank\"><span style=\"color: #7f7f7f; text-decoration-color: #7f7f7f\">40</span></a>\n",
       "<span style=\"color: #7fbfbf; text-decoration-color: #7fbfbf\">           </span>         <span style=\"color: #0000ff; text-decoration-color: #0000ff; text-decoration: underline\">http://openlibrary.org/api/books?bibkeys=ISBN:9788081060694&amp;format=json&amp;jscmd=da</span> <span style=\"color: #7f7f7f; text-decoration-color: #7f7f7f\">              </span>\n",
       "<span style=\"color: #7fbfbf; text-decoration-color: #7fbfbf\">           </span>         <span style=\"color: #0000ff; text-decoration-color: #0000ff; text-decoration: underline\">ta</span>                                                                               <span style=\"color: #7f7f7f; text-decoration-color: #7f7f7f\">              </span>\n",
       "</pre>\n"
      ]
     },
     "metadata": {},
     "output_type": "display_data"
    },
    {
     "data": {
      "text/plain": [
       "\u001B[2;36m[19:54:39]\u001B[0m\u001B[2;36m \u001B[0m\u001B[1;7;31mCRITICAL\u001B[0m ISBNLibHTTPError for                                                           \u001B]8;id=480988;file:///Users/jdubec/Projects/EvilFlowers/evilflowers-webdav-import/.venv/lib/python3.13/site-packages/isbnlib/dev/webservice.py\u001B\\\u001B[2mwebservice.py\u001B[0m\u001B]8;;\u001B\\\u001B[2m:\u001B[0m\u001B]8;id=757564;file:///Users/jdubec/Projects/EvilFlowers/evilflowers-webdav-import/.venv/lib/python3.13/site-packages/isbnlib/dev/webservice.py#62\u001B\\\u001B[2m62\u001B[0m\u001B]8;;\u001B\\\n",
       "\u001B[2;36m           \u001B[0m         \u001B[4;94mhttps://en.wikipedia.org/api/rest_v1/data/citation/mediawiki/9788081060694\u001B[0m     \u001B[2m                \u001B[0m\n",
       "\u001B[2;36m           \u001B[0m         with code \u001B[1;36m404\u001B[0m \u001B[1m[\u001B[0mNot Found\u001B[1m]\u001B[0m                                                      \u001B[2m                \u001B[0m\n"
      ],
      "text/html": [
       "<pre style=\"white-space:pre;overflow-x:auto;line-height:normal;font-family:Menlo,'DejaVu Sans Mono',consolas,'Courier New',monospace\"><span style=\"color: #7fbfbf; text-decoration-color: #7fbfbf\">[19:54:39] </span><span style=\"background-color: #800000; font-weight: bold\">CRITICAL</span> ISBNLibHTTPError for                                                           <a href=\"file:///Users/jdubec/Projects/EvilFlowers/evilflowers-webdav-import/.venv/lib/python3.13/site-packages/isbnlib/dev/webservice.py\" target=\"_blank\"><span style=\"color: #7f7f7f; text-decoration-color: #7f7f7f\">webservice.py</span></a><span style=\"color: #7f7f7f; text-decoration-color: #7f7f7f\">:</span><a href=\"file:///Users/jdubec/Projects/EvilFlowers/evilflowers-webdav-import/.venv/lib/python3.13/site-packages/isbnlib/dev/webservice.py#62\" target=\"_blank\"><span style=\"color: #7f7f7f; text-decoration-color: #7f7f7f\">62</span></a>\n",
       "<span style=\"color: #7fbfbf; text-decoration-color: #7fbfbf\">           </span>         <span style=\"color: #0000ff; text-decoration-color: #0000ff; text-decoration: underline\">https://en.wikipedia.org/api/rest_v1/data/citation/mediawiki/9788081060694</span>     <span style=\"color: #7f7f7f; text-decoration-color: #7f7f7f\">                </span>\n",
       "<span style=\"color: #7fbfbf; text-decoration-color: #7fbfbf\">           </span>         with code <span style=\"color: #008080; text-decoration-color: #008080; font-weight: bold\">404</span> <span style=\"font-weight: bold\">[</span>Not Found<span style=\"font-weight: bold\">]</span>                                                      <span style=\"color: #7f7f7f; text-decoration-color: #7f7f7f\">                </span>\n",
       "</pre>\n"
      ]
     },
     "metadata": {},
     "output_type": "display_data"
    },
    {
     "data": {
      "text/plain": [
       "\u001B[2;36m[19:54:51]\u001B[0m\u001B[2;36m \u001B[0m\u001B[33mWARNING \u001B[0m DataNotFoundAtServiceError for                                                   \u001B]8;id=627624;file:///Users/jdubec/Projects/EvilFlowers/evilflowers-webdav-import/.venv/lib/python3.13/site-packages/isbnlib/dev/webquery.py\u001B\\\u001B[2mwebquery.py\u001B[0m\u001B]8;;\u001B\\\u001B[2m:\u001B[0m\u001B]8;id=427492;file:///Users/jdubec/Projects/EvilFlowers/evilflowers-webdav-import/.venv/lib/python3.13/site-packages/isbnlib/dev/webquery.py#40\u001B\\\u001B[2m40\u001B[0m\u001B]8;;\u001B\\\n",
       "\u001B[2;36m           \u001B[0m         \u001B[4;94mhttp://openlibrary.org/api/books?\u001B[0m\u001B[4;94mbibkeys\u001B[0m\u001B[4;94m=\u001B[0m\u001B[4;94mISBN\u001B[0m\u001B[4;94m:9788022821612&\u001B[0m\u001B[4;94mformat\u001B[0m\u001B[4;94m=\u001B[0m\u001B[4;94mjson\u001B[0m\u001B[4;94m&\u001B[0m\u001B[4;94mjscmd\u001B[0m\u001B[4;94m=\u001B[0m\u001B[4;94mda\u001B[0m \u001B[2m              \u001B[0m\n",
       "\u001B[2;36m           \u001B[0m         \u001B[4;94mta\u001B[0m                                                                               \u001B[2m              \u001B[0m\n"
      ],
      "text/html": [
       "<pre style=\"white-space:pre;overflow-x:auto;line-height:normal;font-family:Menlo,'DejaVu Sans Mono',consolas,'Courier New',monospace\"><span style=\"color: #7fbfbf; text-decoration-color: #7fbfbf\">[19:54:51] </span><span style=\"color: #808000; text-decoration-color: #808000\">WARNING </span> DataNotFoundAtServiceError for                                                   <a href=\"file:///Users/jdubec/Projects/EvilFlowers/evilflowers-webdav-import/.venv/lib/python3.13/site-packages/isbnlib/dev/webquery.py\" target=\"_blank\"><span style=\"color: #7f7f7f; text-decoration-color: #7f7f7f\">webquery.py</span></a><span style=\"color: #7f7f7f; text-decoration-color: #7f7f7f\">:</span><a href=\"file:///Users/jdubec/Projects/EvilFlowers/evilflowers-webdav-import/.venv/lib/python3.13/site-packages/isbnlib/dev/webquery.py#40\" target=\"_blank\"><span style=\"color: #7f7f7f; text-decoration-color: #7f7f7f\">40</span></a>\n",
       "<span style=\"color: #7fbfbf; text-decoration-color: #7fbfbf\">           </span>         <span style=\"color: #0000ff; text-decoration-color: #0000ff; text-decoration: underline\">http://openlibrary.org/api/books?bibkeys=ISBN:9788022821612&amp;format=json&amp;jscmd=da</span> <span style=\"color: #7f7f7f; text-decoration-color: #7f7f7f\">              </span>\n",
       "<span style=\"color: #7fbfbf; text-decoration-color: #7fbfbf\">           </span>         <span style=\"color: #0000ff; text-decoration-color: #0000ff; text-decoration: underline\">ta</span>                                                                               <span style=\"color: #7f7f7f; text-decoration-color: #7f7f7f\">              </span>\n",
       "</pre>\n"
      ]
     },
     "metadata": {},
     "output_type": "display_data"
    },
    {
     "data": {
      "text/plain": [
       "\u001B[2;36m[19:54:52]\u001B[0m\u001B[2;36m \u001B[0m\u001B[1;7;31mCRITICAL\u001B[0m ISBNLibHTTPError for                                                           \u001B]8;id=329662;file:///Users/jdubec/Projects/EvilFlowers/evilflowers-webdav-import/.venv/lib/python3.13/site-packages/isbnlib/dev/webservice.py\u001B\\\u001B[2mwebservice.py\u001B[0m\u001B]8;;\u001B\\\u001B[2m:\u001B[0m\u001B]8;id=359939;file:///Users/jdubec/Projects/EvilFlowers/evilflowers-webdav-import/.venv/lib/python3.13/site-packages/isbnlib/dev/webservice.py#62\u001B\\\u001B[2m62\u001B[0m\u001B]8;;\u001B\\\n",
       "\u001B[2;36m           \u001B[0m         \u001B[4;94mhttps://en.wikipedia.org/api/rest_v1/data/citation/mediawiki/9788022821612\u001B[0m     \u001B[2m                \u001B[0m\n",
       "\u001B[2;36m           \u001B[0m         with code \u001B[1;36m404\u001B[0m \u001B[1m[\u001B[0mNot Found\u001B[1m]\u001B[0m                                                      \u001B[2m                \u001B[0m\n"
      ],
      "text/html": [
       "<pre style=\"white-space:pre;overflow-x:auto;line-height:normal;font-family:Menlo,'DejaVu Sans Mono',consolas,'Courier New',monospace\"><span style=\"color: #7fbfbf; text-decoration-color: #7fbfbf\">[19:54:52] </span><span style=\"background-color: #800000; font-weight: bold\">CRITICAL</span> ISBNLibHTTPError for                                                           <a href=\"file:///Users/jdubec/Projects/EvilFlowers/evilflowers-webdav-import/.venv/lib/python3.13/site-packages/isbnlib/dev/webservice.py\" target=\"_blank\"><span style=\"color: #7f7f7f; text-decoration-color: #7f7f7f\">webservice.py</span></a><span style=\"color: #7f7f7f; text-decoration-color: #7f7f7f\">:</span><a href=\"file:///Users/jdubec/Projects/EvilFlowers/evilflowers-webdav-import/.venv/lib/python3.13/site-packages/isbnlib/dev/webservice.py#62\" target=\"_blank\"><span style=\"color: #7f7f7f; text-decoration-color: #7f7f7f\">62</span></a>\n",
       "<span style=\"color: #7fbfbf; text-decoration-color: #7fbfbf\">           </span>         <span style=\"color: #0000ff; text-decoration-color: #0000ff; text-decoration: underline\">https://en.wikipedia.org/api/rest_v1/data/citation/mediawiki/9788022821612</span>     <span style=\"color: #7f7f7f; text-decoration-color: #7f7f7f\">                </span>\n",
       "<span style=\"color: #7fbfbf; text-decoration-color: #7fbfbf\">           </span>         with code <span style=\"color: #008080; text-decoration-color: #008080; font-weight: bold\">404</span> <span style=\"font-weight: bold\">[</span>Not Found<span style=\"font-weight: bold\">]</span>                                                      <span style=\"color: #7f7f7f; text-decoration-color: #7f7f7f\">                </span>\n",
       "</pre>\n"
      ]
     },
     "metadata": {},
     "output_type": "display_data"
    },
    {
     "data": {
      "text/plain": [
       "\u001B[2;36m[19:54:54]\u001B[0m\u001B[2;36m \u001B[0m\u001B[33mWARNING \u001B[0m DataNotFoundAtServiceError for                                                   \u001B]8;id=668537;file:///Users/jdubec/Projects/EvilFlowers/evilflowers-webdav-import/.venv/lib/python3.13/site-packages/isbnlib/dev/webquery.py\u001B\\\u001B[2mwebquery.py\u001B[0m\u001B]8;;\u001B\\\u001B[2m:\u001B[0m\u001B]8;id=916888;file:///Users/jdubec/Projects/EvilFlowers/evilflowers-webdav-import/.venv/lib/python3.13/site-packages/isbnlib/dev/webquery.py#40\u001B\\\u001B[2m40\u001B[0m\u001B]8;;\u001B\\\n",
       "\u001B[2;36m           \u001B[0m         \u001B[4;94mhttp://openlibrary.org/api/books?\u001B[0m\u001B[4;94mbibkeys\u001B[0m\u001B[4;94m=\u001B[0m\u001B[4;94mISBN\u001B[0m\u001B[4;94m:9788022726566&\u001B[0m\u001B[4;94mformat\u001B[0m\u001B[4;94m=\u001B[0m\u001B[4;94mjson\u001B[0m\u001B[4;94m&\u001B[0m\u001B[4;94mjscmd\u001B[0m\u001B[4;94m=\u001B[0m\u001B[4;94mda\u001B[0m \u001B[2m              \u001B[0m\n",
       "\u001B[2;36m           \u001B[0m         \u001B[4;94mta\u001B[0m                                                                               \u001B[2m              \u001B[0m\n"
      ],
      "text/html": [
       "<pre style=\"white-space:pre;overflow-x:auto;line-height:normal;font-family:Menlo,'DejaVu Sans Mono',consolas,'Courier New',monospace\"><span style=\"color: #7fbfbf; text-decoration-color: #7fbfbf\">[19:54:54] </span><span style=\"color: #808000; text-decoration-color: #808000\">WARNING </span> DataNotFoundAtServiceError for                                                   <a href=\"file:///Users/jdubec/Projects/EvilFlowers/evilflowers-webdav-import/.venv/lib/python3.13/site-packages/isbnlib/dev/webquery.py\" target=\"_blank\"><span style=\"color: #7f7f7f; text-decoration-color: #7f7f7f\">webquery.py</span></a><span style=\"color: #7f7f7f; text-decoration-color: #7f7f7f\">:</span><a href=\"file:///Users/jdubec/Projects/EvilFlowers/evilflowers-webdav-import/.venv/lib/python3.13/site-packages/isbnlib/dev/webquery.py#40\" target=\"_blank\"><span style=\"color: #7f7f7f; text-decoration-color: #7f7f7f\">40</span></a>\n",
       "<span style=\"color: #7fbfbf; text-decoration-color: #7fbfbf\">           </span>         <span style=\"color: #0000ff; text-decoration-color: #0000ff; text-decoration: underline\">http://openlibrary.org/api/books?bibkeys=ISBN:9788022726566&amp;format=json&amp;jscmd=da</span> <span style=\"color: #7f7f7f; text-decoration-color: #7f7f7f\">              </span>\n",
       "<span style=\"color: #7fbfbf; text-decoration-color: #7fbfbf\">           </span>         <span style=\"color: #0000ff; text-decoration-color: #0000ff; text-decoration: underline\">ta</span>                                                                               <span style=\"color: #7f7f7f; text-decoration-color: #7f7f7f\">              </span>\n",
       "</pre>\n"
      ]
     },
     "metadata": {},
     "output_type": "display_data"
    },
    {
     "data": {
      "text/plain": [
       "\u001B[2;36m[19:54:55]\u001B[0m\u001B[2;36m \u001B[0m\u001B[1;7;31mCRITICAL\u001B[0m ISBNLibHTTPError for                                                           \u001B]8;id=395982;file:///Users/jdubec/Projects/EvilFlowers/evilflowers-webdav-import/.venv/lib/python3.13/site-packages/isbnlib/dev/webservice.py\u001B\\\u001B[2mwebservice.py\u001B[0m\u001B]8;;\u001B\\\u001B[2m:\u001B[0m\u001B]8;id=455247;file:///Users/jdubec/Projects/EvilFlowers/evilflowers-webdav-import/.venv/lib/python3.13/site-packages/isbnlib/dev/webservice.py#62\u001B\\\u001B[2m62\u001B[0m\u001B]8;;\u001B\\\n",
       "\u001B[2;36m           \u001B[0m         \u001B[4;94mhttps://en.wikipedia.org/api/rest_v1/data/citation/mediawiki/9788022726566\u001B[0m     \u001B[2m                \u001B[0m\n",
       "\u001B[2;36m           \u001B[0m         with code \u001B[1;36m404\u001B[0m \u001B[1m[\u001B[0mNot Found\u001B[1m]\u001B[0m                                                      \u001B[2m                \u001B[0m\n"
      ],
      "text/html": [
       "<pre style=\"white-space:pre;overflow-x:auto;line-height:normal;font-family:Menlo,'DejaVu Sans Mono',consolas,'Courier New',monospace\"><span style=\"color: #7fbfbf; text-decoration-color: #7fbfbf\">[19:54:55] </span><span style=\"background-color: #800000; font-weight: bold\">CRITICAL</span> ISBNLibHTTPError for                                                           <a href=\"file:///Users/jdubec/Projects/EvilFlowers/evilflowers-webdav-import/.venv/lib/python3.13/site-packages/isbnlib/dev/webservice.py\" target=\"_blank\"><span style=\"color: #7f7f7f; text-decoration-color: #7f7f7f\">webservice.py</span></a><span style=\"color: #7f7f7f; text-decoration-color: #7f7f7f\">:</span><a href=\"file:///Users/jdubec/Projects/EvilFlowers/evilflowers-webdav-import/.venv/lib/python3.13/site-packages/isbnlib/dev/webservice.py#62\" target=\"_blank\"><span style=\"color: #7f7f7f; text-decoration-color: #7f7f7f\">62</span></a>\n",
       "<span style=\"color: #7fbfbf; text-decoration-color: #7fbfbf\">           </span>         <span style=\"color: #0000ff; text-decoration-color: #0000ff; text-decoration: underline\">https://en.wikipedia.org/api/rest_v1/data/citation/mediawiki/9788022726566</span>     <span style=\"color: #7f7f7f; text-decoration-color: #7f7f7f\">                </span>\n",
       "<span style=\"color: #7fbfbf; text-decoration-color: #7fbfbf\">           </span>         with code <span style=\"color: #008080; text-decoration-color: #008080; font-weight: bold\">404</span> <span style=\"font-weight: bold\">[</span>Not Found<span style=\"font-weight: bold\">]</span>                                                      <span style=\"color: #7f7f7f; text-decoration-color: #7f7f7f\">                </span>\n",
       "</pre>\n"
      ]
     },
     "metadata": {},
     "output_type": "display_data"
    },
    {
     "data": {
      "text/plain": [
       "\u001B[2;36m[19:54:57]\u001B[0m\u001B[2;36m \u001B[0m\u001B[33mWARNING \u001B[0m DataNotFoundAtServiceError for                                                   \u001B]8;id=6839;file:///Users/jdubec/Projects/EvilFlowers/evilflowers-webdav-import/.venv/lib/python3.13/site-packages/isbnlib/dev/webquery.py\u001B\\\u001B[2mwebquery.py\u001B[0m\u001B]8;;\u001B\\\u001B[2m:\u001B[0m\u001B]8;id=684271;file:///Users/jdubec/Projects/EvilFlowers/evilflowers-webdav-import/.venv/lib/python3.13/site-packages/isbnlib/dev/webquery.py#40\u001B\\\u001B[2m40\u001B[0m\u001B]8;;\u001B\\\n",
       "\u001B[2;36m           \u001B[0m         \u001B[4;94mhttp://openlibrary.org/api/books?\u001B[0m\u001B[4;94mbibkeys\u001B[0m\u001B[4;94m=\u001B[0m\u001B[4;94mISBN\u001B[0m\u001B[4;94m:9788022750714&\u001B[0m\u001B[4;94mformat\u001B[0m\u001B[4;94m=\u001B[0m\u001B[4;94mjson\u001B[0m\u001B[4;94m&\u001B[0m\u001B[4;94mjscmd\u001B[0m\u001B[4;94m=\u001B[0m\u001B[4;94mda\u001B[0m \u001B[2m              \u001B[0m\n",
       "\u001B[2;36m           \u001B[0m         \u001B[4;94mta\u001B[0m                                                                               \u001B[2m              \u001B[0m\n"
      ],
      "text/html": [
       "<pre style=\"white-space:pre;overflow-x:auto;line-height:normal;font-family:Menlo,'DejaVu Sans Mono',consolas,'Courier New',monospace\"><span style=\"color: #7fbfbf; text-decoration-color: #7fbfbf\">[19:54:57] </span><span style=\"color: #808000; text-decoration-color: #808000\">WARNING </span> DataNotFoundAtServiceError for                                                   <a href=\"file:///Users/jdubec/Projects/EvilFlowers/evilflowers-webdav-import/.venv/lib/python3.13/site-packages/isbnlib/dev/webquery.py\" target=\"_blank\"><span style=\"color: #7f7f7f; text-decoration-color: #7f7f7f\">webquery.py</span></a><span style=\"color: #7f7f7f; text-decoration-color: #7f7f7f\">:</span><a href=\"file:///Users/jdubec/Projects/EvilFlowers/evilflowers-webdav-import/.venv/lib/python3.13/site-packages/isbnlib/dev/webquery.py#40\" target=\"_blank\"><span style=\"color: #7f7f7f; text-decoration-color: #7f7f7f\">40</span></a>\n",
       "<span style=\"color: #7fbfbf; text-decoration-color: #7fbfbf\">           </span>         <span style=\"color: #0000ff; text-decoration-color: #0000ff; text-decoration: underline\">http://openlibrary.org/api/books?bibkeys=ISBN:9788022750714&amp;format=json&amp;jscmd=da</span> <span style=\"color: #7f7f7f; text-decoration-color: #7f7f7f\">              </span>\n",
       "<span style=\"color: #7fbfbf; text-decoration-color: #7fbfbf\">           </span>         <span style=\"color: #0000ff; text-decoration-color: #0000ff; text-decoration: underline\">ta</span>                                                                               <span style=\"color: #7f7f7f; text-decoration-color: #7f7f7f\">              </span>\n",
       "</pre>\n"
      ]
     },
     "metadata": {},
     "output_type": "display_data"
    },
    {
     "data": {
      "text/plain": [
       "\u001B[2;36m[19:54:59]\u001B[0m\u001B[2;36m \u001B[0m\u001B[1;7;31mCRITICAL\u001B[0m ISBNLibHTTPError for                                                           \u001B]8;id=525243;file:///Users/jdubec/Projects/EvilFlowers/evilflowers-webdav-import/.venv/lib/python3.13/site-packages/isbnlib/dev/webservice.py\u001B\\\u001B[2mwebservice.py\u001B[0m\u001B]8;;\u001B\\\u001B[2m:\u001B[0m\u001B]8;id=811622;file:///Users/jdubec/Projects/EvilFlowers/evilflowers-webdav-import/.venv/lib/python3.13/site-packages/isbnlib/dev/webservice.py#62\u001B\\\u001B[2m62\u001B[0m\u001B]8;;\u001B\\\n",
       "\u001B[2;36m           \u001B[0m         \u001B[4;94mhttps://en.wikipedia.org/api/rest_v1/data/citation/mediawiki/9788022750714\u001B[0m     \u001B[2m                \u001B[0m\n",
       "\u001B[2;36m           \u001B[0m         with code \u001B[1;36m404\u001B[0m \u001B[1m[\u001B[0mNot Found\u001B[1m]\u001B[0m                                                      \u001B[2m                \u001B[0m\n"
      ],
      "text/html": [
       "<pre style=\"white-space:pre;overflow-x:auto;line-height:normal;font-family:Menlo,'DejaVu Sans Mono',consolas,'Courier New',monospace\"><span style=\"color: #7fbfbf; text-decoration-color: #7fbfbf\">[19:54:59] </span><span style=\"background-color: #800000; font-weight: bold\">CRITICAL</span> ISBNLibHTTPError for                                                           <a href=\"file:///Users/jdubec/Projects/EvilFlowers/evilflowers-webdav-import/.venv/lib/python3.13/site-packages/isbnlib/dev/webservice.py\" target=\"_blank\"><span style=\"color: #7f7f7f; text-decoration-color: #7f7f7f\">webservice.py</span></a><span style=\"color: #7f7f7f; text-decoration-color: #7f7f7f\">:</span><a href=\"file:///Users/jdubec/Projects/EvilFlowers/evilflowers-webdav-import/.venv/lib/python3.13/site-packages/isbnlib/dev/webservice.py#62\" target=\"_blank\"><span style=\"color: #7f7f7f; text-decoration-color: #7f7f7f\">62</span></a>\n",
       "<span style=\"color: #7fbfbf; text-decoration-color: #7fbfbf\">           </span>         <span style=\"color: #0000ff; text-decoration-color: #0000ff; text-decoration: underline\">https://en.wikipedia.org/api/rest_v1/data/citation/mediawiki/9788022750714</span>     <span style=\"color: #7f7f7f; text-decoration-color: #7f7f7f\">                </span>\n",
       "<span style=\"color: #7fbfbf; text-decoration-color: #7fbfbf\">           </span>         with code <span style=\"color: #008080; text-decoration-color: #008080; font-weight: bold\">404</span> <span style=\"font-weight: bold\">[</span>Not Found<span style=\"font-weight: bold\">]</span>                                                      <span style=\"color: #7f7f7f; text-decoration-color: #7f7f7f\">                </span>\n",
       "</pre>\n"
      ]
     },
     "metadata": {},
     "output_type": "display_data"
    },
    {
     "data": {
      "text/plain": [
       "\u001B[2;36m[19:55:02]\u001B[0m\u001B[2;36m \u001B[0m\u001B[33mWARNING \u001B[0m DataNotFoundAtServiceError for                                                   \u001B]8;id=883842;file:///Users/jdubec/Projects/EvilFlowers/evilflowers-webdav-import/.venv/lib/python3.13/site-packages/isbnlib/dev/webquery.py\u001B\\\u001B[2mwebquery.py\u001B[0m\u001B]8;;\u001B\\\u001B[2m:\u001B[0m\u001B]8;id=437750;file:///Users/jdubec/Projects/EvilFlowers/evilflowers-webdav-import/.venv/lib/python3.13/site-packages/isbnlib/dev/webquery.py#40\u001B\\\u001B[2m40\u001B[0m\u001B]8;;\u001B\\\n",
       "\u001B[2;36m           \u001B[0m         \u001B[4;94mhttp://openlibrary.org/api/books?\u001B[0m\u001B[4;94mbibkeys\u001B[0m\u001B[4;94m=\u001B[0m\u001B[4;94mISBN\u001B[0m\u001B[4;94m:9788022736305&\u001B[0m\u001B[4;94mformat\u001B[0m\u001B[4;94m=\u001B[0m\u001B[4;94mjson\u001B[0m\u001B[4;94m&\u001B[0m\u001B[4;94mjscmd\u001B[0m\u001B[4;94m=\u001B[0m\u001B[4;94mda\u001B[0m \u001B[2m              \u001B[0m\n",
       "\u001B[2;36m           \u001B[0m         \u001B[4;94mta\u001B[0m                                                                               \u001B[2m              \u001B[0m\n"
      ],
      "text/html": [
       "<pre style=\"white-space:pre;overflow-x:auto;line-height:normal;font-family:Menlo,'DejaVu Sans Mono',consolas,'Courier New',monospace\"><span style=\"color: #7fbfbf; text-decoration-color: #7fbfbf\">[19:55:02] </span><span style=\"color: #808000; text-decoration-color: #808000\">WARNING </span> DataNotFoundAtServiceError for                                                   <a href=\"file:///Users/jdubec/Projects/EvilFlowers/evilflowers-webdav-import/.venv/lib/python3.13/site-packages/isbnlib/dev/webquery.py\" target=\"_blank\"><span style=\"color: #7f7f7f; text-decoration-color: #7f7f7f\">webquery.py</span></a><span style=\"color: #7f7f7f; text-decoration-color: #7f7f7f\">:</span><a href=\"file:///Users/jdubec/Projects/EvilFlowers/evilflowers-webdav-import/.venv/lib/python3.13/site-packages/isbnlib/dev/webquery.py#40\" target=\"_blank\"><span style=\"color: #7f7f7f; text-decoration-color: #7f7f7f\">40</span></a>\n",
       "<span style=\"color: #7fbfbf; text-decoration-color: #7fbfbf\">           </span>         <span style=\"color: #0000ff; text-decoration-color: #0000ff; text-decoration: underline\">http://openlibrary.org/api/books?bibkeys=ISBN:9788022736305&amp;format=json&amp;jscmd=da</span> <span style=\"color: #7f7f7f; text-decoration-color: #7f7f7f\">              </span>\n",
       "<span style=\"color: #7fbfbf; text-decoration-color: #7fbfbf\">           </span>         <span style=\"color: #0000ff; text-decoration-color: #0000ff; text-decoration: underline\">ta</span>                                                                               <span style=\"color: #7f7f7f; text-decoration-color: #7f7f7f\">              </span>\n",
       "</pre>\n"
      ]
     },
     "metadata": {},
     "output_type": "display_data"
    },
    {
     "data": {
      "text/plain": [
       "\u001B[2;36m[19:55:03]\u001B[0m\u001B[2;36m \u001B[0m\u001B[1;7;31mCRITICAL\u001B[0m ISBNLibHTTPError for                                                           \u001B]8;id=100371;file:///Users/jdubec/Projects/EvilFlowers/evilflowers-webdav-import/.venv/lib/python3.13/site-packages/isbnlib/dev/webservice.py\u001B\\\u001B[2mwebservice.py\u001B[0m\u001B]8;;\u001B\\\u001B[2m:\u001B[0m\u001B]8;id=553464;file:///Users/jdubec/Projects/EvilFlowers/evilflowers-webdav-import/.venv/lib/python3.13/site-packages/isbnlib/dev/webservice.py#62\u001B\\\u001B[2m62\u001B[0m\u001B]8;;\u001B\\\n",
       "\u001B[2;36m           \u001B[0m         \u001B[4;94mhttps://en.wikipedia.org/api/rest_v1/data/citation/mediawiki/9788022736305\u001B[0m     \u001B[2m                \u001B[0m\n",
       "\u001B[2;36m           \u001B[0m         with code \u001B[1;36m404\u001B[0m \u001B[1m[\u001B[0mNot Found\u001B[1m]\u001B[0m                                                      \u001B[2m                \u001B[0m\n"
      ],
      "text/html": [
       "<pre style=\"white-space:pre;overflow-x:auto;line-height:normal;font-family:Menlo,'DejaVu Sans Mono',consolas,'Courier New',monospace\"><span style=\"color: #7fbfbf; text-decoration-color: #7fbfbf\">[19:55:03] </span><span style=\"background-color: #800000; font-weight: bold\">CRITICAL</span> ISBNLibHTTPError for                                                           <a href=\"file:///Users/jdubec/Projects/EvilFlowers/evilflowers-webdav-import/.venv/lib/python3.13/site-packages/isbnlib/dev/webservice.py\" target=\"_blank\"><span style=\"color: #7f7f7f; text-decoration-color: #7f7f7f\">webservice.py</span></a><span style=\"color: #7f7f7f; text-decoration-color: #7f7f7f\">:</span><a href=\"file:///Users/jdubec/Projects/EvilFlowers/evilflowers-webdav-import/.venv/lib/python3.13/site-packages/isbnlib/dev/webservice.py#62\" target=\"_blank\"><span style=\"color: #7f7f7f; text-decoration-color: #7f7f7f\">62</span></a>\n",
       "<span style=\"color: #7fbfbf; text-decoration-color: #7fbfbf\">           </span>         <span style=\"color: #0000ff; text-decoration-color: #0000ff; text-decoration: underline\">https://en.wikipedia.org/api/rest_v1/data/citation/mediawiki/9788022736305</span>     <span style=\"color: #7f7f7f; text-decoration-color: #7f7f7f\">                </span>\n",
       "<span style=\"color: #7fbfbf; text-decoration-color: #7fbfbf\">           </span>         with code <span style=\"color: #008080; text-decoration-color: #008080; font-weight: bold\">404</span> <span style=\"font-weight: bold\">[</span>Not Found<span style=\"font-weight: bold\">]</span>                                                      <span style=\"color: #7f7f7f; text-decoration-color: #7f7f7f\">                </span>\n",
       "</pre>\n"
      ]
     },
     "metadata": {},
     "output_type": "display_data"
    },
    {
     "data": {
      "text/plain": [
       "\u001B[2;36m[19:55:05]\u001B[0m\u001B[2;36m \u001B[0m\u001B[33mWARNING \u001B[0m DataNotFoundAtServiceError for                                                   \u001B]8;id=638780;file:///Users/jdubec/Projects/EvilFlowers/evilflowers-webdav-import/.venv/lib/python3.13/site-packages/isbnlib/dev/webquery.py\u001B\\\u001B[2mwebquery.py\u001B[0m\u001B]8;;\u001B\\\u001B[2m:\u001B[0m\u001B]8;id=310966;file:///Users/jdubec/Projects/EvilFlowers/evilflowers-webdav-import/.venv/lib/python3.13/site-packages/isbnlib/dev/webquery.py#40\u001B\\\u001B[2m40\u001B[0m\u001B]8;;\u001B\\\n",
       "\u001B[2;36m           \u001B[0m         \u001B[4;94mhttp://openlibrary.org/api/books?\u001B[0m\u001B[4;94mbibkeys\u001B[0m\u001B[4;94m=\u001B[0m\u001B[4;94mISBN\u001B[0m\u001B[4;94m:9788022738804&\u001B[0m\u001B[4;94mformat\u001B[0m\u001B[4;94m=\u001B[0m\u001B[4;94mjson\u001B[0m\u001B[4;94m&\u001B[0m\u001B[4;94mjscmd\u001B[0m\u001B[4;94m=\u001B[0m\u001B[4;94mda\u001B[0m \u001B[2m              \u001B[0m\n",
       "\u001B[2;36m           \u001B[0m         \u001B[4;94mta\u001B[0m                                                                               \u001B[2m              \u001B[0m\n"
      ],
      "text/html": [
       "<pre style=\"white-space:pre;overflow-x:auto;line-height:normal;font-family:Menlo,'DejaVu Sans Mono',consolas,'Courier New',monospace\"><span style=\"color: #7fbfbf; text-decoration-color: #7fbfbf\">[19:55:05] </span><span style=\"color: #808000; text-decoration-color: #808000\">WARNING </span> DataNotFoundAtServiceError for                                                   <a href=\"file:///Users/jdubec/Projects/EvilFlowers/evilflowers-webdav-import/.venv/lib/python3.13/site-packages/isbnlib/dev/webquery.py\" target=\"_blank\"><span style=\"color: #7f7f7f; text-decoration-color: #7f7f7f\">webquery.py</span></a><span style=\"color: #7f7f7f; text-decoration-color: #7f7f7f\">:</span><a href=\"file:///Users/jdubec/Projects/EvilFlowers/evilflowers-webdav-import/.venv/lib/python3.13/site-packages/isbnlib/dev/webquery.py#40\" target=\"_blank\"><span style=\"color: #7f7f7f; text-decoration-color: #7f7f7f\">40</span></a>\n",
       "<span style=\"color: #7fbfbf; text-decoration-color: #7fbfbf\">           </span>         <span style=\"color: #0000ff; text-decoration-color: #0000ff; text-decoration: underline\">http://openlibrary.org/api/books?bibkeys=ISBN:9788022738804&amp;format=json&amp;jscmd=da</span> <span style=\"color: #7f7f7f; text-decoration-color: #7f7f7f\">              </span>\n",
       "<span style=\"color: #7fbfbf; text-decoration-color: #7fbfbf\">           </span>         <span style=\"color: #0000ff; text-decoration-color: #0000ff; text-decoration: underline\">ta</span>                                                                               <span style=\"color: #7f7f7f; text-decoration-color: #7f7f7f\">              </span>\n",
       "</pre>\n"
      ]
     },
     "metadata": {},
     "output_type": "display_data"
    },
    {
     "data": {
      "text/plain": [
       "\u001B[2;36m[19:55:06]\u001B[0m\u001B[2;36m \u001B[0m\u001B[1;7;31mCRITICAL\u001B[0m ISBNLibHTTPError for                                                           \u001B]8;id=789226;file:///Users/jdubec/Projects/EvilFlowers/evilflowers-webdav-import/.venv/lib/python3.13/site-packages/isbnlib/dev/webservice.py\u001B\\\u001B[2mwebservice.py\u001B[0m\u001B]8;;\u001B\\\u001B[2m:\u001B[0m\u001B]8;id=414029;file:///Users/jdubec/Projects/EvilFlowers/evilflowers-webdav-import/.venv/lib/python3.13/site-packages/isbnlib/dev/webservice.py#62\u001B\\\u001B[2m62\u001B[0m\u001B]8;;\u001B\\\n",
       "\u001B[2;36m           \u001B[0m         \u001B[4;94mhttps://en.wikipedia.org/api/rest_v1/data/citation/mediawiki/9788022738804\u001B[0m     \u001B[2m                \u001B[0m\n",
       "\u001B[2;36m           \u001B[0m         with code \u001B[1;36m404\u001B[0m \u001B[1m[\u001B[0mNot Found\u001B[1m]\u001B[0m                                                      \u001B[2m                \u001B[0m\n"
      ],
      "text/html": [
       "<pre style=\"white-space:pre;overflow-x:auto;line-height:normal;font-family:Menlo,'DejaVu Sans Mono',consolas,'Courier New',monospace\"><span style=\"color: #7fbfbf; text-decoration-color: #7fbfbf\">[19:55:06] </span><span style=\"background-color: #800000; font-weight: bold\">CRITICAL</span> ISBNLibHTTPError for                                                           <a href=\"file:///Users/jdubec/Projects/EvilFlowers/evilflowers-webdav-import/.venv/lib/python3.13/site-packages/isbnlib/dev/webservice.py\" target=\"_blank\"><span style=\"color: #7f7f7f; text-decoration-color: #7f7f7f\">webservice.py</span></a><span style=\"color: #7f7f7f; text-decoration-color: #7f7f7f\">:</span><a href=\"file:///Users/jdubec/Projects/EvilFlowers/evilflowers-webdav-import/.venv/lib/python3.13/site-packages/isbnlib/dev/webservice.py#62\" target=\"_blank\"><span style=\"color: #7f7f7f; text-decoration-color: #7f7f7f\">62</span></a>\n",
       "<span style=\"color: #7fbfbf; text-decoration-color: #7fbfbf\">           </span>         <span style=\"color: #0000ff; text-decoration-color: #0000ff; text-decoration: underline\">https://en.wikipedia.org/api/rest_v1/data/citation/mediawiki/9788022738804</span>     <span style=\"color: #7f7f7f; text-decoration-color: #7f7f7f\">                </span>\n",
       "<span style=\"color: #7fbfbf; text-decoration-color: #7fbfbf\">           </span>         with code <span style=\"color: #008080; text-decoration-color: #008080; font-weight: bold\">404</span> <span style=\"font-weight: bold\">[</span>Not Found<span style=\"font-weight: bold\">]</span>                                                      <span style=\"color: #7f7f7f; text-decoration-color: #7f7f7f\">                </span>\n",
       "</pre>\n"
      ]
     },
     "metadata": {},
     "output_type": "display_data"
    },
    {
     "data": {
      "text/plain": [
       "\u001B[2;36m[19:55:10]\u001B[0m\u001B[2;36m \u001B[0m\u001B[33mWARNING \u001B[0m DataNotFoundAtServiceError for                                                   \u001B]8;id=302125;file:///Users/jdubec/Projects/EvilFlowers/evilflowers-webdav-import/.venv/lib/python3.13/site-packages/isbnlib/dev/webquery.py\u001B\\\u001B[2mwebquery.py\u001B[0m\u001B]8;;\u001B\\\u001B[2m:\u001B[0m\u001B]8;id=679839;file:///Users/jdubec/Projects/EvilFlowers/evilflowers-webdav-import/.venv/lib/python3.13/site-packages/isbnlib/dev/webquery.py#40\u001B\\\u001B[2m40\u001B[0m\u001B]8;;\u001B\\\n",
       "\u001B[2;36m           \u001B[0m         \u001B[4;94mhttp://openlibrary.org/api/books?\u001B[0m\u001B[4;94mbibkeys\u001B[0m\u001B[4;94m=\u001B[0m\u001B[4;94mISBN\u001B[0m\u001B[4;94m:9788022724913&\u001B[0m\u001B[4;94mformat\u001B[0m\u001B[4;94m=\u001B[0m\u001B[4;94mjson\u001B[0m\u001B[4;94m&\u001B[0m\u001B[4;94mjscmd\u001B[0m\u001B[4;94m=\u001B[0m\u001B[4;94mda\u001B[0m \u001B[2m              \u001B[0m\n",
       "\u001B[2;36m           \u001B[0m         \u001B[4;94mta\u001B[0m                                                                               \u001B[2m              \u001B[0m\n"
      ],
      "text/html": [
       "<pre style=\"white-space:pre;overflow-x:auto;line-height:normal;font-family:Menlo,'DejaVu Sans Mono',consolas,'Courier New',monospace\"><span style=\"color: #7fbfbf; text-decoration-color: #7fbfbf\">[19:55:10] </span><span style=\"color: #808000; text-decoration-color: #808000\">WARNING </span> DataNotFoundAtServiceError for                                                   <a href=\"file:///Users/jdubec/Projects/EvilFlowers/evilflowers-webdav-import/.venv/lib/python3.13/site-packages/isbnlib/dev/webquery.py\" target=\"_blank\"><span style=\"color: #7f7f7f; text-decoration-color: #7f7f7f\">webquery.py</span></a><span style=\"color: #7f7f7f; text-decoration-color: #7f7f7f\">:</span><a href=\"file:///Users/jdubec/Projects/EvilFlowers/evilflowers-webdav-import/.venv/lib/python3.13/site-packages/isbnlib/dev/webquery.py#40\" target=\"_blank\"><span style=\"color: #7f7f7f; text-decoration-color: #7f7f7f\">40</span></a>\n",
       "<span style=\"color: #7fbfbf; text-decoration-color: #7fbfbf\">           </span>         <span style=\"color: #0000ff; text-decoration-color: #0000ff; text-decoration: underline\">http://openlibrary.org/api/books?bibkeys=ISBN:9788022724913&amp;format=json&amp;jscmd=da</span> <span style=\"color: #7f7f7f; text-decoration-color: #7f7f7f\">              </span>\n",
       "<span style=\"color: #7fbfbf; text-decoration-color: #7fbfbf\">           </span>         <span style=\"color: #0000ff; text-decoration-color: #0000ff; text-decoration: underline\">ta</span>                                                                               <span style=\"color: #7f7f7f; text-decoration-color: #7f7f7f\">              </span>\n",
       "</pre>\n"
      ]
     },
     "metadata": {},
     "output_type": "display_data"
    },
    {
     "data": {
      "text/plain": [
       "\u001B[2;36m[19:55:12]\u001B[0m\u001B[2;36m \u001B[0m\u001B[1;7;31mCRITICAL\u001B[0m ISBNLibHTTPError for                                                           \u001B]8;id=960546;file:///Users/jdubec/Projects/EvilFlowers/evilflowers-webdav-import/.venv/lib/python3.13/site-packages/isbnlib/dev/webservice.py\u001B\\\u001B[2mwebservice.py\u001B[0m\u001B]8;;\u001B\\\u001B[2m:\u001B[0m\u001B]8;id=350313;file:///Users/jdubec/Projects/EvilFlowers/evilflowers-webdav-import/.venv/lib/python3.13/site-packages/isbnlib/dev/webservice.py#62\u001B\\\u001B[2m62\u001B[0m\u001B]8;;\u001B\\\n",
       "\u001B[2;36m           \u001B[0m         \u001B[4;94mhttps://en.wikipedia.org/api/rest_v1/data/citation/mediawiki/9788022724913\u001B[0m     \u001B[2m                \u001B[0m\n",
       "\u001B[2;36m           \u001B[0m         with code \u001B[1;36m404\u001B[0m \u001B[1m[\u001B[0mNot Found\u001B[1m]\u001B[0m                                                      \u001B[2m                \u001B[0m\n"
      ],
      "text/html": [
       "<pre style=\"white-space:pre;overflow-x:auto;line-height:normal;font-family:Menlo,'DejaVu Sans Mono',consolas,'Courier New',monospace\"><span style=\"color: #7fbfbf; text-decoration-color: #7fbfbf\">[19:55:12] </span><span style=\"background-color: #800000; font-weight: bold\">CRITICAL</span> ISBNLibHTTPError for                                                           <a href=\"file:///Users/jdubec/Projects/EvilFlowers/evilflowers-webdav-import/.venv/lib/python3.13/site-packages/isbnlib/dev/webservice.py\" target=\"_blank\"><span style=\"color: #7f7f7f; text-decoration-color: #7f7f7f\">webservice.py</span></a><span style=\"color: #7f7f7f; text-decoration-color: #7f7f7f\">:</span><a href=\"file:///Users/jdubec/Projects/EvilFlowers/evilflowers-webdav-import/.venv/lib/python3.13/site-packages/isbnlib/dev/webservice.py#62\" target=\"_blank\"><span style=\"color: #7f7f7f; text-decoration-color: #7f7f7f\">62</span></a>\n",
       "<span style=\"color: #7fbfbf; text-decoration-color: #7fbfbf\">           </span>         <span style=\"color: #0000ff; text-decoration-color: #0000ff; text-decoration: underline\">https://en.wikipedia.org/api/rest_v1/data/citation/mediawiki/9788022724913</span>     <span style=\"color: #7f7f7f; text-decoration-color: #7f7f7f\">                </span>\n",
       "<span style=\"color: #7fbfbf; text-decoration-color: #7fbfbf\">           </span>         with code <span style=\"color: #008080; text-decoration-color: #008080; font-weight: bold\">404</span> <span style=\"font-weight: bold\">[</span>Not Found<span style=\"font-weight: bold\">]</span>                                                      <span style=\"color: #7f7f7f; text-decoration-color: #7f7f7f\">                </span>\n",
       "</pre>\n"
      ]
     },
     "metadata": {},
     "output_type": "display_data"
    },
    {
     "data": {
      "text/plain": [
       "\u001B[2;36m[19:55:14]\u001B[0m\u001B[2;36m \u001B[0m\u001B[33mWARNING \u001B[0m DataNotFoundAtServiceError for                                                   \u001B]8;id=452180;file:///Users/jdubec/Projects/EvilFlowers/evilflowers-webdav-import/.venv/lib/python3.13/site-packages/isbnlib/dev/webquery.py\u001B\\\u001B[2mwebquery.py\u001B[0m\u001B]8;;\u001B\\\u001B[2m:\u001B[0m\u001B]8;id=790990;file:///Users/jdubec/Projects/EvilFlowers/evilflowers-webdav-import/.venv/lib/python3.13/site-packages/isbnlib/dev/webquery.py#40\u001B\\\u001B[2m40\u001B[0m\u001B]8;;\u001B\\\n",
       "\u001B[2;36m           \u001B[0m         \u001B[4;94mhttp://openlibrary.org/api/books?\u001B[0m\u001B[4;94mbibkeys\u001B[0m\u001B[4;94m=\u001B[0m\u001B[4;94mISBN\u001B[0m\u001B[4;94m:9788055300955&\u001B[0m\u001B[4;94mformat\u001B[0m\u001B[4;94m=\u001B[0m\u001B[4;94mjson\u001B[0m\u001B[4;94m&\u001B[0m\u001B[4;94mjscmd\u001B[0m\u001B[4;94m=\u001B[0m\u001B[4;94mda\u001B[0m \u001B[2m              \u001B[0m\n",
       "\u001B[2;36m           \u001B[0m         \u001B[4;94mta\u001B[0m                                                                               \u001B[2m              \u001B[0m\n"
      ],
      "text/html": [
       "<pre style=\"white-space:pre;overflow-x:auto;line-height:normal;font-family:Menlo,'DejaVu Sans Mono',consolas,'Courier New',monospace\"><span style=\"color: #7fbfbf; text-decoration-color: #7fbfbf\">[19:55:14] </span><span style=\"color: #808000; text-decoration-color: #808000\">WARNING </span> DataNotFoundAtServiceError for                                                   <a href=\"file:///Users/jdubec/Projects/EvilFlowers/evilflowers-webdav-import/.venv/lib/python3.13/site-packages/isbnlib/dev/webquery.py\" target=\"_blank\"><span style=\"color: #7f7f7f; text-decoration-color: #7f7f7f\">webquery.py</span></a><span style=\"color: #7f7f7f; text-decoration-color: #7f7f7f\">:</span><a href=\"file:///Users/jdubec/Projects/EvilFlowers/evilflowers-webdav-import/.venv/lib/python3.13/site-packages/isbnlib/dev/webquery.py#40\" target=\"_blank\"><span style=\"color: #7f7f7f; text-decoration-color: #7f7f7f\">40</span></a>\n",
       "<span style=\"color: #7fbfbf; text-decoration-color: #7fbfbf\">           </span>         <span style=\"color: #0000ff; text-decoration-color: #0000ff; text-decoration: underline\">http://openlibrary.org/api/books?bibkeys=ISBN:9788055300955&amp;format=json&amp;jscmd=da</span> <span style=\"color: #7f7f7f; text-decoration-color: #7f7f7f\">              </span>\n",
       "<span style=\"color: #7fbfbf; text-decoration-color: #7fbfbf\">           </span>         <span style=\"color: #0000ff; text-decoration-color: #0000ff; text-decoration: underline\">ta</span>                                                                               <span style=\"color: #7f7f7f; text-decoration-color: #7f7f7f\">              </span>\n",
       "</pre>\n"
      ]
     },
     "metadata": {},
     "output_type": "display_data"
    },
    {
     "data": {
      "text/plain": [
       "\u001B[2;36m[19:55:15]\u001B[0m\u001B[2;36m \u001B[0m\u001B[1;7;31mCRITICAL\u001B[0m ISBNLibHTTPError for                                                           \u001B]8;id=479147;file:///Users/jdubec/Projects/EvilFlowers/evilflowers-webdav-import/.venv/lib/python3.13/site-packages/isbnlib/dev/webservice.py\u001B\\\u001B[2mwebservice.py\u001B[0m\u001B]8;;\u001B\\\u001B[2m:\u001B[0m\u001B]8;id=574641;file:///Users/jdubec/Projects/EvilFlowers/evilflowers-webdav-import/.venv/lib/python3.13/site-packages/isbnlib/dev/webservice.py#62\u001B\\\u001B[2m62\u001B[0m\u001B]8;;\u001B\\\n",
       "\u001B[2;36m           \u001B[0m         \u001B[4;94mhttps://en.wikipedia.org/api/rest_v1/data/citation/mediawiki/9788055300955\u001B[0m     \u001B[2m                \u001B[0m\n",
       "\u001B[2;36m           \u001B[0m         with code \u001B[1;36m404\u001B[0m \u001B[1m[\u001B[0mNot Found\u001B[1m]\u001B[0m                                                      \u001B[2m                \u001B[0m\n"
      ],
      "text/html": [
       "<pre style=\"white-space:pre;overflow-x:auto;line-height:normal;font-family:Menlo,'DejaVu Sans Mono',consolas,'Courier New',monospace\"><span style=\"color: #7fbfbf; text-decoration-color: #7fbfbf\">[19:55:15] </span><span style=\"background-color: #800000; font-weight: bold\">CRITICAL</span> ISBNLibHTTPError for                                                           <a href=\"file:///Users/jdubec/Projects/EvilFlowers/evilflowers-webdav-import/.venv/lib/python3.13/site-packages/isbnlib/dev/webservice.py\" target=\"_blank\"><span style=\"color: #7f7f7f; text-decoration-color: #7f7f7f\">webservice.py</span></a><span style=\"color: #7f7f7f; text-decoration-color: #7f7f7f\">:</span><a href=\"file:///Users/jdubec/Projects/EvilFlowers/evilflowers-webdav-import/.venv/lib/python3.13/site-packages/isbnlib/dev/webservice.py#62\" target=\"_blank\"><span style=\"color: #7f7f7f; text-decoration-color: #7f7f7f\">62</span></a>\n",
       "<span style=\"color: #7fbfbf; text-decoration-color: #7fbfbf\">           </span>         <span style=\"color: #0000ff; text-decoration-color: #0000ff; text-decoration: underline\">https://en.wikipedia.org/api/rest_v1/data/citation/mediawiki/9788055300955</span>     <span style=\"color: #7f7f7f; text-decoration-color: #7f7f7f\">                </span>\n",
       "<span style=\"color: #7fbfbf; text-decoration-color: #7fbfbf\">           </span>         with code <span style=\"color: #008080; text-decoration-color: #008080; font-weight: bold\">404</span> <span style=\"font-weight: bold\">[</span>Not Found<span style=\"font-weight: bold\">]</span>                                                      <span style=\"color: #7f7f7f; text-decoration-color: #7f7f7f\">                </span>\n",
       "</pre>\n"
      ]
     },
     "metadata": {},
     "output_type": "display_data"
    },
    {
     "data": {
      "text/plain": [
       "\u001B[2;36m[19:55:18]\u001B[0m\u001B[2;36m \u001B[0m\u001B[33mWARNING \u001B[0m DataNotFoundAtServiceError for                                                   \u001B]8;id=6338;file:///Users/jdubec/Projects/EvilFlowers/evilflowers-webdav-import/.venv/lib/python3.13/site-packages/isbnlib/dev/webquery.py\u001B\\\u001B[2mwebquery.py\u001B[0m\u001B]8;;\u001B\\\u001B[2m:\u001B[0m\u001B]8;id=123593;file:///Users/jdubec/Projects/EvilFlowers/evilflowers-webdav-import/.venv/lib/python3.13/site-packages/isbnlib/dev/webquery.py#40\u001B\\\u001B[2m40\u001B[0m\u001B]8;;\u001B\\\n",
       "\u001B[2;36m           \u001B[0m         \u001B[4;94mhttp://openlibrary.org/api/books?\u001B[0m\u001B[4;94mbibkeys\u001B[0m\u001B[4;94m=\u001B[0m\u001B[4;94mISBN\u001B[0m\u001B[4;94m:9788089313068&\u001B[0m\u001B[4;94mformat\u001B[0m\u001B[4;94m=\u001B[0m\u001B[4;94mjson\u001B[0m\u001B[4;94m&\u001B[0m\u001B[4;94mjscmd\u001B[0m\u001B[4;94m=\u001B[0m\u001B[4;94mda\u001B[0m \u001B[2m              \u001B[0m\n",
       "\u001B[2;36m           \u001B[0m         \u001B[4;94mta\u001B[0m                                                                               \u001B[2m              \u001B[0m\n"
      ],
      "text/html": [
       "<pre style=\"white-space:pre;overflow-x:auto;line-height:normal;font-family:Menlo,'DejaVu Sans Mono',consolas,'Courier New',monospace\"><span style=\"color: #7fbfbf; text-decoration-color: #7fbfbf\">[19:55:18] </span><span style=\"color: #808000; text-decoration-color: #808000\">WARNING </span> DataNotFoundAtServiceError for                                                   <a href=\"file:///Users/jdubec/Projects/EvilFlowers/evilflowers-webdav-import/.venv/lib/python3.13/site-packages/isbnlib/dev/webquery.py\" target=\"_blank\"><span style=\"color: #7f7f7f; text-decoration-color: #7f7f7f\">webquery.py</span></a><span style=\"color: #7f7f7f; text-decoration-color: #7f7f7f\">:</span><a href=\"file:///Users/jdubec/Projects/EvilFlowers/evilflowers-webdav-import/.venv/lib/python3.13/site-packages/isbnlib/dev/webquery.py#40\" target=\"_blank\"><span style=\"color: #7f7f7f; text-decoration-color: #7f7f7f\">40</span></a>\n",
       "<span style=\"color: #7fbfbf; text-decoration-color: #7fbfbf\">           </span>         <span style=\"color: #0000ff; text-decoration-color: #0000ff; text-decoration: underline\">http://openlibrary.org/api/books?bibkeys=ISBN:9788089313068&amp;format=json&amp;jscmd=da</span> <span style=\"color: #7f7f7f; text-decoration-color: #7f7f7f\">              </span>\n",
       "<span style=\"color: #7fbfbf; text-decoration-color: #7fbfbf\">           </span>         <span style=\"color: #0000ff; text-decoration-color: #0000ff; text-decoration: underline\">ta</span>                                                                               <span style=\"color: #7f7f7f; text-decoration-color: #7f7f7f\">              </span>\n",
       "</pre>\n"
      ]
     },
     "metadata": {},
     "output_type": "display_data"
    },
    {
     "data": {
      "text/plain": [
       "\u001B[2;36m[19:55:19]\u001B[0m\u001B[2;36m \u001B[0m\u001B[1;7;31mCRITICAL\u001B[0m ISBNLibHTTPError for                                                           \u001B]8;id=227797;file:///Users/jdubec/Projects/EvilFlowers/evilflowers-webdav-import/.venv/lib/python3.13/site-packages/isbnlib/dev/webservice.py\u001B\\\u001B[2mwebservice.py\u001B[0m\u001B]8;;\u001B\\\u001B[2m:\u001B[0m\u001B]8;id=790500;file:///Users/jdubec/Projects/EvilFlowers/evilflowers-webdav-import/.venv/lib/python3.13/site-packages/isbnlib/dev/webservice.py#62\u001B\\\u001B[2m62\u001B[0m\u001B]8;;\u001B\\\n",
       "\u001B[2;36m           \u001B[0m         \u001B[4;94mhttps://en.wikipedia.org/api/rest_v1/data/citation/mediawiki/9788089313068\u001B[0m     \u001B[2m                \u001B[0m\n",
       "\u001B[2;36m           \u001B[0m         with code \u001B[1;36m404\u001B[0m \u001B[1m[\u001B[0mNot Found\u001B[1m]\u001B[0m                                                      \u001B[2m                \u001B[0m\n"
      ],
      "text/html": [
       "<pre style=\"white-space:pre;overflow-x:auto;line-height:normal;font-family:Menlo,'DejaVu Sans Mono',consolas,'Courier New',monospace\"><span style=\"color: #7fbfbf; text-decoration-color: #7fbfbf\">[19:55:19] </span><span style=\"background-color: #800000; font-weight: bold\">CRITICAL</span> ISBNLibHTTPError for                                                           <a href=\"file:///Users/jdubec/Projects/EvilFlowers/evilflowers-webdav-import/.venv/lib/python3.13/site-packages/isbnlib/dev/webservice.py\" target=\"_blank\"><span style=\"color: #7f7f7f; text-decoration-color: #7f7f7f\">webservice.py</span></a><span style=\"color: #7f7f7f; text-decoration-color: #7f7f7f\">:</span><a href=\"file:///Users/jdubec/Projects/EvilFlowers/evilflowers-webdav-import/.venv/lib/python3.13/site-packages/isbnlib/dev/webservice.py#62\" target=\"_blank\"><span style=\"color: #7f7f7f; text-decoration-color: #7f7f7f\">62</span></a>\n",
       "<span style=\"color: #7fbfbf; text-decoration-color: #7fbfbf\">           </span>         <span style=\"color: #0000ff; text-decoration-color: #0000ff; text-decoration: underline\">https://en.wikipedia.org/api/rest_v1/data/citation/mediawiki/9788089313068</span>     <span style=\"color: #7f7f7f; text-decoration-color: #7f7f7f\">                </span>\n",
       "<span style=\"color: #7fbfbf; text-decoration-color: #7fbfbf\">           </span>         with code <span style=\"color: #008080; text-decoration-color: #008080; font-weight: bold\">404</span> <span style=\"font-weight: bold\">[</span>Not Found<span style=\"font-weight: bold\">]</span>                                                      <span style=\"color: #7f7f7f; text-decoration-color: #7f7f7f\">                </span>\n",
       "</pre>\n"
      ]
     },
     "metadata": {},
     "output_type": "display_data"
    },
    {
     "data": {
      "text/plain": [
       "\u001B[2;36m[19:55:23]\u001B[0m\u001B[2;36m \u001B[0m\u001B[33mWARNING \u001B[0m DataNotFoundAtServiceError for                                                   \u001B]8;id=390469;file:///Users/jdubec/Projects/EvilFlowers/evilflowers-webdav-import/.venv/lib/python3.13/site-packages/isbnlib/dev/webquery.py\u001B\\\u001B[2mwebquery.py\u001B[0m\u001B]8;;\u001B\\\u001B[2m:\u001B[0m\u001B]8;id=266107;file:///Users/jdubec/Projects/EvilFlowers/evilflowers-webdav-import/.venv/lib/python3.13/site-packages/isbnlib/dev/webquery.py#40\u001B\\\u001B[2m40\u001B[0m\u001B]8;;\u001B\\\n",
       "\u001B[2;36m           \u001B[0m         \u001B[4;94mhttp://openlibrary.org/api/books?\u001B[0m\u001B[4;94mbibkeys\u001B[0m\u001B[4;94m=\u001B[0m\u001B[4;94mISBN\u001B[0m\u001B[4;94m:9788055307664&\u001B[0m\u001B[4;94mformat\u001B[0m\u001B[4;94m=\u001B[0m\u001B[4;94mjson\u001B[0m\u001B[4;94m&\u001B[0m\u001B[4;94mjscmd\u001B[0m\u001B[4;94m=\u001B[0m\u001B[4;94mda\u001B[0m \u001B[2m              \u001B[0m\n",
       "\u001B[2;36m           \u001B[0m         \u001B[4;94mta\u001B[0m                                                                               \u001B[2m              \u001B[0m\n"
      ],
      "text/html": [
       "<pre style=\"white-space:pre;overflow-x:auto;line-height:normal;font-family:Menlo,'DejaVu Sans Mono',consolas,'Courier New',monospace\"><span style=\"color: #7fbfbf; text-decoration-color: #7fbfbf\">[19:55:23] </span><span style=\"color: #808000; text-decoration-color: #808000\">WARNING </span> DataNotFoundAtServiceError for                                                   <a href=\"file:///Users/jdubec/Projects/EvilFlowers/evilflowers-webdav-import/.venv/lib/python3.13/site-packages/isbnlib/dev/webquery.py\" target=\"_blank\"><span style=\"color: #7f7f7f; text-decoration-color: #7f7f7f\">webquery.py</span></a><span style=\"color: #7f7f7f; text-decoration-color: #7f7f7f\">:</span><a href=\"file:///Users/jdubec/Projects/EvilFlowers/evilflowers-webdav-import/.venv/lib/python3.13/site-packages/isbnlib/dev/webquery.py#40\" target=\"_blank\"><span style=\"color: #7f7f7f; text-decoration-color: #7f7f7f\">40</span></a>\n",
       "<span style=\"color: #7fbfbf; text-decoration-color: #7fbfbf\">           </span>         <span style=\"color: #0000ff; text-decoration-color: #0000ff; text-decoration: underline\">http://openlibrary.org/api/books?bibkeys=ISBN:9788055307664&amp;format=json&amp;jscmd=da</span> <span style=\"color: #7f7f7f; text-decoration-color: #7f7f7f\">              </span>\n",
       "<span style=\"color: #7fbfbf; text-decoration-color: #7fbfbf\">           </span>         <span style=\"color: #0000ff; text-decoration-color: #0000ff; text-decoration: underline\">ta</span>                                                                               <span style=\"color: #7f7f7f; text-decoration-color: #7f7f7f\">              </span>\n",
       "</pre>\n"
      ]
     },
     "metadata": {},
     "output_type": "display_data"
    },
    {
     "data": {
      "text/plain": [
       "\u001B[2;36m[19:55:24]\u001B[0m\u001B[2;36m \u001B[0m\u001B[1;7;31mCRITICAL\u001B[0m ISBNLibHTTPError for                                                           \u001B]8;id=212924;file:///Users/jdubec/Projects/EvilFlowers/evilflowers-webdav-import/.venv/lib/python3.13/site-packages/isbnlib/dev/webservice.py\u001B\\\u001B[2mwebservice.py\u001B[0m\u001B]8;;\u001B\\\u001B[2m:\u001B[0m\u001B]8;id=645019;file:///Users/jdubec/Projects/EvilFlowers/evilflowers-webdav-import/.venv/lib/python3.13/site-packages/isbnlib/dev/webservice.py#62\u001B\\\u001B[2m62\u001B[0m\u001B]8;;\u001B\\\n",
       "\u001B[2;36m           \u001B[0m         \u001B[4;94mhttps://en.wikipedia.org/api/rest_v1/data/citation/mediawiki/9788055307664\u001B[0m     \u001B[2m                \u001B[0m\n",
       "\u001B[2;36m           \u001B[0m         with code \u001B[1;36m404\u001B[0m \u001B[1m[\u001B[0mNot Found\u001B[1m]\u001B[0m                                                      \u001B[2m                \u001B[0m\n"
      ],
      "text/html": [
       "<pre style=\"white-space:pre;overflow-x:auto;line-height:normal;font-family:Menlo,'DejaVu Sans Mono',consolas,'Courier New',monospace\"><span style=\"color: #7fbfbf; text-decoration-color: #7fbfbf\">[19:55:24] </span><span style=\"background-color: #800000; font-weight: bold\">CRITICAL</span> ISBNLibHTTPError for                                                           <a href=\"file:///Users/jdubec/Projects/EvilFlowers/evilflowers-webdav-import/.venv/lib/python3.13/site-packages/isbnlib/dev/webservice.py\" target=\"_blank\"><span style=\"color: #7f7f7f; text-decoration-color: #7f7f7f\">webservice.py</span></a><span style=\"color: #7f7f7f; text-decoration-color: #7f7f7f\">:</span><a href=\"file:///Users/jdubec/Projects/EvilFlowers/evilflowers-webdav-import/.venv/lib/python3.13/site-packages/isbnlib/dev/webservice.py#62\" target=\"_blank\"><span style=\"color: #7f7f7f; text-decoration-color: #7f7f7f\">62</span></a>\n",
       "<span style=\"color: #7fbfbf; text-decoration-color: #7fbfbf\">           </span>         <span style=\"color: #0000ff; text-decoration-color: #0000ff; text-decoration: underline\">https://en.wikipedia.org/api/rest_v1/data/citation/mediawiki/9788055307664</span>     <span style=\"color: #7f7f7f; text-decoration-color: #7f7f7f\">                </span>\n",
       "<span style=\"color: #7fbfbf; text-decoration-color: #7fbfbf\">           </span>         with code <span style=\"color: #008080; text-decoration-color: #008080; font-weight: bold\">404</span> <span style=\"font-weight: bold\">[</span>Not Found<span style=\"font-weight: bold\">]</span>                                                      <span style=\"color: #7f7f7f; text-decoration-color: #7f7f7f\">                </span>\n",
       "</pre>\n"
      ]
     },
     "metadata": {},
     "output_type": "display_data"
    },
    {
     "data": {
      "text/plain": [
       "\u001B[2;36m[19:55:26]\u001B[0m\u001B[2;36m \u001B[0m\u001B[33mWARNING \u001B[0m DataNotFoundAtServiceError for                                                   \u001B]8;id=156218;file:///Users/jdubec/Projects/EvilFlowers/evilflowers-webdav-import/.venv/lib/python3.13/site-packages/isbnlib/dev/webquery.py\u001B\\\u001B[2mwebquery.py\u001B[0m\u001B]8;;\u001B\\\u001B[2m:\u001B[0m\u001B]8;id=128273;file:///Users/jdubec/Projects/EvilFlowers/evilflowers-webdav-import/.venv/lib/python3.13/site-packages/isbnlib/dev/webquery.py#40\u001B\\\u001B[2m40\u001B[0m\u001B]8;;\u001B\\\n",
       "\u001B[2;36m           \u001B[0m         \u001B[4;94mhttp://openlibrary.org/api/books?\u001B[0m\u001B[4;94mbibkeys\u001B[0m\u001B[4;94m=\u001B[0m\u001B[4;94mISBN\u001B[0m\u001B[4;94m:9788089313051&\u001B[0m\u001B[4;94mformat\u001B[0m\u001B[4;94m=\u001B[0m\u001B[4;94mjson\u001B[0m\u001B[4;94m&\u001B[0m\u001B[4;94mjscmd\u001B[0m\u001B[4;94m=\u001B[0m\u001B[4;94mda\u001B[0m \u001B[2m              \u001B[0m\n",
       "\u001B[2;36m           \u001B[0m         \u001B[4;94mta\u001B[0m                                                                               \u001B[2m              \u001B[0m\n"
      ],
      "text/html": [
       "<pre style=\"white-space:pre;overflow-x:auto;line-height:normal;font-family:Menlo,'DejaVu Sans Mono',consolas,'Courier New',monospace\"><span style=\"color: #7fbfbf; text-decoration-color: #7fbfbf\">[19:55:26] </span><span style=\"color: #808000; text-decoration-color: #808000\">WARNING </span> DataNotFoundAtServiceError for                                                   <a href=\"file:///Users/jdubec/Projects/EvilFlowers/evilflowers-webdav-import/.venv/lib/python3.13/site-packages/isbnlib/dev/webquery.py\" target=\"_blank\"><span style=\"color: #7f7f7f; text-decoration-color: #7f7f7f\">webquery.py</span></a><span style=\"color: #7f7f7f; text-decoration-color: #7f7f7f\">:</span><a href=\"file:///Users/jdubec/Projects/EvilFlowers/evilflowers-webdav-import/.venv/lib/python3.13/site-packages/isbnlib/dev/webquery.py#40\" target=\"_blank\"><span style=\"color: #7f7f7f; text-decoration-color: #7f7f7f\">40</span></a>\n",
       "<span style=\"color: #7fbfbf; text-decoration-color: #7fbfbf\">           </span>         <span style=\"color: #0000ff; text-decoration-color: #0000ff; text-decoration: underline\">http://openlibrary.org/api/books?bibkeys=ISBN:9788089313051&amp;format=json&amp;jscmd=da</span> <span style=\"color: #7f7f7f; text-decoration-color: #7f7f7f\">              </span>\n",
       "<span style=\"color: #7fbfbf; text-decoration-color: #7fbfbf\">           </span>         <span style=\"color: #0000ff; text-decoration-color: #0000ff; text-decoration: underline\">ta</span>                                                                               <span style=\"color: #7f7f7f; text-decoration-color: #7f7f7f\">              </span>\n",
       "</pre>\n"
      ]
     },
     "metadata": {},
     "output_type": "display_data"
    },
    {
     "data": {
      "text/plain": [
       "\u001B[2;36m[19:55:27]\u001B[0m\u001B[2;36m \u001B[0m\u001B[1;7;31mCRITICAL\u001B[0m ISBNLibHTTPError for                                                           \u001B]8;id=282828;file:///Users/jdubec/Projects/EvilFlowers/evilflowers-webdav-import/.venv/lib/python3.13/site-packages/isbnlib/dev/webservice.py\u001B\\\u001B[2mwebservice.py\u001B[0m\u001B]8;;\u001B\\\u001B[2m:\u001B[0m\u001B]8;id=636805;file:///Users/jdubec/Projects/EvilFlowers/evilflowers-webdav-import/.venv/lib/python3.13/site-packages/isbnlib/dev/webservice.py#62\u001B\\\u001B[2m62\u001B[0m\u001B]8;;\u001B\\\n",
       "\u001B[2;36m           \u001B[0m         \u001B[4;94mhttps://en.wikipedia.org/api/rest_v1/data/citation/mediawiki/9788089313051\u001B[0m     \u001B[2m                \u001B[0m\n",
       "\u001B[2;36m           \u001B[0m         with code \u001B[1;36m404\u001B[0m \u001B[1m[\u001B[0mNot Found\u001B[1m]\u001B[0m                                                      \u001B[2m                \u001B[0m\n"
      ],
      "text/html": [
       "<pre style=\"white-space:pre;overflow-x:auto;line-height:normal;font-family:Menlo,'DejaVu Sans Mono',consolas,'Courier New',monospace\"><span style=\"color: #7fbfbf; text-decoration-color: #7fbfbf\">[19:55:27] </span><span style=\"background-color: #800000; font-weight: bold\">CRITICAL</span> ISBNLibHTTPError for                                                           <a href=\"file:///Users/jdubec/Projects/EvilFlowers/evilflowers-webdav-import/.venv/lib/python3.13/site-packages/isbnlib/dev/webservice.py\" target=\"_blank\"><span style=\"color: #7f7f7f; text-decoration-color: #7f7f7f\">webservice.py</span></a><span style=\"color: #7f7f7f; text-decoration-color: #7f7f7f\">:</span><a href=\"file:///Users/jdubec/Projects/EvilFlowers/evilflowers-webdav-import/.venv/lib/python3.13/site-packages/isbnlib/dev/webservice.py#62\" target=\"_blank\"><span style=\"color: #7f7f7f; text-decoration-color: #7f7f7f\">62</span></a>\n",
       "<span style=\"color: #7fbfbf; text-decoration-color: #7fbfbf\">           </span>         <span style=\"color: #0000ff; text-decoration-color: #0000ff; text-decoration: underline\">https://en.wikipedia.org/api/rest_v1/data/citation/mediawiki/9788089313051</span>     <span style=\"color: #7f7f7f; text-decoration-color: #7f7f7f\">                </span>\n",
       "<span style=\"color: #7fbfbf; text-decoration-color: #7fbfbf\">           </span>         with code <span style=\"color: #008080; text-decoration-color: #008080; font-weight: bold\">404</span> <span style=\"font-weight: bold\">[</span>Not Found<span style=\"font-weight: bold\">]</span>                                                      <span style=\"color: #7f7f7f; text-decoration-color: #7f7f7f\">                </span>\n",
       "</pre>\n"
      ]
     },
     "metadata": {},
     "output_type": "display_data"
    },
    {
     "data": {
      "text/plain": [
       "\u001B[2;36m[19:55:29]\u001B[0m\u001B[2;36m \u001B[0m\u001B[33mWARNING \u001B[0m DataNotFoundAtServiceError for                                                   \u001B]8;id=266970;file:///Users/jdubec/Projects/EvilFlowers/evilflowers-webdav-import/.venv/lib/python3.13/site-packages/isbnlib/dev/webquery.py\u001B\\\u001B[2mwebquery.py\u001B[0m\u001B]8;;\u001B\\\u001B[2m:\u001B[0m\u001B]8;id=766299;file:///Users/jdubec/Projects/EvilFlowers/evilflowers-webdav-import/.venv/lib/python3.13/site-packages/isbnlib/dev/webquery.py#40\u001B\\\u001B[2m40\u001B[0m\u001B]8;;\u001B\\\n",
       "\u001B[2;36m           \u001B[0m         \u001B[4;94mhttp://openlibrary.org/api/books?\u001B[0m\u001B[4;94mbibkeys\u001B[0m\u001B[4;94m=\u001B[0m\u001B[4;94mISBN\u001B[0m\u001B[4;94m:9788055313368&\u001B[0m\u001B[4;94mformat\u001B[0m\u001B[4;94m=\u001B[0m\u001B[4;94mjson\u001B[0m\u001B[4;94m&\u001B[0m\u001B[4;94mjscmd\u001B[0m\u001B[4;94m=\u001B[0m\u001B[4;94mda\u001B[0m \u001B[2m              \u001B[0m\n",
       "\u001B[2;36m           \u001B[0m         \u001B[4;94mta\u001B[0m                                                                               \u001B[2m              \u001B[0m\n"
      ],
      "text/html": [
       "<pre style=\"white-space:pre;overflow-x:auto;line-height:normal;font-family:Menlo,'DejaVu Sans Mono',consolas,'Courier New',monospace\"><span style=\"color: #7fbfbf; text-decoration-color: #7fbfbf\">[19:55:29] </span><span style=\"color: #808000; text-decoration-color: #808000\">WARNING </span> DataNotFoundAtServiceError for                                                   <a href=\"file:///Users/jdubec/Projects/EvilFlowers/evilflowers-webdav-import/.venv/lib/python3.13/site-packages/isbnlib/dev/webquery.py\" target=\"_blank\"><span style=\"color: #7f7f7f; text-decoration-color: #7f7f7f\">webquery.py</span></a><span style=\"color: #7f7f7f; text-decoration-color: #7f7f7f\">:</span><a href=\"file:///Users/jdubec/Projects/EvilFlowers/evilflowers-webdav-import/.venv/lib/python3.13/site-packages/isbnlib/dev/webquery.py#40\" target=\"_blank\"><span style=\"color: #7f7f7f; text-decoration-color: #7f7f7f\">40</span></a>\n",
       "<span style=\"color: #7fbfbf; text-decoration-color: #7fbfbf\">           </span>         <span style=\"color: #0000ff; text-decoration-color: #0000ff; text-decoration: underline\">http://openlibrary.org/api/books?bibkeys=ISBN:9788055313368&amp;format=json&amp;jscmd=da</span> <span style=\"color: #7f7f7f; text-decoration-color: #7f7f7f\">              </span>\n",
       "<span style=\"color: #7fbfbf; text-decoration-color: #7fbfbf\">           </span>         <span style=\"color: #0000ff; text-decoration-color: #0000ff; text-decoration: underline\">ta</span>                                                                               <span style=\"color: #7f7f7f; text-decoration-color: #7f7f7f\">              </span>\n",
       "</pre>\n"
      ]
     },
     "metadata": {},
     "output_type": "display_data"
    },
    {
     "data": {
      "text/plain": [
       "\u001B[2;36m[19:55:31]\u001B[0m\u001B[2;36m \u001B[0m\u001B[1;7;31mCRITICAL\u001B[0m ISBNLibHTTPError for                                                           \u001B]8;id=873367;file:///Users/jdubec/Projects/EvilFlowers/evilflowers-webdav-import/.venv/lib/python3.13/site-packages/isbnlib/dev/webservice.py\u001B\\\u001B[2mwebservice.py\u001B[0m\u001B]8;;\u001B\\\u001B[2m:\u001B[0m\u001B]8;id=303865;file:///Users/jdubec/Projects/EvilFlowers/evilflowers-webdav-import/.venv/lib/python3.13/site-packages/isbnlib/dev/webservice.py#62\u001B\\\u001B[2m62\u001B[0m\u001B]8;;\u001B\\\n",
       "\u001B[2;36m           \u001B[0m         \u001B[4;94mhttps://en.wikipedia.org/api/rest_v1/data/citation/mediawiki/9788055313368\u001B[0m     \u001B[2m                \u001B[0m\n",
       "\u001B[2;36m           \u001B[0m         with code \u001B[1;36m404\u001B[0m \u001B[1m[\u001B[0mNot Found\u001B[1m]\u001B[0m                                                      \u001B[2m                \u001B[0m\n"
      ],
      "text/html": [
       "<pre style=\"white-space:pre;overflow-x:auto;line-height:normal;font-family:Menlo,'DejaVu Sans Mono',consolas,'Courier New',monospace\"><span style=\"color: #7fbfbf; text-decoration-color: #7fbfbf\">[19:55:31] </span><span style=\"background-color: #800000; font-weight: bold\">CRITICAL</span> ISBNLibHTTPError for                                                           <a href=\"file:///Users/jdubec/Projects/EvilFlowers/evilflowers-webdav-import/.venv/lib/python3.13/site-packages/isbnlib/dev/webservice.py\" target=\"_blank\"><span style=\"color: #7f7f7f; text-decoration-color: #7f7f7f\">webservice.py</span></a><span style=\"color: #7f7f7f; text-decoration-color: #7f7f7f\">:</span><a href=\"file:///Users/jdubec/Projects/EvilFlowers/evilflowers-webdav-import/.venv/lib/python3.13/site-packages/isbnlib/dev/webservice.py#62\" target=\"_blank\"><span style=\"color: #7f7f7f; text-decoration-color: #7f7f7f\">62</span></a>\n",
       "<span style=\"color: #7fbfbf; text-decoration-color: #7fbfbf\">           </span>         <span style=\"color: #0000ff; text-decoration-color: #0000ff; text-decoration: underline\">https://en.wikipedia.org/api/rest_v1/data/citation/mediawiki/9788055313368</span>     <span style=\"color: #7f7f7f; text-decoration-color: #7f7f7f\">                </span>\n",
       "<span style=\"color: #7fbfbf; text-decoration-color: #7fbfbf\">           </span>         with code <span style=\"color: #008080; text-decoration-color: #008080; font-weight: bold\">404</span> <span style=\"font-weight: bold\">[</span>Not Found<span style=\"font-weight: bold\">]</span>                                                      <span style=\"color: #7f7f7f; text-decoration-color: #7f7f7f\">                </span>\n",
       "</pre>\n"
      ]
     },
     "metadata": {},
     "output_type": "display_data"
    },
    {
     "data": {
      "text/plain": [
       "\u001B[2;36m[19:55:37]\u001B[0m\u001B[2;36m \u001B[0m\u001B[33mWARNING \u001B[0m DataNotFoundAtServiceError for                                                   \u001B]8;id=460764;file:///Users/jdubec/Projects/EvilFlowers/evilflowers-webdav-import/.venv/lib/python3.13/site-packages/isbnlib/dev/webquery.py\u001B\\\u001B[2mwebquery.py\u001B[0m\u001B]8;;\u001B\\\u001B[2m:\u001B[0m\u001B]8;id=296902;file:///Users/jdubec/Projects/EvilFlowers/evilflowers-webdav-import/.venv/lib/python3.13/site-packages/isbnlib/dev/webquery.py#40\u001B\\\u001B[2m40\u001B[0m\u001B]8;;\u001B\\\n",
       "\u001B[2;36m           \u001B[0m         \u001B[4;94mhttp://openlibrary.org/api/books?\u001B[0m\u001B[4;94mbibkeys\u001B[0m\u001B[4;94m=\u001B[0m\u001B[4;94mISBN\u001B[0m\u001B[4;94m:9788089313433&\u001B[0m\u001B[4;94mformat\u001B[0m\u001B[4;94m=\u001B[0m\u001B[4;94mjson\u001B[0m\u001B[4;94m&\u001B[0m\u001B[4;94mjscmd\u001B[0m\u001B[4;94m=\u001B[0m\u001B[4;94mda\u001B[0m \u001B[2m              \u001B[0m\n",
       "\u001B[2;36m           \u001B[0m         \u001B[4;94mta\u001B[0m                                                                               \u001B[2m              \u001B[0m\n"
      ],
      "text/html": [
       "<pre style=\"white-space:pre;overflow-x:auto;line-height:normal;font-family:Menlo,'DejaVu Sans Mono',consolas,'Courier New',monospace\"><span style=\"color: #7fbfbf; text-decoration-color: #7fbfbf\">[19:55:37] </span><span style=\"color: #808000; text-decoration-color: #808000\">WARNING </span> DataNotFoundAtServiceError for                                                   <a href=\"file:///Users/jdubec/Projects/EvilFlowers/evilflowers-webdav-import/.venv/lib/python3.13/site-packages/isbnlib/dev/webquery.py\" target=\"_blank\"><span style=\"color: #7f7f7f; text-decoration-color: #7f7f7f\">webquery.py</span></a><span style=\"color: #7f7f7f; text-decoration-color: #7f7f7f\">:</span><a href=\"file:///Users/jdubec/Projects/EvilFlowers/evilflowers-webdav-import/.venv/lib/python3.13/site-packages/isbnlib/dev/webquery.py#40\" target=\"_blank\"><span style=\"color: #7f7f7f; text-decoration-color: #7f7f7f\">40</span></a>\n",
       "<span style=\"color: #7fbfbf; text-decoration-color: #7fbfbf\">           </span>         <span style=\"color: #0000ff; text-decoration-color: #0000ff; text-decoration: underline\">http://openlibrary.org/api/books?bibkeys=ISBN:9788089313433&amp;format=json&amp;jscmd=da</span> <span style=\"color: #7f7f7f; text-decoration-color: #7f7f7f\">              </span>\n",
       "<span style=\"color: #7fbfbf; text-decoration-color: #7fbfbf\">           </span>         <span style=\"color: #0000ff; text-decoration-color: #0000ff; text-decoration: underline\">ta</span>                                                                               <span style=\"color: #7f7f7f; text-decoration-color: #7f7f7f\">              </span>\n",
       "</pre>\n"
      ]
     },
     "metadata": {},
     "output_type": "display_data"
    },
    {
     "data": {
      "text/plain": [
       "\u001B[2;36m[19:55:38]\u001B[0m\u001B[2;36m \u001B[0m\u001B[1;7;31mCRITICAL\u001B[0m ISBNLibHTTPError for                                                           \u001B]8;id=561730;file:///Users/jdubec/Projects/EvilFlowers/evilflowers-webdav-import/.venv/lib/python3.13/site-packages/isbnlib/dev/webservice.py\u001B\\\u001B[2mwebservice.py\u001B[0m\u001B]8;;\u001B\\\u001B[2m:\u001B[0m\u001B]8;id=255135;file:///Users/jdubec/Projects/EvilFlowers/evilflowers-webdav-import/.venv/lib/python3.13/site-packages/isbnlib/dev/webservice.py#62\u001B\\\u001B[2m62\u001B[0m\u001B]8;;\u001B\\\n",
       "\u001B[2;36m           \u001B[0m         \u001B[4;94mhttps://en.wikipedia.org/api/rest_v1/data/citation/mediawiki/9788089313433\u001B[0m     \u001B[2m                \u001B[0m\n",
       "\u001B[2;36m           \u001B[0m         with code \u001B[1;36m404\u001B[0m \u001B[1m[\u001B[0mNot Found\u001B[1m]\u001B[0m                                                      \u001B[2m                \u001B[0m\n"
      ],
      "text/html": [
       "<pre style=\"white-space:pre;overflow-x:auto;line-height:normal;font-family:Menlo,'DejaVu Sans Mono',consolas,'Courier New',monospace\"><span style=\"color: #7fbfbf; text-decoration-color: #7fbfbf\">[19:55:38] </span><span style=\"background-color: #800000; font-weight: bold\">CRITICAL</span> ISBNLibHTTPError for                                                           <a href=\"file:///Users/jdubec/Projects/EvilFlowers/evilflowers-webdav-import/.venv/lib/python3.13/site-packages/isbnlib/dev/webservice.py\" target=\"_blank\"><span style=\"color: #7f7f7f; text-decoration-color: #7f7f7f\">webservice.py</span></a><span style=\"color: #7f7f7f; text-decoration-color: #7f7f7f\">:</span><a href=\"file:///Users/jdubec/Projects/EvilFlowers/evilflowers-webdav-import/.venv/lib/python3.13/site-packages/isbnlib/dev/webservice.py#62\" target=\"_blank\"><span style=\"color: #7f7f7f; text-decoration-color: #7f7f7f\">62</span></a>\n",
       "<span style=\"color: #7fbfbf; text-decoration-color: #7fbfbf\">           </span>         <span style=\"color: #0000ff; text-decoration-color: #0000ff; text-decoration: underline\">https://en.wikipedia.org/api/rest_v1/data/citation/mediawiki/9788089313433</span>     <span style=\"color: #7f7f7f; text-decoration-color: #7f7f7f\">                </span>\n",
       "<span style=\"color: #7fbfbf; text-decoration-color: #7fbfbf\">           </span>         with code <span style=\"color: #008080; text-decoration-color: #008080; font-weight: bold\">404</span> <span style=\"font-weight: bold\">[</span>Not Found<span style=\"font-weight: bold\">]</span>                                                      <span style=\"color: #7f7f7f; text-decoration-color: #7f7f7f\">                </span>\n",
       "</pre>\n"
      ]
     },
     "metadata": {},
     "output_type": "display_data"
    },
    {
     "data": {
      "text/plain": [
       "\u001B[2;36m[19:55:41]\u001B[0m\u001B[2;36m \u001B[0m\u001B[33mWARNING \u001B[0m DataNotFoundAtServiceError for                                                   \u001B]8;id=206139;file:///Users/jdubec/Projects/EvilFlowers/evilflowers-webdav-import/.venv/lib/python3.13/site-packages/isbnlib/dev/webquery.py\u001B\\\u001B[2mwebquery.py\u001B[0m\u001B]8;;\u001B\\\u001B[2m:\u001B[0m\u001B]8;id=268394;file:///Users/jdubec/Projects/EvilFlowers/evilflowers-webdav-import/.venv/lib/python3.13/site-packages/isbnlib/dev/webquery.py#40\u001B\\\u001B[2m40\u001B[0m\u001B]8;;\u001B\\\n",
       "\u001B[2;36m           \u001B[0m         \u001B[4;94mhttp://openlibrary.org/api/books?\u001B[0m\u001B[4;94mbibkeys\u001B[0m\u001B[4;94m=\u001B[0m\u001B[4;94mISBN\u001B[0m\u001B[4;94m:9788089313372&\u001B[0m\u001B[4;94mformat\u001B[0m\u001B[4;94m=\u001B[0m\u001B[4;94mjson\u001B[0m\u001B[4;94m&\u001B[0m\u001B[4;94mjscmd\u001B[0m\u001B[4;94m=\u001B[0m\u001B[4;94mda\u001B[0m \u001B[2m              \u001B[0m\n",
       "\u001B[2;36m           \u001B[0m         \u001B[4;94mta\u001B[0m                                                                               \u001B[2m              \u001B[0m\n"
      ],
      "text/html": [
       "<pre style=\"white-space:pre;overflow-x:auto;line-height:normal;font-family:Menlo,'DejaVu Sans Mono',consolas,'Courier New',monospace\"><span style=\"color: #7fbfbf; text-decoration-color: #7fbfbf\">[19:55:41] </span><span style=\"color: #808000; text-decoration-color: #808000\">WARNING </span> DataNotFoundAtServiceError for                                                   <a href=\"file:///Users/jdubec/Projects/EvilFlowers/evilflowers-webdav-import/.venv/lib/python3.13/site-packages/isbnlib/dev/webquery.py\" target=\"_blank\"><span style=\"color: #7f7f7f; text-decoration-color: #7f7f7f\">webquery.py</span></a><span style=\"color: #7f7f7f; text-decoration-color: #7f7f7f\">:</span><a href=\"file:///Users/jdubec/Projects/EvilFlowers/evilflowers-webdav-import/.venv/lib/python3.13/site-packages/isbnlib/dev/webquery.py#40\" target=\"_blank\"><span style=\"color: #7f7f7f; text-decoration-color: #7f7f7f\">40</span></a>\n",
       "<span style=\"color: #7fbfbf; text-decoration-color: #7fbfbf\">           </span>         <span style=\"color: #0000ff; text-decoration-color: #0000ff; text-decoration: underline\">http://openlibrary.org/api/books?bibkeys=ISBN:9788089313372&amp;format=json&amp;jscmd=da</span> <span style=\"color: #7f7f7f; text-decoration-color: #7f7f7f\">              </span>\n",
       "<span style=\"color: #7fbfbf; text-decoration-color: #7fbfbf\">           </span>         <span style=\"color: #0000ff; text-decoration-color: #0000ff; text-decoration: underline\">ta</span>                                                                               <span style=\"color: #7f7f7f; text-decoration-color: #7f7f7f\">              </span>\n",
       "</pre>\n"
      ]
     },
     "metadata": {},
     "output_type": "display_data"
    },
    {
     "data": {
      "text/plain": [
       "\u001B[2;36m[19:55:42]\u001B[0m\u001B[2;36m \u001B[0m\u001B[1;7;31mCRITICAL\u001B[0m ISBNLibHTTPError for                                                           \u001B]8;id=450668;file:///Users/jdubec/Projects/EvilFlowers/evilflowers-webdav-import/.venv/lib/python3.13/site-packages/isbnlib/dev/webservice.py\u001B\\\u001B[2mwebservice.py\u001B[0m\u001B]8;;\u001B\\\u001B[2m:\u001B[0m\u001B]8;id=78329;file:///Users/jdubec/Projects/EvilFlowers/evilflowers-webdav-import/.venv/lib/python3.13/site-packages/isbnlib/dev/webservice.py#62\u001B\\\u001B[2m62\u001B[0m\u001B]8;;\u001B\\\n",
       "\u001B[2;36m           \u001B[0m         \u001B[4;94mhttps://en.wikipedia.org/api/rest_v1/data/citation/mediawiki/9788089313372\u001B[0m     \u001B[2m                \u001B[0m\n",
       "\u001B[2;36m           \u001B[0m         with code \u001B[1;36m404\u001B[0m \u001B[1m[\u001B[0mNot Found\u001B[1m]\u001B[0m                                                      \u001B[2m                \u001B[0m\n"
      ],
      "text/html": [
       "<pre style=\"white-space:pre;overflow-x:auto;line-height:normal;font-family:Menlo,'DejaVu Sans Mono',consolas,'Courier New',monospace\"><span style=\"color: #7fbfbf; text-decoration-color: #7fbfbf\">[19:55:42] </span><span style=\"background-color: #800000; font-weight: bold\">CRITICAL</span> ISBNLibHTTPError for                                                           <a href=\"file:///Users/jdubec/Projects/EvilFlowers/evilflowers-webdav-import/.venv/lib/python3.13/site-packages/isbnlib/dev/webservice.py\" target=\"_blank\"><span style=\"color: #7f7f7f; text-decoration-color: #7f7f7f\">webservice.py</span></a><span style=\"color: #7f7f7f; text-decoration-color: #7f7f7f\">:</span><a href=\"file:///Users/jdubec/Projects/EvilFlowers/evilflowers-webdav-import/.venv/lib/python3.13/site-packages/isbnlib/dev/webservice.py#62\" target=\"_blank\"><span style=\"color: #7f7f7f; text-decoration-color: #7f7f7f\">62</span></a>\n",
       "<span style=\"color: #7fbfbf; text-decoration-color: #7fbfbf\">           </span>         <span style=\"color: #0000ff; text-decoration-color: #0000ff; text-decoration: underline\">https://en.wikipedia.org/api/rest_v1/data/citation/mediawiki/9788089313372</span>     <span style=\"color: #7f7f7f; text-decoration-color: #7f7f7f\">                </span>\n",
       "<span style=\"color: #7fbfbf; text-decoration-color: #7fbfbf\">           </span>         with code <span style=\"color: #008080; text-decoration-color: #008080; font-weight: bold\">404</span> <span style=\"font-weight: bold\">[</span>Not Found<span style=\"font-weight: bold\">]</span>                                                      <span style=\"color: #7f7f7f; text-decoration-color: #7f7f7f\">                </span>\n",
       "</pre>\n"
      ]
     },
     "metadata": {},
     "output_type": "display_data"
    },
    {
     "data": {
      "text/plain": [
       "\u001B[2;36m[19:55:44]\u001B[0m\u001B[2;36m \u001B[0m\u001B[33mWARNING \u001B[0m DataNotFoundAtServiceError for                                                   \u001B]8;id=202004;file:///Users/jdubec/Projects/EvilFlowers/evilflowers-webdav-import/.venv/lib/python3.13/site-packages/isbnlib/dev/webquery.py\u001B\\\u001B[2mwebquery.py\u001B[0m\u001B]8;;\u001B\\\u001B[2m:\u001B[0m\u001B]8;id=439602;file:///Users/jdubec/Projects/EvilFlowers/evilflowers-webdav-import/.venv/lib/python3.13/site-packages/isbnlib/dev/webquery.py#40\u001B\\\u001B[2m40\u001B[0m\u001B]8;;\u001B\\\n",
       "\u001B[2;36m           \u001B[0m         \u001B[4;94mhttp://openlibrary.org/api/books?\u001B[0m\u001B[4;94mbibkeys\u001B[0m\u001B[4;94m=\u001B[0m\u001B[4;94mISBN\u001B[0m\u001B[4;94m:9788081060700&\u001B[0m\u001B[4;94mformat\u001B[0m\u001B[4;94m=\u001B[0m\u001B[4;94mjson\u001B[0m\u001B[4;94m&\u001B[0m\u001B[4;94mjscmd\u001B[0m\u001B[4;94m=\u001B[0m\u001B[4;94mda\u001B[0m \u001B[2m              \u001B[0m\n",
       "\u001B[2;36m           \u001B[0m         \u001B[4;94mta\u001B[0m                                                                               \u001B[2m              \u001B[0m\n"
      ],
      "text/html": [
       "<pre style=\"white-space:pre;overflow-x:auto;line-height:normal;font-family:Menlo,'DejaVu Sans Mono',consolas,'Courier New',monospace\"><span style=\"color: #7fbfbf; text-decoration-color: #7fbfbf\">[19:55:44] </span><span style=\"color: #808000; text-decoration-color: #808000\">WARNING </span> DataNotFoundAtServiceError for                                                   <a href=\"file:///Users/jdubec/Projects/EvilFlowers/evilflowers-webdav-import/.venv/lib/python3.13/site-packages/isbnlib/dev/webquery.py\" target=\"_blank\"><span style=\"color: #7f7f7f; text-decoration-color: #7f7f7f\">webquery.py</span></a><span style=\"color: #7f7f7f; text-decoration-color: #7f7f7f\">:</span><a href=\"file:///Users/jdubec/Projects/EvilFlowers/evilflowers-webdav-import/.venv/lib/python3.13/site-packages/isbnlib/dev/webquery.py#40\" target=\"_blank\"><span style=\"color: #7f7f7f; text-decoration-color: #7f7f7f\">40</span></a>\n",
       "<span style=\"color: #7fbfbf; text-decoration-color: #7fbfbf\">           </span>         <span style=\"color: #0000ff; text-decoration-color: #0000ff; text-decoration: underline\">http://openlibrary.org/api/books?bibkeys=ISBN:9788081060700&amp;format=json&amp;jscmd=da</span> <span style=\"color: #7f7f7f; text-decoration-color: #7f7f7f\">              </span>\n",
       "<span style=\"color: #7fbfbf; text-decoration-color: #7fbfbf\">           </span>         <span style=\"color: #0000ff; text-decoration-color: #0000ff; text-decoration: underline\">ta</span>                                                                               <span style=\"color: #7f7f7f; text-decoration-color: #7f7f7f\">              </span>\n",
       "</pre>\n"
      ]
     },
     "metadata": {},
     "output_type": "display_data"
    },
    {
     "data": {
      "text/plain": [
       "\u001B[2;36m[19:55:46]\u001B[0m\u001B[2;36m \u001B[0m\u001B[1;7;31mCRITICAL\u001B[0m ISBNLibHTTPError for                                                           \u001B]8;id=919787;file:///Users/jdubec/Projects/EvilFlowers/evilflowers-webdav-import/.venv/lib/python3.13/site-packages/isbnlib/dev/webservice.py\u001B\\\u001B[2mwebservice.py\u001B[0m\u001B]8;;\u001B\\\u001B[2m:\u001B[0m\u001B]8;id=518601;file:///Users/jdubec/Projects/EvilFlowers/evilflowers-webdav-import/.venv/lib/python3.13/site-packages/isbnlib/dev/webservice.py#62\u001B\\\u001B[2m62\u001B[0m\u001B]8;;\u001B\\\n",
       "\u001B[2;36m           \u001B[0m         \u001B[4;94mhttps://en.wikipedia.org/api/rest_v1/data/citation/mediawiki/9788081060700\u001B[0m     \u001B[2m                \u001B[0m\n",
       "\u001B[2;36m           \u001B[0m         with code \u001B[1;36m404\u001B[0m \u001B[1m[\u001B[0mNot Found\u001B[1m]\u001B[0m                                                      \u001B[2m                \u001B[0m\n"
      ],
      "text/html": [
       "<pre style=\"white-space:pre;overflow-x:auto;line-height:normal;font-family:Menlo,'DejaVu Sans Mono',consolas,'Courier New',monospace\"><span style=\"color: #7fbfbf; text-decoration-color: #7fbfbf\">[19:55:46] </span><span style=\"background-color: #800000; font-weight: bold\">CRITICAL</span> ISBNLibHTTPError for                                                           <a href=\"file:///Users/jdubec/Projects/EvilFlowers/evilflowers-webdav-import/.venv/lib/python3.13/site-packages/isbnlib/dev/webservice.py\" target=\"_blank\"><span style=\"color: #7f7f7f; text-decoration-color: #7f7f7f\">webservice.py</span></a><span style=\"color: #7f7f7f; text-decoration-color: #7f7f7f\">:</span><a href=\"file:///Users/jdubec/Projects/EvilFlowers/evilflowers-webdav-import/.venv/lib/python3.13/site-packages/isbnlib/dev/webservice.py#62\" target=\"_blank\"><span style=\"color: #7f7f7f; text-decoration-color: #7f7f7f\">62</span></a>\n",
       "<span style=\"color: #7fbfbf; text-decoration-color: #7fbfbf\">           </span>         <span style=\"color: #0000ff; text-decoration-color: #0000ff; text-decoration: underline\">https://en.wikipedia.org/api/rest_v1/data/citation/mediawiki/9788081060700</span>     <span style=\"color: #7f7f7f; text-decoration-color: #7f7f7f\">                </span>\n",
       "<span style=\"color: #7fbfbf; text-decoration-color: #7fbfbf\">           </span>         with code <span style=\"color: #008080; text-decoration-color: #008080; font-weight: bold\">404</span> <span style=\"font-weight: bold\">[</span>Not Found<span style=\"font-weight: bold\">]</span>                                                      <span style=\"color: #7f7f7f; text-decoration-color: #7f7f7f\">                </span>\n",
       "</pre>\n"
      ]
     },
     "metadata": {},
     "output_type": "display_data"
    },
    {
     "data": {
      "text/plain": [
       "\u001B[2;36m[19:55:48]\u001B[0m\u001B[2;36m \u001B[0m\u001B[33mWARNING \u001B[0m DataNotFoundAtServiceError for                                                   \u001B]8;id=313929;file:///Users/jdubec/Projects/EvilFlowers/evilflowers-webdav-import/.venv/lib/python3.13/site-packages/isbnlib/dev/webquery.py\u001B\\\u001B[2mwebquery.py\u001B[0m\u001B]8;;\u001B\\\u001B[2m:\u001B[0m\u001B]8;id=912889;file:///Users/jdubec/Projects/EvilFlowers/evilflowers-webdav-import/.venv/lib/python3.13/site-packages/isbnlib/dev/webquery.py#40\u001B\\\u001B[2m40\u001B[0m\u001B]8;;\u001B\\\n",
       "\u001B[2;36m           \u001B[0m         \u001B[4;94mhttp://openlibrary.org/api/books?\u001B[0m\u001B[4;94mbibkeys\u001B[0m\u001B[4;94m=\u001B[0m\u001B[4;94mISBN\u001B[0m\u001B[4;94m:9788089313013&\u001B[0m\u001B[4;94mformat\u001B[0m\u001B[4;94m=\u001B[0m\u001B[4;94mjson\u001B[0m\u001B[4;94m&\u001B[0m\u001B[4;94mjscmd\u001B[0m\u001B[4;94m=\u001B[0m\u001B[4;94mda\u001B[0m \u001B[2m              \u001B[0m\n",
       "\u001B[2;36m           \u001B[0m         \u001B[4;94mta\u001B[0m                                                                               \u001B[2m              \u001B[0m\n"
      ],
      "text/html": [
       "<pre style=\"white-space:pre;overflow-x:auto;line-height:normal;font-family:Menlo,'DejaVu Sans Mono',consolas,'Courier New',monospace\"><span style=\"color: #7fbfbf; text-decoration-color: #7fbfbf\">[19:55:48] </span><span style=\"color: #808000; text-decoration-color: #808000\">WARNING </span> DataNotFoundAtServiceError for                                                   <a href=\"file:///Users/jdubec/Projects/EvilFlowers/evilflowers-webdav-import/.venv/lib/python3.13/site-packages/isbnlib/dev/webquery.py\" target=\"_blank\"><span style=\"color: #7f7f7f; text-decoration-color: #7f7f7f\">webquery.py</span></a><span style=\"color: #7f7f7f; text-decoration-color: #7f7f7f\">:</span><a href=\"file:///Users/jdubec/Projects/EvilFlowers/evilflowers-webdav-import/.venv/lib/python3.13/site-packages/isbnlib/dev/webquery.py#40\" target=\"_blank\"><span style=\"color: #7f7f7f; text-decoration-color: #7f7f7f\">40</span></a>\n",
       "<span style=\"color: #7fbfbf; text-decoration-color: #7fbfbf\">           </span>         <span style=\"color: #0000ff; text-decoration-color: #0000ff; text-decoration: underline\">http://openlibrary.org/api/books?bibkeys=ISBN:9788089313013&amp;format=json&amp;jscmd=da</span> <span style=\"color: #7f7f7f; text-decoration-color: #7f7f7f\">              </span>\n",
       "<span style=\"color: #7fbfbf; text-decoration-color: #7fbfbf\">           </span>         <span style=\"color: #0000ff; text-decoration-color: #0000ff; text-decoration: underline\">ta</span>                                                                               <span style=\"color: #7f7f7f; text-decoration-color: #7f7f7f\">              </span>\n",
       "</pre>\n"
      ]
     },
     "metadata": {},
     "output_type": "display_data"
    },
    {
     "data": {
      "text/plain": [
       "\u001B[2;36m[19:55:49]\u001B[0m\u001B[2;36m \u001B[0m\u001B[1;7;31mCRITICAL\u001B[0m ISBNLibHTTPError for                                                           \u001B]8;id=124397;file:///Users/jdubec/Projects/EvilFlowers/evilflowers-webdav-import/.venv/lib/python3.13/site-packages/isbnlib/dev/webservice.py\u001B\\\u001B[2mwebservice.py\u001B[0m\u001B]8;;\u001B\\\u001B[2m:\u001B[0m\u001B]8;id=263861;file:///Users/jdubec/Projects/EvilFlowers/evilflowers-webdav-import/.venv/lib/python3.13/site-packages/isbnlib/dev/webservice.py#62\u001B\\\u001B[2m62\u001B[0m\u001B]8;;\u001B\\\n",
       "\u001B[2;36m           \u001B[0m         \u001B[4;94mhttps://en.wikipedia.org/api/rest_v1/data/citation/mediawiki/9788089313013\u001B[0m     \u001B[2m                \u001B[0m\n",
       "\u001B[2;36m           \u001B[0m         with code \u001B[1;36m404\u001B[0m \u001B[1m[\u001B[0mNot Found\u001B[1m]\u001B[0m                                                      \u001B[2m                \u001B[0m\n"
      ],
      "text/html": [
       "<pre style=\"white-space:pre;overflow-x:auto;line-height:normal;font-family:Menlo,'DejaVu Sans Mono',consolas,'Courier New',monospace\"><span style=\"color: #7fbfbf; text-decoration-color: #7fbfbf\">[19:55:49] </span><span style=\"background-color: #800000; font-weight: bold\">CRITICAL</span> ISBNLibHTTPError for                                                           <a href=\"file:///Users/jdubec/Projects/EvilFlowers/evilflowers-webdav-import/.venv/lib/python3.13/site-packages/isbnlib/dev/webservice.py\" target=\"_blank\"><span style=\"color: #7f7f7f; text-decoration-color: #7f7f7f\">webservice.py</span></a><span style=\"color: #7f7f7f; text-decoration-color: #7f7f7f\">:</span><a href=\"file:///Users/jdubec/Projects/EvilFlowers/evilflowers-webdav-import/.venv/lib/python3.13/site-packages/isbnlib/dev/webservice.py#62\" target=\"_blank\"><span style=\"color: #7f7f7f; text-decoration-color: #7f7f7f\">62</span></a>\n",
       "<span style=\"color: #7fbfbf; text-decoration-color: #7fbfbf\">           </span>         <span style=\"color: #0000ff; text-decoration-color: #0000ff; text-decoration: underline\">https://en.wikipedia.org/api/rest_v1/data/citation/mediawiki/9788089313013</span>     <span style=\"color: #7f7f7f; text-decoration-color: #7f7f7f\">                </span>\n",
       "<span style=\"color: #7fbfbf; text-decoration-color: #7fbfbf\">           </span>         with code <span style=\"color: #008080; text-decoration-color: #008080; font-weight: bold\">404</span> <span style=\"font-weight: bold\">[</span>Not Found<span style=\"font-weight: bold\">]</span>                                                      <span style=\"color: #7f7f7f; text-decoration-color: #7f7f7f\">                </span>\n",
       "</pre>\n"
      ]
     },
     "metadata": {},
     "output_type": "display_data"
    },
    {
     "data": {
      "text/plain": [
       "\u001B[2;36m[19:55:51]\u001B[0m\u001B[2;36m \u001B[0m\u001B[33mWARNING \u001B[0m DataNotFoundAtServiceError for                                                   \u001B]8;id=778438;file:///Users/jdubec/Projects/EvilFlowers/evilflowers-webdav-import/.venv/lib/python3.13/site-packages/isbnlib/dev/webquery.py\u001B\\\u001B[2mwebquery.py\u001B[0m\u001B]8;;\u001B\\\u001B[2m:\u001B[0m\u001B]8;id=611730;file:///Users/jdubec/Projects/EvilFlowers/evilflowers-webdav-import/.venv/lib/python3.13/site-packages/isbnlib/dev/webquery.py#40\u001B\\\u001B[2m40\u001B[0m\u001B]8;;\u001B\\\n",
       "\u001B[2;36m           \u001B[0m         \u001B[4;94mhttp://openlibrary.org/api/books?\u001B[0m\u001B[4;94mbibkeys\u001B[0m\u001B[4;94m=\u001B[0m\u001B[4;94mISBN\u001B[0m\u001B[4;94m:9788089313358&\u001B[0m\u001B[4;94mformat\u001B[0m\u001B[4;94m=\u001B[0m\u001B[4;94mjson\u001B[0m\u001B[4;94m&\u001B[0m\u001B[4;94mjscmd\u001B[0m\u001B[4;94m=\u001B[0m\u001B[4;94mda\u001B[0m \u001B[2m              \u001B[0m\n",
       "\u001B[2;36m           \u001B[0m         \u001B[4;94mta\u001B[0m                                                                               \u001B[2m              \u001B[0m\n"
      ],
      "text/html": [
       "<pre style=\"white-space:pre;overflow-x:auto;line-height:normal;font-family:Menlo,'DejaVu Sans Mono',consolas,'Courier New',monospace\"><span style=\"color: #7fbfbf; text-decoration-color: #7fbfbf\">[19:55:51] </span><span style=\"color: #808000; text-decoration-color: #808000\">WARNING </span> DataNotFoundAtServiceError for                                                   <a href=\"file:///Users/jdubec/Projects/EvilFlowers/evilflowers-webdav-import/.venv/lib/python3.13/site-packages/isbnlib/dev/webquery.py\" target=\"_blank\"><span style=\"color: #7f7f7f; text-decoration-color: #7f7f7f\">webquery.py</span></a><span style=\"color: #7f7f7f; text-decoration-color: #7f7f7f\">:</span><a href=\"file:///Users/jdubec/Projects/EvilFlowers/evilflowers-webdav-import/.venv/lib/python3.13/site-packages/isbnlib/dev/webquery.py#40\" target=\"_blank\"><span style=\"color: #7f7f7f; text-decoration-color: #7f7f7f\">40</span></a>\n",
       "<span style=\"color: #7fbfbf; text-decoration-color: #7fbfbf\">           </span>         <span style=\"color: #0000ff; text-decoration-color: #0000ff; text-decoration: underline\">http://openlibrary.org/api/books?bibkeys=ISBN:9788089313358&amp;format=json&amp;jscmd=da</span> <span style=\"color: #7f7f7f; text-decoration-color: #7f7f7f\">              </span>\n",
       "<span style=\"color: #7fbfbf; text-decoration-color: #7fbfbf\">           </span>         <span style=\"color: #0000ff; text-decoration-color: #0000ff; text-decoration: underline\">ta</span>                                                                               <span style=\"color: #7f7f7f; text-decoration-color: #7f7f7f\">              </span>\n",
       "</pre>\n"
      ]
     },
     "metadata": {},
     "output_type": "display_data"
    },
    {
     "data": {
      "text/plain": [
       "\u001B[2;36m[19:55:52]\u001B[0m\u001B[2;36m \u001B[0m\u001B[1;7;31mCRITICAL\u001B[0m ISBNLibHTTPError for                                                           \u001B]8;id=477460;file:///Users/jdubec/Projects/EvilFlowers/evilflowers-webdav-import/.venv/lib/python3.13/site-packages/isbnlib/dev/webservice.py\u001B\\\u001B[2mwebservice.py\u001B[0m\u001B]8;;\u001B\\\u001B[2m:\u001B[0m\u001B]8;id=960469;file:///Users/jdubec/Projects/EvilFlowers/evilflowers-webdav-import/.venv/lib/python3.13/site-packages/isbnlib/dev/webservice.py#62\u001B\\\u001B[2m62\u001B[0m\u001B]8;;\u001B\\\n",
       "\u001B[2;36m           \u001B[0m         \u001B[4;94mhttps://en.wikipedia.org/api/rest_v1/data/citation/mediawiki/9788089313358\u001B[0m     \u001B[2m                \u001B[0m\n",
       "\u001B[2;36m           \u001B[0m         with code \u001B[1;36m404\u001B[0m \u001B[1m[\u001B[0mNot Found\u001B[1m]\u001B[0m                                                      \u001B[2m                \u001B[0m\n"
      ],
      "text/html": [
       "<pre style=\"white-space:pre;overflow-x:auto;line-height:normal;font-family:Menlo,'DejaVu Sans Mono',consolas,'Courier New',monospace\"><span style=\"color: #7fbfbf; text-decoration-color: #7fbfbf\">[19:55:52] </span><span style=\"background-color: #800000; font-weight: bold\">CRITICAL</span> ISBNLibHTTPError for                                                           <a href=\"file:///Users/jdubec/Projects/EvilFlowers/evilflowers-webdav-import/.venv/lib/python3.13/site-packages/isbnlib/dev/webservice.py\" target=\"_blank\"><span style=\"color: #7f7f7f; text-decoration-color: #7f7f7f\">webservice.py</span></a><span style=\"color: #7f7f7f; text-decoration-color: #7f7f7f\">:</span><a href=\"file:///Users/jdubec/Projects/EvilFlowers/evilflowers-webdav-import/.venv/lib/python3.13/site-packages/isbnlib/dev/webservice.py#62\" target=\"_blank\"><span style=\"color: #7f7f7f; text-decoration-color: #7f7f7f\">62</span></a>\n",
       "<span style=\"color: #7fbfbf; text-decoration-color: #7fbfbf\">           </span>         <span style=\"color: #0000ff; text-decoration-color: #0000ff; text-decoration: underline\">https://en.wikipedia.org/api/rest_v1/data/citation/mediawiki/9788089313358</span>     <span style=\"color: #7f7f7f; text-decoration-color: #7f7f7f\">                </span>\n",
       "<span style=\"color: #7fbfbf; text-decoration-color: #7fbfbf\">           </span>         with code <span style=\"color: #008080; text-decoration-color: #008080; font-weight: bold\">404</span> <span style=\"font-weight: bold\">[</span>Not Found<span style=\"font-weight: bold\">]</span>                                                      <span style=\"color: #7f7f7f; text-decoration-color: #7f7f7f\">                </span>\n",
       "</pre>\n"
      ]
     },
     "metadata": {},
     "output_type": "display_data"
    },
    {
     "name": "stdout",
     "output_type": "stream",
     "text": [
      "Found 28 out of 134 ISBNs in external databases (20.9%)\n",
      "\n",
      "Updated DataFrame:\n"
     ]
    },
    {
     "data": {
      "text/plain": [
       "                                      dirname  \\\n",
       "0     /Volumes/SJF/CVI_OPACID_SJF_802271853_X   \n",
       "1   /Volumes/SJF/CVI_OPACID_SJF_9788022736244   \n",
       "2   /Volumes/SJF/CVI_OPACID_SJF_9788055313788   \n",
       "3   /Volumes/SJF/CVI_OPACID_SJF_PRUZNOST_1988   \n",
       "4  /Volumes/SJF/CVI_OPACID_SJF_TERMODINAMICKE   \n",
       "\n",
       "                                          title  \\\n",
       "0                        Projektovanie Vozidiel   \n",
       "1  Modelovanie a Simulácie V Dopravnej Technike   \n",
       "2                                   Tenzometria   \n",
       "3         Pružnosť a PEVNOSŤ - Riešené Príklady   \n",
       "4                        Termodynamické Tabulky   \n",
       "\n",
       "                                             authors  \\\n",
       "0                                      [Pavol Hudec]   \n",
       "1                                   [Ľuboš Magdolen]   \n",
       "2  [Dr. h.c. mult. prof. Ing. František TREBUŇA, ...   \n",
       "3            [Prof. Ing. Ján Syč-Milý, CSc.kolektiv]   \n",
       "4                                     [K. Ražnjevič]   \n",
       "\n",
       "                                           publisher           isbn   doi  \\\n",
       "0      Slovenská Technická Universiteta v Bratislave     802271853X  None   \n",
       "1      Slovenská Technická Universiteta v Bratislave  9788022736244  None   \n",
       "2                   Technická Univerzita v Košiciach  9788055313788  None   \n",
       "3  VYDAVATEĽSTVO TECHNICKEJ A EKONOMICKEJ LITERATÚRY     284J023936  None   \n",
       "4  VYDAVATEĽSTVO TECHNICKEJ A EKONOMICKEJ LITERAT...           1975  None   \n",
       "\n",
       "                                             summary  \\\n",
       "0  The text discusses a 2003 book titled \"MOTOROV...   \n",
       "1  This text discusses the importance and methods...   \n",
       "2  The text discusses various strain measurement ...   \n",
       "3  The text discusses various engineering problem...   \n",
       "4  The text contains two tables and a discussion ...   \n",
       "\n",
       "                                         cover_image  \\\n",
       "0  /Volumes/SJF/CVI_OPACID_SJF_802271853_X/Cover/...   \n",
       "1  /Volumes/SJF/CVI_OPACID_SJF_9788022736244/Cove...   \n",
       "2  /Volumes/SJF/CVI_OPACID_SJF_9788055313788/Cove...   \n",
       "3  /Volumes/SJF/CVI_OPACID_SJF_PRUZNOST_1988/Cove...   \n",
       "4  /Volumes/SJF/CVI_OPACID_SJF_TERMODINAMICKE/Cov...   \n",
       "\n",
       "                                            pdf_path  year  isbn_found  \n",
       "0  /Volumes/SJF/CVI_OPACID_SJF_802271853_X/stream...  2003        True  \n",
       "1  /Volumes/SJF/CVI_OPACID_SJF_9788022736244/stre...  2011       False  \n",
       "2  /Volumes/SJF/CVI_OPACID_SJF_9788055313788/stre...  2012       False  \n",
       "3  /Volumes/SJF/CVI_OPACID_SJF_PRUZNOST_1988/stre...  1988       False  \n",
       "4  /Volumes/SJF/CVI_OPACID_SJF_TERMODINAMICKE/str...  None       False  "
      ],
      "text/html": [
       "<div>\n",
       "<style scoped>\n",
       "    .dataframe tbody tr th:only-of-type {\n",
       "        vertical-align: middle;\n",
       "    }\n",
       "\n",
       "    .dataframe tbody tr th {\n",
       "        vertical-align: top;\n",
       "    }\n",
       "\n",
       "    .dataframe thead th {\n",
       "        text-align: right;\n",
       "    }\n",
       "</style>\n",
       "<table border=\"1\" class=\"dataframe\">\n",
       "  <thead>\n",
       "    <tr style=\"text-align: right;\">\n",
       "      <th></th>\n",
       "      <th>dirname</th>\n",
       "      <th>title</th>\n",
       "      <th>authors</th>\n",
       "      <th>publisher</th>\n",
       "      <th>isbn</th>\n",
       "      <th>doi</th>\n",
       "      <th>summary</th>\n",
       "      <th>cover_image</th>\n",
       "      <th>pdf_path</th>\n",
       "      <th>year</th>\n",
       "      <th>isbn_found</th>\n",
       "    </tr>\n",
       "  </thead>\n",
       "  <tbody>\n",
       "    <tr>\n",
       "      <th>0</th>\n",
       "      <td>/Volumes/SJF/CVI_OPACID_SJF_802271853_X</td>\n",
       "      <td>Projektovanie Vozidiel</td>\n",
       "      <td>[Pavol Hudec]</td>\n",
       "      <td>Slovenská Technická Universiteta v Bratislave</td>\n",
       "      <td>802271853X</td>\n",
       "      <td>None</td>\n",
       "      <td>The text discusses a 2003 book titled \"MOTOROV...</td>\n",
       "      <td>/Volumes/SJF/CVI_OPACID_SJF_802271853_X/Cover/...</td>\n",
       "      <td>/Volumes/SJF/CVI_OPACID_SJF_802271853_X/stream...</td>\n",
       "      <td>2003</td>\n",
       "      <td>True</td>\n",
       "    </tr>\n",
       "    <tr>\n",
       "      <th>1</th>\n",
       "      <td>/Volumes/SJF/CVI_OPACID_SJF_9788022736244</td>\n",
       "      <td>Modelovanie a Simulácie V Dopravnej Technike</td>\n",
       "      <td>[Ľuboš Magdolen]</td>\n",
       "      <td>Slovenská Technická Universiteta v Bratislave</td>\n",
       "      <td>9788022736244</td>\n",
       "      <td>None</td>\n",
       "      <td>This text discusses the importance and methods...</td>\n",
       "      <td>/Volumes/SJF/CVI_OPACID_SJF_9788022736244/Cove...</td>\n",
       "      <td>/Volumes/SJF/CVI_OPACID_SJF_9788022736244/stre...</td>\n",
       "      <td>2011</td>\n",
       "      <td>False</td>\n",
       "    </tr>\n",
       "    <tr>\n",
       "      <th>2</th>\n",
       "      <td>/Volumes/SJF/CVI_OPACID_SJF_9788055313788</td>\n",
       "      <td>Tenzometria</td>\n",
       "      <td>[Dr. h.c. mult. prof. Ing. František TREBUŇA, ...</td>\n",
       "      <td>Technická Univerzita v Košiciach</td>\n",
       "      <td>9788055313788</td>\n",
       "      <td>None</td>\n",
       "      <td>The text discusses various strain measurement ...</td>\n",
       "      <td>/Volumes/SJF/CVI_OPACID_SJF_9788055313788/Cove...</td>\n",
       "      <td>/Volumes/SJF/CVI_OPACID_SJF_9788055313788/stre...</td>\n",
       "      <td>2012</td>\n",
       "      <td>False</td>\n",
       "    </tr>\n",
       "    <tr>\n",
       "      <th>3</th>\n",
       "      <td>/Volumes/SJF/CVI_OPACID_SJF_PRUZNOST_1988</td>\n",
       "      <td>Pružnosť a PEVNOSŤ - Riešené Príklady</td>\n",
       "      <td>[Prof. Ing. Ján Syč-Milý, CSc.kolektiv]</td>\n",
       "      <td>VYDAVATEĽSTVO TECHNICKEJ A EKONOMICKEJ LITERATÚRY</td>\n",
       "      <td>284J023936</td>\n",
       "      <td>None</td>\n",
       "      <td>The text discusses various engineering problem...</td>\n",
       "      <td>/Volumes/SJF/CVI_OPACID_SJF_PRUZNOST_1988/Cove...</td>\n",
       "      <td>/Volumes/SJF/CVI_OPACID_SJF_PRUZNOST_1988/stre...</td>\n",
       "      <td>1988</td>\n",
       "      <td>False</td>\n",
       "    </tr>\n",
       "    <tr>\n",
       "      <th>4</th>\n",
       "      <td>/Volumes/SJF/CVI_OPACID_SJF_TERMODINAMICKE</td>\n",
       "      <td>Termodynamické Tabulky</td>\n",
       "      <td>[K. Ražnjevič]</td>\n",
       "      <td>VYDAVATEĽSTVO TECHNICKEJ A EKONOMICKEJ LITERAT...</td>\n",
       "      <td>1975</td>\n",
       "      <td>None</td>\n",
       "      <td>The text contains two tables and a discussion ...</td>\n",
       "      <td>/Volumes/SJF/CVI_OPACID_SJF_TERMODINAMICKE/Cov...</td>\n",
       "      <td>/Volumes/SJF/CVI_OPACID_SJF_TERMODINAMICKE/str...</td>\n",
       "      <td>None</td>\n",
       "      <td>False</td>\n",
       "    </tr>\n",
       "  </tbody>\n",
       "</table>\n",
       "</div>"
      ]
     },
     "execution_count": 17,
     "metadata": {},
     "output_type": "execute_result"
    }
   ],
   "execution_count": 17
  },
  {
   "metadata": {},
   "cell_type": "markdown",
   "source": [
    "## Exporting Cleaned Data\n",
    "\n",
    "Finally, let's export the cleaned data back to a JSON file.\n"
   ],
   "id": "819d95dbc016ac5d"
  },
  {
   "metadata": {
    "ExecuteTime": {
     "end_time": "2025-06-25T17:58:04.718405Z",
     "start_time": "2025-06-25T17:58:04.658345Z"
    }
   },
   "cell_type": "code",
   "source": [
    "# Function to convert DataFrame to JSON-serializable format\n",
    "def df_to_json_records(df):\n",
    "    \"\"\"Convert DataFrame to a list of records suitable for JSON serialization.\"\"\"\n",
    "    records = df.to_dict(orient='records')\n",
    "    return records\n",
    "\n",
    "# Export the cleaned data\n",
    "output_file = Path('../output/progress_cleaned_simplified.json')\n",
    "with open(output_file, 'w', encoding='utf-8') as f:\n",
    "    json.dump(df_to_json_records(df_clean), f, ensure_ascii=False, indent=4)\n",
    "\n",
    "df.to_excel('../output/publications.xlsx')\n",
    "\n",
    "print(f\"Cleaned data exported to {output_file}\")\n"
   ],
   "id": "abf3512a1d19e3f7",
   "outputs": [
    {
     "name": "stdout",
     "output_type": "stream",
     "text": [
      "Cleaned data exported to ../output/progress_cleaned_simplified.json\n"
     ]
    }
   ],
   "execution_count": 21
  },
  {
   "metadata": {},
   "cell_type": "markdown",
   "source": [
    "## Conclusion\n",
    "\n",
    "In this notebook, we've demonstrated a simplified approach to:\n",
    "\n",
    "1. Load and clean metadata from the progress.json file\n",
    "2. Sanitize titles, authors, and publishers\n",
    "3. Clean and validate ISBN and DOI values\n",
    "4. Create a clean DataFrame with single ISBN and DOI columns\n",
    "5. Check ISBNs against external databases\n",
    "6. Fetch missing data for books with valid ISBNs\n",
    "7. Create indicators for ISBNs found in external databases\n",
    "8. Export the cleaned data for further use\n",
    "\n",
    "This simplified approach focuses on the most essential tasks while using tqdm for progress bars and evilflowers_importer classes for validation.\n"
   ],
   "id": "a6f619ea4daa0986"
  }
 ],
 "metadata": {},
 "nbformat": 4,
 "nbformat_minor": 5
}
