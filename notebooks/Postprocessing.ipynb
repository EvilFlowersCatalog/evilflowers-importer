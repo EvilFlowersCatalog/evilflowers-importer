{
 "cells": [
  {
   "metadata": {},
   "cell_type": "markdown",
   "source": "# Publication post-processor",
   "id": "cb539bcc6df2bf79"
  },
  {
   "metadata": {
    "collapsed": true,
    "ExecuteTime": {
     "end_time": "2025-06-24T09:09:29.993285Z",
     "start_time": "2025-06-24T09:09:29.990875Z"
    }
   },
   "cell_type": "code",
   "source": "import pandas as pd",
   "id": "initial_id",
   "outputs": [],
   "execution_count": 4
  },
  {
   "metadata": {
    "ExecuteTime": {
     "end_time": "2025-06-24T09:11:01.353686Z",
     "start_time": "2025-06-24T09:11:01.346344Z"
    }
   },
   "cell_type": "code",
   "source": [
    "df = pd.read_parquet('../output/progress.parquet')\n",
    "df.tail()"
   ],
   "id": "e47c54df495b5b3e",
   "outputs": [
    {
     "data": {
      "text/plain": [
       "                                       dirname                         title  \\\n",
       "129  /Volumes/SJF/CVI_OPACID_SJF_9788089313013  CVI_OPACID_SJF_9788089313013   \n",
       "130  /Volumes/SJF/CVI_OPACID_SJF_9788089313358  CVI_OPACID_SJF_9788089313358   \n",
       "131      /Volumes/SJF/CVI_OPACID_SJF_ZB_uloh_1      CVI_OPACID_SJF_ZB_uloh_1   \n",
       "132      /Volumes/SJF/CVI_OPACID_SJF_ZB_uloh_3      CVI_OPACID_SJF_ZB_uloh_3   \n",
       "133      /Volumes/SJF/CVI_OPACID_SJF_ZB_uloh_4      CVI_OPACID_SJF_ZB_uloh_4   \n",
       "\n",
       "    authors publisher year isbn doi llm_isbn llm_doi summary cover_image  \n",
       "129      []                                                               \n",
       "130      []                                                               \n",
       "131      []                                                               \n",
       "132      []                                                               \n",
       "133      []                                                               "
      ],
      "text/html": [
       "<div>\n",
       "<style scoped>\n",
       "    .dataframe tbody tr th:only-of-type {\n",
       "        vertical-align: middle;\n",
       "    }\n",
       "\n",
       "    .dataframe tbody tr th {\n",
       "        vertical-align: top;\n",
       "    }\n",
       "\n",
       "    .dataframe thead th {\n",
       "        text-align: right;\n",
       "    }\n",
       "</style>\n",
       "<table border=\"1\" class=\"dataframe\">\n",
       "  <thead>\n",
       "    <tr style=\"text-align: right;\">\n",
       "      <th></th>\n",
       "      <th>dirname</th>\n",
       "      <th>title</th>\n",
       "      <th>authors</th>\n",
       "      <th>publisher</th>\n",
       "      <th>year</th>\n",
       "      <th>isbn</th>\n",
       "      <th>doi</th>\n",
       "      <th>llm_isbn</th>\n",
       "      <th>llm_doi</th>\n",
       "      <th>summary</th>\n",
       "      <th>cover_image</th>\n",
       "    </tr>\n",
       "  </thead>\n",
       "  <tbody>\n",
       "    <tr>\n",
       "      <th>129</th>\n",
       "      <td>/Volumes/SJF/CVI_OPACID_SJF_9788089313013</td>\n",
       "      <td>CVI_OPACID_SJF_9788089313013</td>\n",
       "      <td>[]</td>\n",
       "      <td></td>\n",
       "      <td></td>\n",
       "      <td></td>\n",
       "      <td></td>\n",
       "      <td></td>\n",
       "      <td></td>\n",
       "      <td></td>\n",
       "      <td></td>\n",
       "    </tr>\n",
       "    <tr>\n",
       "      <th>130</th>\n",
       "      <td>/Volumes/SJF/CVI_OPACID_SJF_9788089313358</td>\n",
       "      <td>CVI_OPACID_SJF_9788089313358</td>\n",
       "      <td>[]</td>\n",
       "      <td></td>\n",
       "      <td></td>\n",
       "      <td></td>\n",
       "      <td></td>\n",
       "      <td></td>\n",
       "      <td></td>\n",
       "      <td></td>\n",
       "      <td></td>\n",
       "    </tr>\n",
       "    <tr>\n",
       "      <th>131</th>\n",
       "      <td>/Volumes/SJF/CVI_OPACID_SJF_ZB_uloh_1</td>\n",
       "      <td>CVI_OPACID_SJF_ZB_uloh_1</td>\n",
       "      <td>[]</td>\n",
       "      <td></td>\n",
       "      <td></td>\n",
       "      <td></td>\n",
       "      <td></td>\n",
       "      <td></td>\n",
       "      <td></td>\n",
       "      <td></td>\n",
       "      <td></td>\n",
       "    </tr>\n",
       "    <tr>\n",
       "      <th>132</th>\n",
       "      <td>/Volumes/SJF/CVI_OPACID_SJF_ZB_uloh_3</td>\n",
       "      <td>CVI_OPACID_SJF_ZB_uloh_3</td>\n",
       "      <td>[]</td>\n",
       "      <td></td>\n",
       "      <td></td>\n",
       "      <td></td>\n",
       "      <td></td>\n",
       "      <td></td>\n",
       "      <td></td>\n",
       "      <td></td>\n",
       "      <td></td>\n",
       "    </tr>\n",
       "    <tr>\n",
       "      <th>133</th>\n",
       "      <td>/Volumes/SJF/CVI_OPACID_SJF_ZB_uloh_4</td>\n",
       "      <td>CVI_OPACID_SJF_ZB_uloh_4</td>\n",
       "      <td>[]</td>\n",
       "      <td></td>\n",
       "      <td></td>\n",
       "      <td></td>\n",
       "      <td></td>\n",
       "      <td></td>\n",
       "      <td></td>\n",
       "      <td></td>\n",
       "      <td></td>\n",
       "    </tr>\n",
       "  </tbody>\n",
       "</table>\n",
       "</div>"
      ]
     },
     "execution_count": 8,
     "metadata": {},
     "output_type": "execute_result"
    }
   ],
   "execution_count": 8
  },
  {
   "metadata": {
    "ExecuteTime": {
     "end_time": "2025-06-24T09:17:41.463341Z",
     "start_time": "2025-06-24T09:17:41.459454Z"
    }
   },
   "cell_type": "code",
   "source": "clean = df.dropna(subset=['authors'])",
   "id": "b204a7cc2384ef6",
   "outputs": [],
   "execution_count": 18
  },
  {
   "metadata": {},
   "cell_type": "code",
   "outputs": [],
   "execution_count": null,
   "source": "",
   "id": "2f2f42e276c76a3b"
  }
 ],
 "metadata": {
  "kernelspec": {
   "display_name": "Python 3",
   "language": "python",
   "name": "python3"
  },
  "language_info": {
   "codemirror_mode": {
    "name": "ipython",
    "version": 2
   },
   "file_extension": ".py",
   "mimetype": "text/x-python",
   "name": "python",
   "nbconvert_exporter": "python",
   "pygments_lexer": "ipython2",
   "version": "2.7.6"
  }
 },
 "nbformat": 4,
 "nbformat_minor": 5
}
