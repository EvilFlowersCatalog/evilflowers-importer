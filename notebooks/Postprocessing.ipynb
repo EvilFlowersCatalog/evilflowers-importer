{
 "cells": [
  {
   "cell_type": "markdown",
   "id": "cb539bcc6df2bf79",
   "metadata": {},
   "source": [
    "# Publication post-processor"
   ]
  },
  {
   "cell_type": "code",
   "execution_count": 1,
   "id": "initial_id",
   "metadata": {
    "ExecuteTime": {
     "end_time": "2025-06-24T09:53:14.702608Z",
     "start_time": "2025-06-24T09:53:14.255417Z"
    }
   },
   "outputs": [],
   "source": [
    "import pandas as pd"
   ]
  },
  {
   "cell_type": "code",
   "execution_count": 2,
   "id": "e47c54df495b5b3e",
   "metadata": {
    "ExecuteTime": {
     "end_time": "2025-06-24T09:53:15.369448Z",
     "start_time": "2025-06-24T09:53:15.251248Z"
    }
   },
   "outputs": [
    {
     "data": {
      "text/html": [
       "<div>\n",
       "<style scoped>\n",
       "    .dataframe tbody tr th:only-of-type {\n",
       "        vertical-align: middle;\n",
       "    }\n",
       "\n",
       "    .dataframe tbody tr th {\n",
       "        vertical-align: top;\n",
       "    }\n",
       "\n",
       "    .dataframe thead th {\n",
       "        text-align: right;\n",
       "    }\n",
       "</style>\n",
       "<table border=\"1\" class=\"dataframe\">\n",
       "  <thead>\n",
       "    <tr style=\"text-align: right;\">\n",
       "      <th></th>\n",
       "      <th>dirname</th>\n",
       "      <th>title</th>\n",
       "      <th>authors</th>\n",
       "      <th>publisher</th>\n",
       "      <th>year</th>\n",
       "      <th>isbn</th>\n",
       "      <th>doi</th>\n",
       "      <th>llm_isbn</th>\n",
       "      <th>llm_doi</th>\n",
       "      <th>summary</th>\n",
       "      <th>cover_image</th>\n",
       "    </tr>\n",
       "    <tr>\n",
       "      <th>index</th>\n",
       "      <th></th>\n",
       "      <th></th>\n",
       "      <th></th>\n",
       "      <th></th>\n",
       "      <th></th>\n",
       "      <th></th>\n",
       "      <th></th>\n",
       "      <th></th>\n",
       "      <th></th>\n",
       "      <th></th>\n",
       "      <th></th>\n",
       "    </tr>\n",
       "  </thead>\n",
       "  <tbody>\n",
       "    <tr>\n",
       "      <th>129</th>\n",
       "      <td>/Volumes/SJF/CVI_OPACID_SJF_9788089313013</td>\n",
       "      <td>CVI_OPACID_SJF_9788089313013</td>\n",
       "      <td>[]</td>\n",
       "      <td></td>\n",
       "      <td></td>\n",
       "      <td></td>\n",
       "      <td></td>\n",
       "      <td></td>\n",
       "      <td></td>\n",
       "      <td></td>\n",
       "      <td></td>\n",
       "    </tr>\n",
       "    <tr>\n",
       "      <th>130</th>\n",
       "      <td>/Volumes/SJF/CVI_OPACID_SJF_9788089313358</td>\n",
       "      <td>CVI_OPACID_SJF_9788089313358</td>\n",
       "      <td>[]</td>\n",
       "      <td></td>\n",
       "      <td></td>\n",
       "      <td></td>\n",
       "      <td></td>\n",
       "      <td></td>\n",
       "      <td></td>\n",
       "      <td></td>\n",
       "      <td></td>\n",
       "    </tr>\n",
       "    <tr>\n",
       "      <th>131</th>\n",
       "      <td>/Volumes/SJF/CVI_OPACID_SJF_ZB_uloh_1</td>\n",
       "      <td>CVI_OPACID_SJF_ZB_uloh_1</td>\n",
       "      <td>[]</td>\n",
       "      <td></td>\n",
       "      <td></td>\n",
       "      <td></td>\n",
       "      <td></td>\n",
       "      <td></td>\n",
       "      <td></td>\n",
       "      <td></td>\n",
       "      <td></td>\n",
       "    </tr>\n",
       "    <tr>\n",
       "      <th>132</th>\n",
       "      <td>/Volumes/SJF/CVI_OPACID_SJF_ZB_uloh_3</td>\n",
       "      <td>CVI_OPACID_SJF_ZB_uloh_3</td>\n",
       "      <td>[]</td>\n",
       "      <td></td>\n",
       "      <td></td>\n",
       "      <td></td>\n",
       "      <td></td>\n",
       "      <td></td>\n",
       "      <td></td>\n",
       "      <td></td>\n",
       "      <td></td>\n",
       "    </tr>\n",
       "    <tr>\n",
       "      <th>133</th>\n",
       "      <td>/Volumes/SJF/CVI_OPACID_SJF_ZB_uloh_4</td>\n",
       "      <td>CVI_OPACID_SJF_ZB_uloh_4</td>\n",
       "      <td>[]</td>\n",
       "      <td></td>\n",
       "      <td></td>\n",
       "      <td></td>\n",
       "      <td></td>\n",
       "      <td></td>\n",
       "      <td></td>\n",
       "      <td></td>\n",
       "      <td></td>\n",
       "    </tr>\n",
       "  </tbody>\n",
       "</table>\n",
       "</div>"
      ],
      "text/plain": [
       "                                         dirname  \\\n",
       "index                                              \n",
       "129    /Volumes/SJF/CVI_OPACID_SJF_9788089313013   \n",
       "130    /Volumes/SJF/CVI_OPACID_SJF_9788089313358   \n",
       "131        /Volumes/SJF/CVI_OPACID_SJF_ZB_uloh_1   \n",
       "132        /Volumes/SJF/CVI_OPACID_SJF_ZB_uloh_3   \n",
       "133        /Volumes/SJF/CVI_OPACID_SJF_ZB_uloh_4   \n",
       "\n",
       "                              title authors publisher year isbn doi llm_isbn  \\\n",
       "index                                                                          \n",
       "129    CVI_OPACID_SJF_9788089313013      []                                    \n",
       "130    CVI_OPACID_SJF_9788089313358      []                                    \n",
       "131        CVI_OPACID_SJF_ZB_uloh_1      []                                    \n",
       "132        CVI_OPACID_SJF_ZB_uloh_3      []                                    \n",
       "133        CVI_OPACID_SJF_ZB_uloh_4      []                                    \n",
       "\n",
       "      llm_doi summary cover_image  \n",
       "index                              \n",
       "129                                \n",
       "130                                \n",
       "131                                \n",
       "132                                \n",
       "133                                "
      ]
     },
     "execution_count": 2,
     "metadata": {},
     "output_type": "execute_result"
    }
   ],
   "source": [
    "df = pd.read_json('../output/progress.json', orient=\"records\")\n",
    "df.tail()"
   ]
  },
  {
   "cell_type": "code",
   "execution_count": 3,
   "id": "225b27fd-9666-4cbe-819f-8872d361da46",
   "metadata": {},
   "outputs": [],
   "source": [
    "df['authors'] = df['authors'].apply(lambda x: '|'.join(x) if isinstance(x, list) else str(x))"
   ]
  },
  {
   "cell_type": "code",
   "execution_count": 4,
   "id": "b204a7cc2384ef6",
   "metadata": {
    "ExecuteTime": {
     "end_time": "2025-06-24T09:54:22.501340Z",
     "start_time": "2025-06-24T09:54:22.395765Z"
    }
   },
   "outputs": [],
   "source": [
    "df.dropna(subset=['authors']).to_json('../output/progress.json', orient=\"records\")"
   ]
  },
  {
   "cell_type": "code",
   "execution_count": null,
   "id": "2f2f42e276c76a3b",
   "metadata": {},
   "outputs": [],
   "source": []
  }
 ],
 "metadata": {
  "kernelspec": {
   "display_name": "Python 3 (ipykernel)",
   "language": "python",
   "name": "python3"
  },
  "language_info": {
   "codemirror_mode": {
    "name": "ipython",
    "version": 3
   },
   "file_extension": ".py",
   "mimetype": "text/x-python",
   "name": "python",
   "nbconvert_exporter": "python",
   "pygments_lexer": "ipython3",
   "version": "3.13.0"
  }
 },
 "nbformat": 4,
 "nbformat_minor": 5
}
